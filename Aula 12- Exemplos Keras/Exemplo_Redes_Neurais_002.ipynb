{
  "nbformat": 4,
  "nbformat_minor": 0,
  "metadata": {
    "colab": {
      "provenance": []
    },
    "kernelspec": {
      "name": "python3",
      "display_name": "Python 3"
    },
    "language_info": {
      "name": "python"
    }
  },
  "cells": [
    {
      "cell_type": "code",
      "source": [
        "# Importando as bibliotecas para trabalhar com redes neurais\n",
        "from keras.models import Sequential\n",
        "from keras.layers import Dense"
      ],
      "metadata": {
        "id": "47WTtMRQ3-i4"
      },
      "execution_count": null,
      "outputs": []
    },
    {
      "cell_type": "code",
      "execution_count": null,
      "metadata": {
        "id": "33tgILzD3523"
      },
      "outputs": [],
      "source": [
        "# Importando as bibliotecas necessárias\n",
        "import numpy as np\n",
        "import pandas as pd\n",
        "\n",
        "# Dataset Iris\n",
        "from sklearn.datasets import load_iris\n",
        "\n",
        "# Ferramentas de pré processamento\n",
        "from sklearn.model_selection import train_test_split\n",
        "from sklearn.preprocessing import OneHotEncoder\n",
        "from sklearn.preprocessing import StandardScaler"
      ]
    },
    {
      "cell_type": "code",
      "source": [
        "# Carregando o conjunto de dados Iris\n",
        "iris = load_iris()\n",
        "X = iris.data\n",
        "y = iris.target"
      ],
      "metadata": {
        "id": "78Meefm04ah3"
      },
      "execution_count": null,
      "outputs": []
    },
    {
      "cell_type": "code",
      "source": [
        "y"
      ],
      "metadata": {
        "id": "8mDE_EjJoDmz"
      },
      "execution_count": null,
      "outputs": []
    },
    {
      "cell_type": "code",
      "source": [
        "# Pré-processamento dos dados\n",
        "scaler = StandardScaler()\n",
        "X_scaled = scaler.fit_transform(X)"
      ],
      "metadata": {
        "id": "E0b3Zfnb4g5F"
      },
      "execution_count": null,
      "outputs": []
    },
    {
      "cell_type": "code",
      "source": [
        "X_scaled"
      ],
      "metadata": {
        "id": "FZVbDovxoPEG"
      },
      "execution_count": null,
      "outputs": []
    },
    {
      "cell_type": "code",
      "source": [
        "# Dividindo em conjunto de treinamento e teste\n",
        "X_train, X_test, y_train, y_test = train_test_split(X_scaled, y, test_size=0.2, random_state=42)"
      ],
      "metadata": {
        "id": "uKuwLOZT4kaD"
      },
      "execution_count": null,
      "outputs": []
    },
    {
      "cell_type": "code",
      "source": [
        "y"
      ],
      "metadata": {
        "id": "OpngNk8VpTx6"
      },
      "execution_count": null,
      "outputs": []
    },
    {
      "cell_type": "code",
      "source": [
        "# Codificando as variáveis de saída (target)\n",
        "encoder = OneHotEncoder(categories='auto')\n",
        "y_train_encoded = encoder.fit_transform(y_train.reshape(-1, 1)).toarray()\n",
        "y_test_encoded = encoder.transform(y_test.reshape(-1, 1)).toarray()"
      ],
      "metadata": {
        "id": "H3Q4022T4nd4"
      },
      "execution_count": null,
      "outputs": []
    },
    {
      "cell_type": "code",
      "source": [
        "# Criando o modelo de rede neural\n",
        "model = Sequential()\n",
        "\n",
        "# A camada de entrada terá:\n",
        "# A primeira camada oculta terá:\n",
        "model.add(Dense(___, input_shape=(___,), activation=____))\n",
        "\n",
        "# A segunda camada terá:\n",
        "model.add(Dense(___, activation=___))\n",
        "\n",
        "# A camada de saída terá:\n",
        "model.add(Dense(___, activation=___))"
      ],
      "metadata": {
        "id": "iKNayFrB4sXQ"
      },
      "execution_count": null,
      "outputs": []
    },
    {
      "cell_type": "code",
      "source": [
        "# Compilando o modelo\n",
        "# optmizer ---> Otimizador\n",
        "# loss ---> Função de custo (Loss Function)\n",
        "\n",
        "model.compile(optimizer='adam', loss='categorical_crossentropy', metrics=['accuracy'])"
      ],
      "metadata": {
        "id": "3Tmg7DO24vrm"
      },
      "execution_count": null,
      "outputs": []
    },
    {
      "cell_type": "code",
      "source": [
        "# Treinando o modelo\n",
        "# Epochs ---> épocas de treinamento\n",
        "model.fit(X_train, y_train_encoded, epochs=100)"
      ],
      "metadata": {
        "collapsed": true,
        "id": "CFa_Ojkr54X0"
      },
      "execution_count": null,
      "outputs": []
    },
    {
      "cell_type": "code",
      "source": [
        "# Avaliando o modelo\n",
        "loss, accuracy = model.evaluate(X_test, y_test_encoded)\n",
        "print(f'Acurácia do modelo: {accuracy}')"
      ],
      "metadata": {
        "id": "clBNIYU04YKO"
      },
      "execution_count": null,
      "outputs": []
    }
  ]
}
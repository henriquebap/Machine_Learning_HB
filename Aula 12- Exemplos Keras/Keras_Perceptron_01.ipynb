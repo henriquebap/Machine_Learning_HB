{
  "nbformat": 4,
  "nbformat_minor": 0,
  "metadata": {
    "colab": {
      "provenance": []
    },
    "kernelspec": {
      "name": "python3",
      "display_name": "Python 3"
    },
    "language_info": {
      "name": "python"
    }
  },
  "cells": [
    {
      "cell_type": "markdown",
      "source": [
        "Criando um Perceptron com o Keras"
      ],
      "metadata": {
        "id": "PBRPIMRWyf5E"
      }
    },
    {
      "cell_type": "code",
      "execution_count": null,
      "metadata": {
        "id": "LsUer_jItKBf"
      },
      "outputs": [],
      "source": [
        "# Importando o keras\n",
        "from tensorflow import keras\n",
        "\n",
        "# Documentação: https://keras.io/"
      ]
    },
    {
      "cell_type": "code",
      "source": [
        "# Utilizando o keras.Sequential() para criar as camadas da nossa rede neural\n",
        "# A camada Dense permite os cálculos básicos do neurônio (soma, função de ativação, cálculo dos pesos e do bias etc)\n",
        "# Neste exemplo, usaremos apenas um neurônio\n",
        "\n",
        "# O parâmetro unit configura o número de neurônios\n",
        "# O parâmetro input_shape define a quantidade de entradas\n",
        "# O parâmetro name permite a atribuição de um nome para a rede neural\n",
        "\n",
        "# Vamos usar o dataset Iris como exemplo\n",
        "\n",
        "modelo = keras.Sequential([keras.layers.Dense(units=1, input_shape=[2], name='perceptron')])"
      ],
      "metadata": {
        "id": "LKUpruzotM-n"
      },
      "execution_count": null,
      "outputs": []
    },
    {
      "cell_type": "code",
      "source": [
        "# O método summary retorna os parâmetros do nosso neurônio...\n",
        "modelo.summary()"
      ],
      "metadata": {
        "id": "U5n4EwjzuzkQ"
      },
      "execution_count": null,
      "outputs": []
    },
    {
      "cell_type": "code",
      "source": [
        "# O método summary retorna os mesmos parâmetros, mas de forma gráfica...\n",
        "keras.utils.plot_model(modelo, show_shapes=True)"
      ],
      "metadata": {
        "id": "mOmQKCJWvIVs"
      },
      "execution_count": null,
      "outputs": []
    },
    {
      "cell_type": "code",
      "source": [
        "# Para visualizar os pesos e viés (bias) inicializados no modelo, usamos o método layers com o método get_weights...\n",
        "modelo.layers[0].get_weights()"
      ],
      "metadata": {
        "id": "TDxp_-3Hvf7U"
      },
      "execution_count": null,
      "outputs": []
    },
    {
      "cell_type": "code",
      "source": [
        "pesos, bias = modelo.layers[0].get_weights()\n",
        "pesos.shape"
      ],
      "metadata": {
        "id": "Wuf43RuCwEm9"
      },
      "execution_count": null,
      "outputs": []
    },
    {
      "cell_type": "code",
      "source": [
        "pesos"
      ],
      "metadata": {
        "id": "t2QYcbZ1wiTD"
      },
      "execution_count": null,
      "outputs": []
    },
    {
      "cell_type": "code",
      "source": [
        "bias"
      ],
      "metadata": {
        "id": "58H7cmpXwj26"
      },
      "execution_count": null,
      "outputs": []
    },
    {
      "cell_type": "code",
      "source": [
        "# Inicializando os valores de pesos e bias com o método kernel_initializer e bias_initializer\n",
        "\n",
        "# No exemplo abaixo, inicializamos os pesos randomicamente e o bias igual a 1.\n",
        "modelo = keras.Sequential([keras.layers.Dense(units=1, input_shape=[2], name='perceptron',\n",
        "                                              kernel_initializer = keras.initializers.RandomNormal(),\n",
        "                                              bias_initializer = keras.initializers.Ones())])\n",
        "\n",
        "# Documentação:\n",
        "# https://www.tensorflow.org/api_docs/python/tf/keras/initializers\n"
      ],
      "metadata": {
        "id": "qSIh3Jdwwlwi"
      },
      "execution_count": null,
      "outputs": []
    },
    {
      "cell_type": "code",
      "source": [
        "pesos, bias = modelo.layers[0].get_weights()\n",
        "pesos, bias"
      ],
      "metadata": {
        "id": "ZFcoBL_lxU1M"
      },
      "execution_count": null,
      "outputs": []
    },
    {
      "cell_type": "markdown",
      "source": [
        "Multilayer Perceptron"
      ],
      "metadata": {
        "id": "GUuuxc4Wyab9"
      }
    },
    {
      "cell_type": "code",
      "source": [],
      "metadata": {
        "id": "2cYmnFPvxamr"
      },
      "execution_count": null,
      "outputs": []
    }
  ]
}
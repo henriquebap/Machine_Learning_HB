{
  "nbformat": 4,
  "nbformat_minor": 0,
  "metadata": {
    "colab": {
      "provenance": [],
      "authorship_tag": "ABX9TyMfog/fGOvpSFgNY/GjUHFR",
      "include_colab_link": true
    },
    "kernelspec": {
      "name": "python3",
      "display_name": "Python 3"
    },
    "language_info": {
      "name": "python"
    }
  },
  "cells": [
    {
      "cell_type": "markdown",
      "metadata": {
        "id": "view-in-github",
        "colab_type": "text"
      },
      "source": [
        "<a href=\"https://colab.research.google.com/github/henriquebap/Machine_Learning_HB/blob/main/GYMBUDDY-IA/MLV1_GYMBUDDY_CL.ipynb\" target=\"_parent\"><img src=\"https://colab.research.google.com/assets/colab-badge.svg\" alt=\"Open In Colab\"/></a>"
      ]
    },
    {
      "cell_type": "markdown",
      "source": [
        "# Introducao ao Modelo de Recomendação de Treino e Dieta\n",
        "Neste projeto, desenvolvemos um modelo de Machine Learning para um aplicativo de academia que recomenda treinos e dietas personalizados com base nas informações dos usuários. A seguir, apresentamos o passo a passo detalhado do desenvolvimento e implementação do modelo.\n",
        "\n",
        "---\n",
        "## 1. Coleta e Pré-processamento dos Dados\n",
        "- Coleta dos Dados:\n",
        "  - Esta Primeira versao do modelo esta usando dados gerados por inteligencias artificiais [ChatGPT](https://chatgpt.com/?oai-dm=1) [Gemini](https://gemini.google.com/app) e [Copilot](https://copilot.microsoft.com/)\n",
        "  - Contem Informacoes sobre Nome, Idade, Sexo, Altura, Ativa ou nao na academia, Peso, Tipo de Corpo, Condicao de Deficiencia\n",
        "  - Calculamos o IMC e geramos se esta em um condicao sobrepeso ou nao.\n",
        "- Pré-processamento dos Dados:\n",
        "  - Limpeza e tratamento de valores ausentes\n",
        "  - Transformação de variáveis categóricas, como tipo de corpo, usando codificação numérica.\n",
        "  - Normalização de variáveis numéricas, como altura, peso e IMC, para garantir que todas as características tenham a mesma escala.\n",
        "---\n",
        "## 2. Engenharia de Recursos e Criação do Alvo\n",
        "- Criação do Alvo:\n",
        "  - Definição de objetivos de treino com base no IMC e na condição de deficiência dos usuários:\n",
        "    - Treino de Força para IMC entre 18,5 e 24,9.\n",
        "    - Treino de Perda de Peso para usuários com sobrepeso.\n",
        "    - Treino Especial para Deficientes para usuários com condição de deficiência.\n",
        "    - Treino Ganho de Massa para pessoas com o IMC abaixo de 18,5\n",
        "- Engenharia de Recursos:\n",
        "  - Criação de novos recursos derivados, como índice de massa corporal (IMC) e classificação de sobrepeso.\n",
        "---\n",
        "## 3. Modelagem de Machine Learning\n",
        "- Seleção de Algoritmo:\n",
        "  - Foram treinamos 3 algoritmos de Machine Learning e 1 Rede Neural Artificial\n",
        "    - RandomForestClassifier\n",
        "    - DecisionTreeClassifier\n",
        "    - SVC (Support Vector Machines)\n",
        "  - Rede Neural\n",
        "    - Keras\n",
        "- Treinamento do Modelo:\n",
        "  - Divisão dos dados em conjuntos de treinamento e teste.\n",
        "  - Treinamento do modelo usando o conjunto de treinamento para prever os objetivos de treino dos usuários.\n",
        "- Avaliação do Modelo:\n",
        "  - Avaliação da precisão do modelo usando métricas como acurácia, precisão, recall e F1-score.\n",
        "---\n",
        "## 4. Implementação do Modelo\n",
        "- Previsão de Novos Dados:\n",
        "  - Utilização do modelo treinado para prever os objetivos de treino de novos dados.\n",
        "### Integração com o ChatGPT:\n",
        "  - Para integrar o modelo com a API do ChatGPT da OpenAI, é necessário utilizar a chave da API fornecida pelo OpenAI. A chave da API é essencial para autenticar suas solicitações à API e obter respostas do modelo.\n",
        "  - Geração de mensagens de recomendação de treino e dieta com base nas previsões do modelo.\n",
        "  - Envio das mensagens para a API do ChatGPT para interação com os usuários finais.\n",
        "### Chave da **API** do OpenAI:\n",
        "- Para utilizar a API do OpenAI, você precisará de uma chave de API válida. Você pode obter sua chave da API ao se inscrever no OpenAI e criar um projeto de integração na plataforma. Para mais informações, visite o site do OpenAI em [OpenAI Platform.](https://openai.com/)\n",
        "  \n",
        "---\n",
        "## 5. Considerações Finais e Próximos Passos\n",
        "- Considerações Finais:\n",
        "  - Analisar e Refletir sobre possiveis melhorias e limitacoes encontradas no modelo durante o desenvolvimento\n",
        "- Próximos Passos:\n",
        "  - Expansão do modelo para incluir mais variáveis e dados.\n",
        "  - Desenvolver a API com o GPT e os inputs e outputs\n",
        "  - Desenvolver o alvo e os seus parametros para a classificacao\n",
        "  - Melhoria da interface do usuário e da experiência do usuário final.\n",
        "---\n",
        "## Contato\n",
        "LinkedIn: [Henrique Baptista](https://www.linkedin.com/in/henrique-baptista777/)\n",
        "\n",
        "GitHub: [henriquebap](https://github.com/henriquebap)\n",
        "\n",
        "Email: henriquebaptista2003@gmail.com\n",
        "\n",
        "**Para mais informações ou para entrar em contato, sinta-se à vontade para usar os links acima.**"
      ],
      "metadata": {
        "id": "mPUW7_h_G3Ti"
      }
    },
    {
      "cell_type": "markdown",
      "source": [
        "# Imports"
      ],
      "metadata": {
        "id": "Odrud5Ol2zqU"
      }
    },
    {
      "cell_type": "code",
      "execution_count": 110,
      "metadata": {
        "id": "mDvRJFN90sUT"
      },
      "outputs": [],
      "source": [
        "import pandas as pd\n",
        "from sklearn.model_selection import train_test_split\n",
        "from sklearn.ensemble import RandomForestClassifier\n",
        "from sklearn.metrics import accuracy_score\n",
        "from sklearn.neighbors import KNeighborsClassifier\n",
        "from sklearn.metrics import accuracy_score\n",
        "from sklearn.svm import SVC\n",
        "from sklearn.tree import DecisionTreeClassifier\n",
        "from sklearn.metrics import roc_curve\n",
        "from sklearn.metrics import recall_score, confusion_matrix, precision_score, f1_score, accuracy_score, classification_report\n",
        "import matplotlib.pyplot as plt\n",
        "import plotly.express as px\n",
        "import seaborn as sns\n",
        "import numpy as np\n",
        "from sklearn.svm import SVC\n",
        "from sklearn.preprocessing import StandardScaler\n",
        "from sklearn.pipeline import Pipeline\n",
        "from sklearn.model_selection import train_test_split\n",
        "from sklearn.tree import DecisionTreeClassifier\n",
        "from sklearn.metrics import accuracy_score, classification_report\n",
        "from sklearn.ensemble import RandomForestClassifier\n",
        "import tensorflow as tf\n",
        "from tensorflow.keras.models import Sequential\n",
        "from tensorflow.keras.layers import Dense, Dropout\n",
        "from sklearn.preprocessing import LabelEncoder\n",
        "from sklearn.preprocessing import StandardScaler\n",
        "from sklearn.model_selection import train_test_split\n",
        "import requests\n",
        "import json\n",
        "import time"
      ]
    },
    {
      "cell_type": "markdown",
      "source": [
        "# Dataset Coleta de dados"
      ],
      "metadata": {
        "id": "dvF8-Nf_NolW"
      }
    },
    {
      "cell_type": "code",
      "source": [
        "dataframe = pd.read_csv(\"/content/datagpt2.csv\")"
      ],
      "metadata": {
        "id": "6WGB8I3x3rd3"
      },
      "execution_count": 2,
      "outputs": []
    },
    {
      "cell_type": "code",
      "source": [
        "dataframe.head()"
      ],
      "metadata": {
        "colab": {
          "base_uri": "https://localhost:8080/",
          "height": 206
        },
        "id": "4gFp4BN03B1v",
        "outputId": "83dc28d9-c7fe-41f1-de56-cb6fd8f47af1"
      },
      "execution_count": 3,
      "outputs": [
        {
          "output_type": "execute_result",
          "data": {
            "text/plain": [
              "       Nome  Idade Sexo  Treina  Altura  Peso Tipo de Corpo  Deficiente\n",
              "0     Maria     28    F    True    1.65    55     Mesomorfo       False\n",
              "1      João     35    M    True    1.80    85     Endomorfo       False\n",
              "2       Ana     22    F    True    1.70    60     Ectomorfo        True\n",
              "3     Pedro     30    M   False    1.75    70     Mesomorfo       False\n",
              "4  Carolina     40    F    True    1.60    70     Endomorfo       False"
            ],
            "text/html": [
              "\n",
              "  <div id=\"df-fac702a8-c007-47e9-9712-3cdc5686835b\" class=\"colab-df-container\">\n",
              "    <div>\n",
              "<style scoped>\n",
              "    .dataframe tbody tr th:only-of-type {\n",
              "        vertical-align: middle;\n",
              "    }\n",
              "\n",
              "    .dataframe tbody tr th {\n",
              "        vertical-align: top;\n",
              "    }\n",
              "\n",
              "    .dataframe thead th {\n",
              "        text-align: right;\n",
              "    }\n",
              "</style>\n",
              "<table border=\"1\" class=\"dataframe\">\n",
              "  <thead>\n",
              "    <tr style=\"text-align: right;\">\n",
              "      <th></th>\n",
              "      <th>Nome</th>\n",
              "      <th>Idade</th>\n",
              "      <th>Sexo</th>\n",
              "      <th>Treina</th>\n",
              "      <th>Altura</th>\n",
              "      <th>Peso</th>\n",
              "      <th>Tipo de Corpo</th>\n",
              "      <th>Deficiente</th>\n",
              "    </tr>\n",
              "  </thead>\n",
              "  <tbody>\n",
              "    <tr>\n",
              "      <th>0</th>\n",
              "      <td>Maria</td>\n",
              "      <td>28</td>\n",
              "      <td>F</td>\n",
              "      <td>True</td>\n",
              "      <td>1.65</td>\n",
              "      <td>55</td>\n",
              "      <td>Mesomorfo</td>\n",
              "      <td>False</td>\n",
              "    </tr>\n",
              "    <tr>\n",
              "      <th>1</th>\n",
              "      <td>João</td>\n",
              "      <td>35</td>\n",
              "      <td>M</td>\n",
              "      <td>True</td>\n",
              "      <td>1.80</td>\n",
              "      <td>85</td>\n",
              "      <td>Endomorfo</td>\n",
              "      <td>False</td>\n",
              "    </tr>\n",
              "    <tr>\n",
              "      <th>2</th>\n",
              "      <td>Ana</td>\n",
              "      <td>22</td>\n",
              "      <td>F</td>\n",
              "      <td>True</td>\n",
              "      <td>1.70</td>\n",
              "      <td>60</td>\n",
              "      <td>Ectomorfo</td>\n",
              "      <td>True</td>\n",
              "    </tr>\n",
              "    <tr>\n",
              "      <th>3</th>\n",
              "      <td>Pedro</td>\n",
              "      <td>30</td>\n",
              "      <td>M</td>\n",
              "      <td>False</td>\n",
              "      <td>1.75</td>\n",
              "      <td>70</td>\n",
              "      <td>Mesomorfo</td>\n",
              "      <td>False</td>\n",
              "    </tr>\n",
              "    <tr>\n",
              "      <th>4</th>\n",
              "      <td>Carolina</td>\n",
              "      <td>40</td>\n",
              "      <td>F</td>\n",
              "      <td>True</td>\n",
              "      <td>1.60</td>\n",
              "      <td>70</td>\n",
              "      <td>Endomorfo</td>\n",
              "      <td>False</td>\n",
              "    </tr>\n",
              "  </tbody>\n",
              "</table>\n",
              "</div>\n",
              "    <div class=\"colab-df-buttons\">\n",
              "\n",
              "  <div class=\"colab-df-container\">\n",
              "    <button class=\"colab-df-convert\" onclick=\"convertToInteractive('df-fac702a8-c007-47e9-9712-3cdc5686835b')\"\n",
              "            title=\"Convert this dataframe to an interactive table.\"\n",
              "            style=\"display:none;\">\n",
              "\n",
              "  <svg xmlns=\"http://www.w3.org/2000/svg\" height=\"24px\" viewBox=\"0 -960 960 960\">\n",
              "    <path d=\"M120-120v-720h720v720H120Zm60-500h600v-160H180v160Zm220 220h160v-160H400v160Zm0 220h160v-160H400v160ZM180-400h160v-160H180v160Zm440 0h160v-160H620v160ZM180-180h160v-160H180v160Zm440 0h160v-160H620v160Z\"/>\n",
              "  </svg>\n",
              "    </button>\n",
              "\n",
              "  <style>\n",
              "    .colab-df-container {\n",
              "      display:flex;\n",
              "      gap: 12px;\n",
              "    }\n",
              "\n",
              "    .colab-df-convert {\n",
              "      background-color: #E8F0FE;\n",
              "      border: none;\n",
              "      border-radius: 50%;\n",
              "      cursor: pointer;\n",
              "      display: none;\n",
              "      fill: #1967D2;\n",
              "      height: 32px;\n",
              "      padding: 0 0 0 0;\n",
              "      width: 32px;\n",
              "    }\n",
              "\n",
              "    .colab-df-convert:hover {\n",
              "      background-color: #E2EBFA;\n",
              "      box-shadow: 0px 1px 2px rgba(60, 64, 67, 0.3), 0px 1px 3px 1px rgba(60, 64, 67, 0.15);\n",
              "      fill: #174EA6;\n",
              "    }\n",
              "\n",
              "    .colab-df-buttons div {\n",
              "      margin-bottom: 4px;\n",
              "    }\n",
              "\n",
              "    [theme=dark] .colab-df-convert {\n",
              "      background-color: #3B4455;\n",
              "      fill: #D2E3FC;\n",
              "    }\n",
              "\n",
              "    [theme=dark] .colab-df-convert:hover {\n",
              "      background-color: #434B5C;\n",
              "      box-shadow: 0px 1px 3px 1px rgba(0, 0, 0, 0.15);\n",
              "      filter: drop-shadow(0px 1px 2px rgba(0, 0, 0, 0.3));\n",
              "      fill: #FFFFFF;\n",
              "    }\n",
              "  </style>\n",
              "\n",
              "    <script>\n",
              "      const buttonEl =\n",
              "        document.querySelector('#df-fac702a8-c007-47e9-9712-3cdc5686835b button.colab-df-convert');\n",
              "      buttonEl.style.display =\n",
              "        google.colab.kernel.accessAllowed ? 'block' : 'none';\n",
              "\n",
              "      async function convertToInteractive(key) {\n",
              "        const element = document.querySelector('#df-fac702a8-c007-47e9-9712-3cdc5686835b');\n",
              "        const dataTable =\n",
              "          await google.colab.kernel.invokeFunction('convertToInteractive',\n",
              "                                                    [key], {});\n",
              "        if (!dataTable) return;\n",
              "\n",
              "        const docLinkHtml = 'Like what you see? Visit the ' +\n",
              "          '<a target=\"_blank\" href=https://colab.research.google.com/notebooks/data_table.ipynb>data table notebook</a>'\n",
              "          + ' to learn more about interactive tables.';\n",
              "        element.innerHTML = '';\n",
              "        dataTable['output_type'] = 'display_data';\n",
              "        await google.colab.output.renderOutput(dataTable, element);\n",
              "        const docLink = document.createElement('div');\n",
              "        docLink.innerHTML = docLinkHtml;\n",
              "        element.appendChild(docLink);\n",
              "      }\n",
              "    </script>\n",
              "  </div>\n",
              "\n",
              "\n",
              "<div id=\"df-822dc106-a827-4b93-ad6c-ce716a56287e\">\n",
              "  <button class=\"colab-df-quickchart\" onclick=\"quickchart('df-822dc106-a827-4b93-ad6c-ce716a56287e')\"\n",
              "            title=\"Suggest charts\"\n",
              "            style=\"display:none;\">\n",
              "\n",
              "<svg xmlns=\"http://www.w3.org/2000/svg\" height=\"24px\"viewBox=\"0 0 24 24\"\n",
              "     width=\"24px\">\n",
              "    <g>\n",
              "        <path d=\"M19 3H5c-1.1 0-2 .9-2 2v14c0 1.1.9 2 2 2h14c1.1 0 2-.9 2-2V5c0-1.1-.9-2-2-2zM9 17H7v-7h2v7zm4 0h-2V7h2v10zm4 0h-2v-4h2v4z\"/>\n",
              "    </g>\n",
              "</svg>\n",
              "  </button>\n",
              "\n",
              "<style>\n",
              "  .colab-df-quickchart {\n",
              "      --bg-color: #E8F0FE;\n",
              "      --fill-color: #1967D2;\n",
              "      --hover-bg-color: #E2EBFA;\n",
              "      --hover-fill-color: #174EA6;\n",
              "      --disabled-fill-color: #AAA;\n",
              "      --disabled-bg-color: #DDD;\n",
              "  }\n",
              "\n",
              "  [theme=dark] .colab-df-quickchart {\n",
              "      --bg-color: #3B4455;\n",
              "      --fill-color: #D2E3FC;\n",
              "      --hover-bg-color: #434B5C;\n",
              "      --hover-fill-color: #FFFFFF;\n",
              "      --disabled-bg-color: #3B4455;\n",
              "      --disabled-fill-color: #666;\n",
              "  }\n",
              "\n",
              "  .colab-df-quickchart {\n",
              "    background-color: var(--bg-color);\n",
              "    border: none;\n",
              "    border-radius: 50%;\n",
              "    cursor: pointer;\n",
              "    display: none;\n",
              "    fill: var(--fill-color);\n",
              "    height: 32px;\n",
              "    padding: 0;\n",
              "    width: 32px;\n",
              "  }\n",
              "\n",
              "  .colab-df-quickchart:hover {\n",
              "    background-color: var(--hover-bg-color);\n",
              "    box-shadow: 0 1px 2px rgba(60, 64, 67, 0.3), 0 1px 3px 1px rgba(60, 64, 67, 0.15);\n",
              "    fill: var(--button-hover-fill-color);\n",
              "  }\n",
              "\n",
              "  .colab-df-quickchart-complete:disabled,\n",
              "  .colab-df-quickchart-complete:disabled:hover {\n",
              "    background-color: var(--disabled-bg-color);\n",
              "    fill: var(--disabled-fill-color);\n",
              "    box-shadow: none;\n",
              "  }\n",
              "\n",
              "  .colab-df-spinner {\n",
              "    border: 2px solid var(--fill-color);\n",
              "    border-color: transparent;\n",
              "    border-bottom-color: var(--fill-color);\n",
              "    animation:\n",
              "      spin 1s steps(1) infinite;\n",
              "  }\n",
              "\n",
              "  @keyframes spin {\n",
              "    0% {\n",
              "      border-color: transparent;\n",
              "      border-bottom-color: var(--fill-color);\n",
              "      border-left-color: var(--fill-color);\n",
              "    }\n",
              "    20% {\n",
              "      border-color: transparent;\n",
              "      border-left-color: var(--fill-color);\n",
              "      border-top-color: var(--fill-color);\n",
              "    }\n",
              "    30% {\n",
              "      border-color: transparent;\n",
              "      border-left-color: var(--fill-color);\n",
              "      border-top-color: var(--fill-color);\n",
              "      border-right-color: var(--fill-color);\n",
              "    }\n",
              "    40% {\n",
              "      border-color: transparent;\n",
              "      border-right-color: var(--fill-color);\n",
              "      border-top-color: var(--fill-color);\n",
              "    }\n",
              "    60% {\n",
              "      border-color: transparent;\n",
              "      border-right-color: var(--fill-color);\n",
              "    }\n",
              "    80% {\n",
              "      border-color: transparent;\n",
              "      border-right-color: var(--fill-color);\n",
              "      border-bottom-color: var(--fill-color);\n",
              "    }\n",
              "    90% {\n",
              "      border-color: transparent;\n",
              "      border-bottom-color: var(--fill-color);\n",
              "    }\n",
              "  }\n",
              "</style>\n",
              "\n",
              "  <script>\n",
              "    async function quickchart(key) {\n",
              "      const quickchartButtonEl =\n",
              "        document.querySelector('#' + key + ' button');\n",
              "      quickchartButtonEl.disabled = true;  // To prevent multiple clicks.\n",
              "      quickchartButtonEl.classList.add('colab-df-spinner');\n",
              "      try {\n",
              "        const charts = await google.colab.kernel.invokeFunction(\n",
              "            'suggestCharts', [key], {});\n",
              "      } catch (error) {\n",
              "        console.error('Error during call to suggestCharts:', error);\n",
              "      }\n",
              "      quickchartButtonEl.classList.remove('colab-df-spinner');\n",
              "      quickchartButtonEl.classList.add('colab-df-quickchart-complete');\n",
              "    }\n",
              "    (() => {\n",
              "      let quickchartButtonEl =\n",
              "        document.querySelector('#df-822dc106-a827-4b93-ad6c-ce716a56287e button');\n",
              "      quickchartButtonEl.style.display =\n",
              "        google.colab.kernel.accessAllowed ? 'block' : 'none';\n",
              "    })();\n",
              "  </script>\n",
              "</div>\n",
              "\n",
              "    </div>\n",
              "  </div>\n"
            ],
            "application/vnd.google.colaboratory.intrinsic+json": {
              "type": "dataframe",
              "variable_name": "dataframe",
              "summary": "{\n  \"name\": \"dataframe\",\n  \"rows\": 384,\n  \"fields\": [\n    {\n      \"column\": \"Nome\",\n      \"properties\": {\n        \"dtype\": \"category\",\n        \"num_unique_values\": 86,\n        \"samples\": [\n          \"Sergio\",\n          \"Maria\",\n          \"Giovanni\"\n        ],\n        \"semantic_type\": \"\",\n        \"description\": \"\"\n      }\n    },\n    {\n      \"column\": \"Idade\",\n      \"properties\": {\n        \"dtype\": \"number\",\n        \"std\": 4,\n        \"min\": 18,\n        \"max\": 45,\n        \"num_unique_values\": 26,\n        \"samples\": [\n          29,\n          37,\n          28\n        ],\n        \"semantic_type\": \"\",\n        \"description\": \"\"\n      }\n    },\n    {\n      \"column\": \"Sexo\",\n      \"properties\": {\n        \"dtype\": \"category\",\n        \"num_unique_values\": 2,\n        \"samples\": [\n          \"M\",\n          \"F\"\n        ],\n        \"semantic_type\": \"\",\n        \"description\": \"\"\n      }\n    },\n    {\n      \"column\": \"Treina\",\n      \"properties\": {\n        \"dtype\": \"boolean\",\n        \"num_unique_values\": 2,\n        \"samples\": [\n          false,\n          true\n        ],\n        \"semantic_type\": \"\",\n        \"description\": \"\"\n      }\n    },\n    {\n      \"column\": \"Altura\",\n      \"properties\": {\n        \"dtype\": \"number\",\n        \"std\": 0.07570566181791216,\n        \"min\": 1.55,\n        \"max\": 1.92,\n        \"num_unique_values\": 36,\n        \"samples\": [\n          1.57,\n          1.81\n        ],\n        \"semantic_type\": \"\",\n        \"description\": \"\"\n      }\n    },\n    {\n      \"column\": \"Peso\",\n      \"properties\": {\n        \"dtype\": \"number\",\n        \"std\": 12,\n        \"min\": 48,\n        \"max\": 95,\n        \"num_unique_values\": 46,\n        \"samples\": [\n          53,\n          64\n        ],\n        \"semantic_type\": \"\",\n        \"description\": \"\"\n      }\n    },\n    {\n      \"column\": \"Tipo de Corpo\",\n      \"properties\": {\n        \"dtype\": \"category\",\n        \"num_unique_values\": 3,\n        \"samples\": [\n          \"Mesomorfo\",\n          \"Endomorfo\"\n        ],\n        \"semantic_type\": \"\",\n        \"description\": \"\"\n      }\n    },\n    {\n      \"column\": \"Deficiente\",\n      \"properties\": {\n        \"dtype\": \"boolean\",\n        \"num_unique_values\": 2,\n        \"samples\": [\n          true,\n          false\n        ],\n        \"semantic_type\": \"\",\n        \"description\": \"\"\n      }\n    }\n  ]\n}"
            }
          },
          "metadata": {},
          "execution_count": 3
        }
      ]
    },
    {
      "cell_type": "code",
      "source": [
        "dataframe.tail()"
      ],
      "metadata": {
        "colab": {
          "base_uri": "https://localhost:8080/",
          "height": 206
        },
        "id": "w6Bg_iJ63Xok",
        "outputId": "00088c91-d25c-4b67-d8c1-fda392625f9d"
      },
      "execution_count": 4,
      "outputs": [
        {
          "output_type": "execute_result",
          "data": {
            "text/plain": [
              "        Nome  Idade Sexo  Treina  Altura  Peso Tipo de Corpo  Deficiente\n",
              "379   Otávio     42    M    True    1.81    79     Mesomorfo       False\n",
              "380    Paula     21    F    True    1.66    58     Ectomorfo       False\n",
              "381  Ricardo     36    M   False    1.79    76     Endomorfo        True\n",
              "382    Sofia     24    F    True    1.70    62     Mesomorfo       False\n",
              "383    Tiago     29    M    True    1.83    81     Endomorfo       False"
            ],
            "text/html": [
              "\n",
              "  <div id=\"df-e5a6a56c-7e8c-4353-8cdf-a99532ea938a\" class=\"colab-df-container\">\n",
              "    <div>\n",
              "<style scoped>\n",
              "    .dataframe tbody tr th:only-of-type {\n",
              "        vertical-align: middle;\n",
              "    }\n",
              "\n",
              "    .dataframe tbody tr th {\n",
              "        vertical-align: top;\n",
              "    }\n",
              "\n",
              "    .dataframe thead th {\n",
              "        text-align: right;\n",
              "    }\n",
              "</style>\n",
              "<table border=\"1\" class=\"dataframe\">\n",
              "  <thead>\n",
              "    <tr style=\"text-align: right;\">\n",
              "      <th></th>\n",
              "      <th>Nome</th>\n",
              "      <th>Idade</th>\n",
              "      <th>Sexo</th>\n",
              "      <th>Treina</th>\n",
              "      <th>Altura</th>\n",
              "      <th>Peso</th>\n",
              "      <th>Tipo de Corpo</th>\n",
              "      <th>Deficiente</th>\n",
              "    </tr>\n",
              "  </thead>\n",
              "  <tbody>\n",
              "    <tr>\n",
              "      <th>379</th>\n",
              "      <td>Otávio</td>\n",
              "      <td>42</td>\n",
              "      <td>M</td>\n",
              "      <td>True</td>\n",
              "      <td>1.81</td>\n",
              "      <td>79</td>\n",
              "      <td>Mesomorfo</td>\n",
              "      <td>False</td>\n",
              "    </tr>\n",
              "    <tr>\n",
              "      <th>380</th>\n",
              "      <td>Paula</td>\n",
              "      <td>21</td>\n",
              "      <td>F</td>\n",
              "      <td>True</td>\n",
              "      <td>1.66</td>\n",
              "      <td>58</td>\n",
              "      <td>Ectomorfo</td>\n",
              "      <td>False</td>\n",
              "    </tr>\n",
              "    <tr>\n",
              "      <th>381</th>\n",
              "      <td>Ricardo</td>\n",
              "      <td>36</td>\n",
              "      <td>M</td>\n",
              "      <td>False</td>\n",
              "      <td>1.79</td>\n",
              "      <td>76</td>\n",
              "      <td>Endomorfo</td>\n",
              "      <td>True</td>\n",
              "    </tr>\n",
              "    <tr>\n",
              "      <th>382</th>\n",
              "      <td>Sofia</td>\n",
              "      <td>24</td>\n",
              "      <td>F</td>\n",
              "      <td>True</td>\n",
              "      <td>1.70</td>\n",
              "      <td>62</td>\n",
              "      <td>Mesomorfo</td>\n",
              "      <td>False</td>\n",
              "    </tr>\n",
              "    <tr>\n",
              "      <th>383</th>\n",
              "      <td>Tiago</td>\n",
              "      <td>29</td>\n",
              "      <td>M</td>\n",
              "      <td>True</td>\n",
              "      <td>1.83</td>\n",
              "      <td>81</td>\n",
              "      <td>Endomorfo</td>\n",
              "      <td>False</td>\n",
              "    </tr>\n",
              "  </tbody>\n",
              "</table>\n",
              "</div>\n",
              "    <div class=\"colab-df-buttons\">\n",
              "\n",
              "  <div class=\"colab-df-container\">\n",
              "    <button class=\"colab-df-convert\" onclick=\"convertToInteractive('df-e5a6a56c-7e8c-4353-8cdf-a99532ea938a')\"\n",
              "            title=\"Convert this dataframe to an interactive table.\"\n",
              "            style=\"display:none;\">\n",
              "\n",
              "  <svg xmlns=\"http://www.w3.org/2000/svg\" height=\"24px\" viewBox=\"0 -960 960 960\">\n",
              "    <path d=\"M120-120v-720h720v720H120Zm60-500h600v-160H180v160Zm220 220h160v-160H400v160Zm0 220h160v-160H400v160ZM180-400h160v-160H180v160Zm440 0h160v-160H620v160ZM180-180h160v-160H180v160Zm440 0h160v-160H620v160Z\"/>\n",
              "  </svg>\n",
              "    </button>\n",
              "\n",
              "  <style>\n",
              "    .colab-df-container {\n",
              "      display:flex;\n",
              "      gap: 12px;\n",
              "    }\n",
              "\n",
              "    .colab-df-convert {\n",
              "      background-color: #E8F0FE;\n",
              "      border: none;\n",
              "      border-radius: 50%;\n",
              "      cursor: pointer;\n",
              "      display: none;\n",
              "      fill: #1967D2;\n",
              "      height: 32px;\n",
              "      padding: 0 0 0 0;\n",
              "      width: 32px;\n",
              "    }\n",
              "\n",
              "    .colab-df-convert:hover {\n",
              "      background-color: #E2EBFA;\n",
              "      box-shadow: 0px 1px 2px rgba(60, 64, 67, 0.3), 0px 1px 3px 1px rgba(60, 64, 67, 0.15);\n",
              "      fill: #174EA6;\n",
              "    }\n",
              "\n",
              "    .colab-df-buttons div {\n",
              "      margin-bottom: 4px;\n",
              "    }\n",
              "\n",
              "    [theme=dark] .colab-df-convert {\n",
              "      background-color: #3B4455;\n",
              "      fill: #D2E3FC;\n",
              "    }\n",
              "\n",
              "    [theme=dark] .colab-df-convert:hover {\n",
              "      background-color: #434B5C;\n",
              "      box-shadow: 0px 1px 3px 1px rgba(0, 0, 0, 0.15);\n",
              "      filter: drop-shadow(0px 1px 2px rgba(0, 0, 0, 0.3));\n",
              "      fill: #FFFFFF;\n",
              "    }\n",
              "  </style>\n",
              "\n",
              "    <script>\n",
              "      const buttonEl =\n",
              "        document.querySelector('#df-e5a6a56c-7e8c-4353-8cdf-a99532ea938a button.colab-df-convert');\n",
              "      buttonEl.style.display =\n",
              "        google.colab.kernel.accessAllowed ? 'block' : 'none';\n",
              "\n",
              "      async function convertToInteractive(key) {\n",
              "        const element = document.querySelector('#df-e5a6a56c-7e8c-4353-8cdf-a99532ea938a');\n",
              "        const dataTable =\n",
              "          await google.colab.kernel.invokeFunction('convertToInteractive',\n",
              "                                                    [key], {});\n",
              "        if (!dataTable) return;\n",
              "\n",
              "        const docLinkHtml = 'Like what you see? Visit the ' +\n",
              "          '<a target=\"_blank\" href=https://colab.research.google.com/notebooks/data_table.ipynb>data table notebook</a>'\n",
              "          + ' to learn more about interactive tables.';\n",
              "        element.innerHTML = '';\n",
              "        dataTable['output_type'] = 'display_data';\n",
              "        await google.colab.output.renderOutput(dataTable, element);\n",
              "        const docLink = document.createElement('div');\n",
              "        docLink.innerHTML = docLinkHtml;\n",
              "        element.appendChild(docLink);\n",
              "      }\n",
              "    </script>\n",
              "  </div>\n",
              "\n",
              "\n",
              "<div id=\"df-87b0c01c-e7e7-4428-b8c4-416316aff680\">\n",
              "  <button class=\"colab-df-quickchart\" onclick=\"quickchart('df-87b0c01c-e7e7-4428-b8c4-416316aff680')\"\n",
              "            title=\"Suggest charts\"\n",
              "            style=\"display:none;\">\n",
              "\n",
              "<svg xmlns=\"http://www.w3.org/2000/svg\" height=\"24px\"viewBox=\"0 0 24 24\"\n",
              "     width=\"24px\">\n",
              "    <g>\n",
              "        <path d=\"M19 3H5c-1.1 0-2 .9-2 2v14c0 1.1.9 2 2 2h14c1.1 0 2-.9 2-2V5c0-1.1-.9-2-2-2zM9 17H7v-7h2v7zm4 0h-2V7h2v10zm4 0h-2v-4h2v4z\"/>\n",
              "    </g>\n",
              "</svg>\n",
              "  </button>\n",
              "\n",
              "<style>\n",
              "  .colab-df-quickchart {\n",
              "      --bg-color: #E8F0FE;\n",
              "      --fill-color: #1967D2;\n",
              "      --hover-bg-color: #E2EBFA;\n",
              "      --hover-fill-color: #174EA6;\n",
              "      --disabled-fill-color: #AAA;\n",
              "      --disabled-bg-color: #DDD;\n",
              "  }\n",
              "\n",
              "  [theme=dark] .colab-df-quickchart {\n",
              "      --bg-color: #3B4455;\n",
              "      --fill-color: #D2E3FC;\n",
              "      --hover-bg-color: #434B5C;\n",
              "      --hover-fill-color: #FFFFFF;\n",
              "      --disabled-bg-color: #3B4455;\n",
              "      --disabled-fill-color: #666;\n",
              "  }\n",
              "\n",
              "  .colab-df-quickchart {\n",
              "    background-color: var(--bg-color);\n",
              "    border: none;\n",
              "    border-radius: 50%;\n",
              "    cursor: pointer;\n",
              "    display: none;\n",
              "    fill: var(--fill-color);\n",
              "    height: 32px;\n",
              "    padding: 0;\n",
              "    width: 32px;\n",
              "  }\n",
              "\n",
              "  .colab-df-quickchart:hover {\n",
              "    background-color: var(--hover-bg-color);\n",
              "    box-shadow: 0 1px 2px rgba(60, 64, 67, 0.3), 0 1px 3px 1px rgba(60, 64, 67, 0.15);\n",
              "    fill: var(--button-hover-fill-color);\n",
              "  }\n",
              "\n",
              "  .colab-df-quickchart-complete:disabled,\n",
              "  .colab-df-quickchart-complete:disabled:hover {\n",
              "    background-color: var(--disabled-bg-color);\n",
              "    fill: var(--disabled-fill-color);\n",
              "    box-shadow: none;\n",
              "  }\n",
              "\n",
              "  .colab-df-spinner {\n",
              "    border: 2px solid var(--fill-color);\n",
              "    border-color: transparent;\n",
              "    border-bottom-color: var(--fill-color);\n",
              "    animation:\n",
              "      spin 1s steps(1) infinite;\n",
              "  }\n",
              "\n",
              "  @keyframes spin {\n",
              "    0% {\n",
              "      border-color: transparent;\n",
              "      border-bottom-color: var(--fill-color);\n",
              "      border-left-color: var(--fill-color);\n",
              "    }\n",
              "    20% {\n",
              "      border-color: transparent;\n",
              "      border-left-color: var(--fill-color);\n",
              "      border-top-color: var(--fill-color);\n",
              "    }\n",
              "    30% {\n",
              "      border-color: transparent;\n",
              "      border-left-color: var(--fill-color);\n",
              "      border-top-color: var(--fill-color);\n",
              "      border-right-color: var(--fill-color);\n",
              "    }\n",
              "    40% {\n",
              "      border-color: transparent;\n",
              "      border-right-color: var(--fill-color);\n",
              "      border-top-color: var(--fill-color);\n",
              "    }\n",
              "    60% {\n",
              "      border-color: transparent;\n",
              "      border-right-color: var(--fill-color);\n",
              "    }\n",
              "    80% {\n",
              "      border-color: transparent;\n",
              "      border-right-color: var(--fill-color);\n",
              "      border-bottom-color: var(--fill-color);\n",
              "    }\n",
              "    90% {\n",
              "      border-color: transparent;\n",
              "      border-bottom-color: var(--fill-color);\n",
              "    }\n",
              "  }\n",
              "</style>\n",
              "\n",
              "  <script>\n",
              "    async function quickchart(key) {\n",
              "      const quickchartButtonEl =\n",
              "        document.querySelector('#' + key + ' button');\n",
              "      quickchartButtonEl.disabled = true;  // To prevent multiple clicks.\n",
              "      quickchartButtonEl.classList.add('colab-df-spinner');\n",
              "      try {\n",
              "        const charts = await google.colab.kernel.invokeFunction(\n",
              "            'suggestCharts', [key], {});\n",
              "      } catch (error) {\n",
              "        console.error('Error during call to suggestCharts:', error);\n",
              "      }\n",
              "      quickchartButtonEl.classList.remove('colab-df-spinner');\n",
              "      quickchartButtonEl.classList.add('colab-df-quickchart-complete');\n",
              "    }\n",
              "    (() => {\n",
              "      let quickchartButtonEl =\n",
              "        document.querySelector('#df-87b0c01c-e7e7-4428-b8c4-416316aff680 button');\n",
              "      quickchartButtonEl.style.display =\n",
              "        google.colab.kernel.accessAllowed ? 'block' : 'none';\n",
              "    })();\n",
              "  </script>\n",
              "</div>\n",
              "\n",
              "    </div>\n",
              "  </div>\n"
            ],
            "application/vnd.google.colaboratory.intrinsic+json": {
              "type": "dataframe",
              "summary": "{\n  \"name\": \"dataframe\",\n  \"rows\": 5,\n  \"fields\": [\n    {\n      \"column\": \"Nome\",\n      \"properties\": {\n        \"dtype\": \"string\",\n        \"num_unique_values\": 5,\n        \"samples\": [\n          \"Paula\",\n          \"Tiago\",\n          \"Ricardo\"\n        ],\n        \"semantic_type\": \"\",\n        \"description\": \"\"\n      }\n    },\n    {\n      \"column\": \"Idade\",\n      \"properties\": {\n        \"dtype\": \"number\",\n        \"std\": 8,\n        \"min\": 21,\n        \"max\": 42,\n        \"num_unique_values\": 5,\n        \"samples\": [\n          21,\n          29,\n          36\n        ],\n        \"semantic_type\": \"\",\n        \"description\": \"\"\n      }\n    },\n    {\n      \"column\": \"Sexo\",\n      \"properties\": {\n        \"dtype\": \"category\",\n        \"num_unique_values\": 2,\n        \"samples\": [\n          \"F\",\n          \"M\"\n        ],\n        \"semantic_type\": \"\",\n        \"description\": \"\"\n      }\n    },\n    {\n      \"column\": \"Treina\",\n      \"properties\": {\n        \"dtype\": \"boolean\",\n        \"num_unique_values\": 2,\n        \"samples\": [\n          false,\n          true\n        ],\n        \"semantic_type\": \"\",\n        \"description\": \"\"\n      }\n    },\n    {\n      \"column\": \"Altura\",\n      \"properties\": {\n        \"dtype\": \"number\",\n        \"std\": 0.07395944834840244,\n        \"min\": 1.66,\n        \"max\": 1.83,\n        \"num_unique_values\": 5,\n        \"samples\": [\n          1.66,\n          1.83\n        ],\n        \"semantic_type\": \"\",\n        \"description\": \"\"\n      }\n    },\n    {\n      \"column\": \"Peso\",\n      \"properties\": {\n        \"dtype\": \"number\",\n        \"std\": 10,\n        \"min\": 58,\n        \"max\": 81,\n        \"num_unique_values\": 5,\n        \"samples\": [\n          58,\n          81\n        ],\n        \"semantic_type\": \"\",\n        \"description\": \"\"\n      }\n    },\n    {\n      \"column\": \"Tipo de Corpo\",\n      \"properties\": {\n        \"dtype\": \"string\",\n        \"num_unique_values\": 3,\n        \"samples\": [\n          \"Mesomorfo\",\n          \"Ectomorfo\"\n        ],\n        \"semantic_type\": \"\",\n        \"description\": \"\"\n      }\n    },\n    {\n      \"column\": \"Deficiente\",\n      \"properties\": {\n        \"dtype\": \"boolean\",\n        \"num_unique_values\": 2,\n        \"samples\": [\n          true,\n          false\n        ],\n        \"semantic_type\": \"\",\n        \"description\": \"\"\n      }\n    }\n  ]\n}"
            }
          },
          "metadata": {},
          "execution_count": 4
        }
      ]
    },
    {
      "cell_type": "code",
      "source": [
        "dataframe.shape"
      ],
      "metadata": {
        "colab": {
          "base_uri": "https://localhost:8080/"
        },
        "id": "0BhFN2gI5e0U",
        "outputId": "84e7623e-7c31-4fb3-d23f-a74b9d528870"
      },
      "execution_count": 5,
      "outputs": [
        {
          "output_type": "execute_result",
          "data": {
            "text/plain": [
              "(384, 8)"
            ]
          },
          "metadata": {},
          "execution_count": 5
        }
      ]
    },
    {
      "cell_type": "code",
      "source": [
        "dataframe.info()"
      ],
      "metadata": {
        "colab": {
          "base_uri": "https://localhost:8080/"
        },
        "id": "eEFxRCk06XE6",
        "outputId": "2c07dc21-3ac7-4867-87d6-4b6b2b491fce"
      },
      "execution_count": 6,
      "outputs": [
        {
          "output_type": "stream",
          "name": "stdout",
          "text": [
            "<class 'pandas.core.frame.DataFrame'>\n",
            "RangeIndex: 384 entries, 0 to 383\n",
            "Data columns (total 8 columns):\n",
            " #   Column         Non-Null Count  Dtype  \n",
            "---  ------         --------------  -----  \n",
            " 0   Nome           384 non-null    object \n",
            " 1   Idade          384 non-null    int64  \n",
            " 2   Sexo           384 non-null    object \n",
            " 3   Treina         384 non-null    bool   \n",
            " 4   Altura         384 non-null    float64\n",
            " 5   Peso           384 non-null    int64  \n",
            " 6   Tipo de Corpo  384 non-null    object \n",
            " 7   Deficiente     384 non-null    bool   \n",
            "dtypes: bool(2), float64(1), int64(2), object(3)\n",
            "memory usage: 18.9+ KB\n"
          ]
        }
      ]
    },
    {
      "cell_type": "code",
      "source": [
        "dataframe.columns.values"
      ],
      "metadata": {
        "colab": {
          "base_uri": "https://localhost:8080/"
        },
        "id": "1FImBKt06a0-",
        "outputId": "5718b8c6-9fb8-4d02-c1b2-5474a2fa5a48"
      },
      "execution_count": 7,
      "outputs": [
        {
          "output_type": "execute_result",
          "data": {
            "text/plain": [
              "array(['Nome', 'Idade', 'Sexo', 'Treina', 'Altura', 'Peso',\n",
              "       'Tipo de Corpo', 'Deficiente'], dtype=object)"
            ]
          },
          "metadata": {},
          "execution_count": 7
        }
      ]
    },
    {
      "cell_type": "code",
      "source": [
        "dataframe.dtypes"
      ],
      "metadata": {
        "colab": {
          "base_uri": "https://localhost:8080/"
        },
        "id": "QW7fCKQG6fhX",
        "outputId": "d1c8614f-c291-4789-91bb-009d6f1845c3"
      },
      "execution_count": 8,
      "outputs": [
        {
          "output_type": "execute_result",
          "data": {
            "text/plain": [
              "Nome              object\n",
              "Idade              int64\n",
              "Sexo              object\n",
              "Treina              bool\n",
              "Altura           float64\n",
              "Peso               int64\n",
              "Tipo de Corpo     object\n",
              "Deficiente          bool\n",
              "dtype: object"
            ]
          },
          "metadata": {},
          "execution_count": 8
        }
      ]
    },
    {
      "cell_type": "code",
      "source": [
        "dataframe.isnull().sum()"
      ],
      "metadata": {
        "colab": {
          "base_uri": "https://localhost:8080/"
        },
        "id": "wBUE2iOS6l23",
        "outputId": "23a314b2-7e0b-466a-82b7-0f1ab94bc867"
      },
      "execution_count": 9,
      "outputs": [
        {
          "output_type": "execute_result",
          "data": {
            "text/plain": [
              "Nome             0\n",
              "Idade            0\n",
              "Sexo             0\n",
              "Treina           0\n",
              "Altura           0\n",
              "Peso             0\n",
              "Tipo de Corpo    0\n",
              "Deficiente       0\n",
              "dtype: int64"
            ]
          },
          "metadata": {},
          "execution_count": 9
        }
      ]
    },
    {
      "cell_type": "markdown",
      "source": [
        "# Engenharia de Recurso\n",
        "## Criando Variavel IMC e Sobrepeso de acordo com os dados Peso e Altura\n",
        "Fonte [Tabela IMC](https://www.programasaudefacil.com.br/calculadora-de-imc)"
      ],
      "metadata": {
        "id": "rog-Pc_tFYbQ"
      }
    },
    {
      "cell_type": "code",
      "source": [
        "dataframe['imc'] = dataframe['Peso'] / (dataframe['Altura'] ** 2)\n",
        "\n",
        "dataframe['sobrepeso'] = dataframe['imc'] > 30\n",
        "dataframe['sobrepeso'] = dataframe['sobrepeso']"
      ],
      "metadata": {
        "id": "3K54gE8y8XdI"
      },
      "execution_count": 11,
      "outputs": []
    },
    {
      "cell_type": "code",
      "source": [
        "dataframe.head()"
      ],
      "metadata": {
        "colab": {
          "base_uri": "https://localhost:8080/",
          "height": 206
        },
        "id": "dZ7Yaait883a",
        "outputId": "a488866c-1dfd-4910-e3f8-98b96902158d"
      },
      "execution_count": 12,
      "outputs": [
        {
          "output_type": "execute_result",
          "data": {
            "text/plain": [
              "       Nome  Idade Sexo  Treina  Altura  Peso Tipo de Corpo  Deficiente  \\\n",
              "0     Maria     28    F    True    1.65    55     Mesomorfo       False   \n",
              "1      João     35    M    True    1.80    85     Endomorfo       False   \n",
              "2       Ana     22    F    True    1.70    60     Ectomorfo        True   \n",
              "3     Pedro     30    M   False    1.75    70     Mesomorfo       False   \n",
              "4  Carolina     40    F    True    1.60    70     Endomorfo       False   \n",
              "\n",
              "         imc  sobrepeso  \n",
              "0  20.202020      False  \n",
              "1  26.234568      False  \n",
              "2  20.761246      False  \n",
              "3  22.857143      False  \n",
              "4  27.343750      False  "
            ],
            "text/html": [
              "\n",
              "  <div id=\"df-ebebf69f-5463-4601-93d6-e6d3dea37a8b\" class=\"colab-df-container\">\n",
              "    <div>\n",
              "<style scoped>\n",
              "    .dataframe tbody tr th:only-of-type {\n",
              "        vertical-align: middle;\n",
              "    }\n",
              "\n",
              "    .dataframe tbody tr th {\n",
              "        vertical-align: top;\n",
              "    }\n",
              "\n",
              "    .dataframe thead th {\n",
              "        text-align: right;\n",
              "    }\n",
              "</style>\n",
              "<table border=\"1\" class=\"dataframe\">\n",
              "  <thead>\n",
              "    <tr style=\"text-align: right;\">\n",
              "      <th></th>\n",
              "      <th>Nome</th>\n",
              "      <th>Idade</th>\n",
              "      <th>Sexo</th>\n",
              "      <th>Treina</th>\n",
              "      <th>Altura</th>\n",
              "      <th>Peso</th>\n",
              "      <th>Tipo de Corpo</th>\n",
              "      <th>Deficiente</th>\n",
              "      <th>imc</th>\n",
              "      <th>sobrepeso</th>\n",
              "    </tr>\n",
              "  </thead>\n",
              "  <tbody>\n",
              "    <tr>\n",
              "      <th>0</th>\n",
              "      <td>Maria</td>\n",
              "      <td>28</td>\n",
              "      <td>F</td>\n",
              "      <td>True</td>\n",
              "      <td>1.65</td>\n",
              "      <td>55</td>\n",
              "      <td>Mesomorfo</td>\n",
              "      <td>False</td>\n",
              "      <td>20.202020</td>\n",
              "      <td>False</td>\n",
              "    </tr>\n",
              "    <tr>\n",
              "      <th>1</th>\n",
              "      <td>João</td>\n",
              "      <td>35</td>\n",
              "      <td>M</td>\n",
              "      <td>True</td>\n",
              "      <td>1.80</td>\n",
              "      <td>85</td>\n",
              "      <td>Endomorfo</td>\n",
              "      <td>False</td>\n",
              "      <td>26.234568</td>\n",
              "      <td>False</td>\n",
              "    </tr>\n",
              "    <tr>\n",
              "      <th>2</th>\n",
              "      <td>Ana</td>\n",
              "      <td>22</td>\n",
              "      <td>F</td>\n",
              "      <td>True</td>\n",
              "      <td>1.70</td>\n",
              "      <td>60</td>\n",
              "      <td>Ectomorfo</td>\n",
              "      <td>True</td>\n",
              "      <td>20.761246</td>\n",
              "      <td>False</td>\n",
              "    </tr>\n",
              "    <tr>\n",
              "      <th>3</th>\n",
              "      <td>Pedro</td>\n",
              "      <td>30</td>\n",
              "      <td>M</td>\n",
              "      <td>False</td>\n",
              "      <td>1.75</td>\n",
              "      <td>70</td>\n",
              "      <td>Mesomorfo</td>\n",
              "      <td>False</td>\n",
              "      <td>22.857143</td>\n",
              "      <td>False</td>\n",
              "    </tr>\n",
              "    <tr>\n",
              "      <th>4</th>\n",
              "      <td>Carolina</td>\n",
              "      <td>40</td>\n",
              "      <td>F</td>\n",
              "      <td>True</td>\n",
              "      <td>1.60</td>\n",
              "      <td>70</td>\n",
              "      <td>Endomorfo</td>\n",
              "      <td>False</td>\n",
              "      <td>27.343750</td>\n",
              "      <td>False</td>\n",
              "    </tr>\n",
              "  </tbody>\n",
              "</table>\n",
              "</div>\n",
              "    <div class=\"colab-df-buttons\">\n",
              "\n",
              "  <div class=\"colab-df-container\">\n",
              "    <button class=\"colab-df-convert\" onclick=\"convertToInteractive('df-ebebf69f-5463-4601-93d6-e6d3dea37a8b')\"\n",
              "            title=\"Convert this dataframe to an interactive table.\"\n",
              "            style=\"display:none;\">\n",
              "\n",
              "  <svg xmlns=\"http://www.w3.org/2000/svg\" height=\"24px\" viewBox=\"0 -960 960 960\">\n",
              "    <path d=\"M120-120v-720h720v720H120Zm60-500h600v-160H180v160Zm220 220h160v-160H400v160Zm0 220h160v-160H400v160ZM180-400h160v-160H180v160Zm440 0h160v-160H620v160ZM180-180h160v-160H180v160Zm440 0h160v-160H620v160Z\"/>\n",
              "  </svg>\n",
              "    </button>\n",
              "\n",
              "  <style>\n",
              "    .colab-df-container {\n",
              "      display:flex;\n",
              "      gap: 12px;\n",
              "    }\n",
              "\n",
              "    .colab-df-convert {\n",
              "      background-color: #E8F0FE;\n",
              "      border: none;\n",
              "      border-radius: 50%;\n",
              "      cursor: pointer;\n",
              "      display: none;\n",
              "      fill: #1967D2;\n",
              "      height: 32px;\n",
              "      padding: 0 0 0 0;\n",
              "      width: 32px;\n",
              "    }\n",
              "\n",
              "    .colab-df-convert:hover {\n",
              "      background-color: #E2EBFA;\n",
              "      box-shadow: 0px 1px 2px rgba(60, 64, 67, 0.3), 0px 1px 3px 1px rgba(60, 64, 67, 0.15);\n",
              "      fill: #174EA6;\n",
              "    }\n",
              "\n",
              "    .colab-df-buttons div {\n",
              "      margin-bottom: 4px;\n",
              "    }\n",
              "\n",
              "    [theme=dark] .colab-df-convert {\n",
              "      background-color: #3B4455;\n",
              "      fill: #D2E3FC;\n",
              "    }\n",
              "\n",
              "    [theme=dark] .colab-df-convert:hover {\n",
              "      background-color: #434B5C;\n",
              "      box-shadow: 0px 1px 3px 1px rgba(0, 0, 0, 0.15);\n",
              "      filter: drop-shadow(0px 1px 2px rgba(0, 0, 0, 0.3));\n",
              "      fill: #FFFFFF;\n",
              "    }\n",
              "  </style>\n",
              "\n",
              "    <script>\n",
              "      const buttonEl =\n",
              "        document.querySelector('#df-ebebf69f-5463-4601-93d6-e6d3dea37a8b button.colab-df-convert');\n",
              "      buttonEl.style.display =\n",
              "        google.colab.kernel.accessAllowed ? 'block' : 'none';\n",
              "\n",
              "      async function convertToInteractive(key) {\n",
              "        const element = document.querySelector('#df-ebebf69f-5463-4601-93d6-e6d3dea37a8b');\n",
              "        const dataTable =\n",
              "          await google.colab.kernel.invokeFunction('convertToInteractive',\n",
              "                                                    [key], {});\n",
              "        if (!dataTable) return;\n",
              "\n",
              "        const docLinkHtml = 'Like what you see? Visit the ' +\n",
              "          '<a target=\"_blank\" href=https://colab.research.google.com/notebooks/data_table.ipynb>data table notebook</a>'\n",
              "          + ' to learn more about interactive tables.';\n",
              "        element.innerHTML = '';\n",
              "        dataTable['output_type'] = 'display_data';\n",
              "        await google.colab.output.renderOutput(dataTable, element);\n",
              "        const docLink = document.createElement('div');\n",
              "        docLink.innerHTML = docLinkHtml;\n",
              "        element.appendChild(docLink);\n",
              "      }\n",
              "    </script>\n",
              "  </div>\n",
              "\n",
              "\n",
              "<div id=\"df-bc2235dd-e893-4a55-bb95-8aa908364a45\">\n",
              "  <button class=\"colab-df-quickchart\" onclick=\"quickchart('df-bc2235dd-e893-4a55-bb95-8aa908364a45')\"\n",
              "            title=\"Suggest charts\"\n",
              "            style=\"display:none;\">\n",
              "\n",
              "<svg xmlns=\"http://www.w3.org/2000/svg\" height=\"24px\"viewBox=\"0 0 24 24\"\n",
              "     width=\"24px\">\n",
              "    <g>\n",
              "        <path d=\"M19 3H5c-1.1 0-2 .9-2 2v14c0 1.1.9 2 2 2h14c1.1 0 2-.9 2-2V5c0-1.1-.9-2-2-2zM9 17H7v-7h2v7zm4 0h-2V7h2v10zm4 0h-2v-4h2v4z\"/>\n",
              "    </g>\n",
              "</svg>\n",
              "  </button>\n",
              "\n",
              "<style>\n",
              "  .colab-df-quickchart {\n",
              "      --bg-color: #E8F0FE;\n",
              "      --fill-color: #1967D2;\n",
              "      --hover-bg-color: #E2EBFA;\n",
              "      --hover-fill-color: #174EA6;\n",
              "      --disabled-fill-color: #AAA;\n",
              "      --disabled-bg-color: #DDD;\n",
              "  }\n",
              "\n",
              "  [theme=dark] .colab-df-quickchart {\n",
              "      --bg-color: #3B4455;\n",
              "      --fill-color: #D2E3FC;\n",
              "      --hover-bg-color: #434B5C;\n",
              "      --hover-fill-color: #FFFFFF;\n",
              "      --disabled-bg-color: #3B4455;\n",
              "      --disabled-fill-color: #666;\n",
              "  }\n",
              "\n",
              "  .colab-df-quickchart {\n",
              "    background-color: var(--bg-color);\n",
              "    border: none;\n",
              "    border-radius: 50%;\n",
              "    cursor: pointer;\n",
              "    display: none;\n",
              "    fill: var(--fill-color);\n",
              "    height: 32px;\n",
              "    padding: 0;\n",
              "    width: 32px;\n",
              "  }\n",
              "\n",
              "  .colab-df-quickchart:hover {\n",
              "    background-color: var(--hover-bg-color);\n",
              "    box-shadow: 0 1px 2px rgba(60, 64, 67, 0.3), 0 1px 3px 1px rgba(60, 64, 67, 0.15);\n",
              "    fill: var(--button-hover-fill-color);\n",
              "  }\n",
              "\n",
              "  .colab-df-quickchart-complete:disabled,\n",
              "  .colab-df-quickchart-complete:disabled:hover {\n",
              "    background-color: var(--disabled-bg-color);\n",
              "    fill: var(--disabled-fill-color);\n",
              "    box-shadow: none;\n",
              "  }\n",
              "\n",
              "  .colab-df-spinner {\n",
              "    border: 2px solid var(--fill-color);\n",
              "    border-color: transparent;\n",
              "    border-bottom-color: var(--fill-color);\n",
              "    animation:\n",
              "      spin 1s steps(1) infinite;\n",
              "  }\n",
              "\n",
              "  @keyframes spin {\n",
              "    0% {\n",
              "      border-color: transparent;\n",
              "      border-bottom-color: var(--fill-color);\n",
              "      border-left-color: var(--fill-color);\n",
              "    }\n",
              "    20% {\n",
              "      border-color: transparent;\n",
              "      border-left-color: var(--fill-color);\n",
              "      border-top-color: var(--fill-color);\n",
              "    }\n",
              "    30% {\n",
              "      border-color: transparent;\n",
              "      border-left-color: var(--fill-color);\n",
              "      border-top-color: var(--fill-color);\n",
              "      border-right-color: var(--fill-color);\n",
              "    }\n",
              "    40% {\n",
              "      border-color: transparent;\n",
              "      border-right-color: var(--fill-color);\n",
              "      border-top-color: var(--fill-color);\n",
              "    }\n",
              "    60% {\n",
              "      border-color: transparent;\n",
              "      border-right-color: var(--fill-color);\n",
              "    }\n",
              "    80% {\n",
              "      border-color: transparent;\n",
              "      border-right-color: var(--fill-color);\n",
              "      border-bottom-color: var(--fill-color);\n",
              "    }\n",
              "    90% {\n",
              "      border-color: transparent;\n",
              "      border-bottom-color: var(--fill-color);\n",
              "    }\n",
              "  }\n",
              "</style>\n",
              "\n",
              "  <script>\n",
              "    async function quickchart(key) {\n",
              "      const quickchartButtonEl =\n",
              "        document.querySelector('#' + key + ' button');\n",
              "      quickchartButtonEl.disabled = true;  // To prevent multiple clicks.\n",
              "      quickchartButtonEl.classList.add('colab-df-spinner');\n",
              "      try {\n",
              "        const charts = await google.colab.kernel.invokeFunction(\n",
              "            'suggestCharts', [key], {});\n",
              "      } catch (error) {\n",
              "        console.error('Error during call to suggestCharts:', error);\n",
              "      }\n",
              "      quickchartButtonEl.classList.remove('colab-df-spinner');\n",
              "      quickchartButtonEl.classList.add('colab-df-quickchart-complete');\n",
              "    }\n",
              "    (() => {\n",
              "      let quickchartButtonEl =\n",
              "        document.querySelector('#df-bc2235dd-e893-4a55-bb95-8aa908364a45 button');\n",
              "      quickchartButtonEl.style.display =\n",
              "        google.colab.kernel.accessAllowed ? 'block' : 'none';\n",
              "    })();\n",
              "  </script>\n",
              "</div>\n",
              "\n",
              "    </div>\n",
              "  </div>\n"
            ],
            "application/vnd.google.colaboratory.intrinsic+json": {
              "type": "dataframe",
              "variable_name": "dataframe",
              "summary": "{\n  \"name\": \"dataframe\",\n  \"rows\": 384,\n  \"fields\": [\n    {\n      \"column\": \"Nome\",\n      \"properties\": {\n        \"dtype\": \"category\",\n        \"num_unique_values\": 86,\n        \"samples\": [\n          \"Sergio\",\n          \"Maria\",\n          \"Giovanni\"\n        ],\n        \"semantic_type\": \"\",\n        \"description\": \"\"\n      }\n    },\n    {\n      \"column\": \"Idade\",\n      \"properties\": {\n        \"dtype\": \"number\",\n        \"std\": 4,\n        \"min\": 18,\n        \"max\": 45,\n        \"num_unique_values\": 26,\n        \"samples\": [\n          29,\n          37,\n          28\n        ],\n        \"semantic_type\": \"\",\n        \"description\": \"\"\n      }\n    },\n    {\n      \"column\": \"Sexo\",\n      \"properties\": {\n        \"dtype\": \"category\",\n        \"num_unique_values\": 2,\n        \"samples\": [\n          \"M\",\n          \"F\"\n        ],\n        \"semantic_type\": \"\",\n        \"description\": \"\"\n      }\n    },\n    {\n      \"column\": \"Treina\",\n      \"properties\": {\n        \"dtype\": \"boolean\",\n        \"num_unique_values\": 2,\n        \"samples\": [\n          false,\n          true\n        ],\n        \"semantic_type\": \"\",\n        \"description\": \"\"\n      }\n    },\n    {\n      \"column\": \"Altura\",\n      \"properties\": {\n        \"dtype\": \"number\",\n        \"std\": 0.07570566181791216,\n        \"min\": 1.55,\n        \"max\": 1.92,\n        \"num_unique_values\": 36,\n        \"samples\": [\n          1.57,\n          1.81\n        ],\n        \"semantic_type\": \"\",\n        \"description\": \"\"\n      }\n    },\n    {\n      \"column\": \"Peso\",\n      \"properties\": {\n        \"dtype\": \"number\",\n        \"std\": 12,\n        \"min\": 48,\n        \"max\": 95,\n        \"num_unique_values\": 46,\n        \"samples\": [\n          53,\n          64\n        ],\n        \"semantic_type\": \"\",\n        \"description\": \"\"\n      }\n    },\n    {\n      \"column\": \"Tipo de Corpo\",\n      \"properties\": {\n        \"dtype\": \"category\",\n        \"num_unique_values\": 3,\n        \"samples\": [\n          \"Mesomorfo\",\n          \"Endomorfo\"\n        ],\n        \"semantic_type\": \"\",\n        \"description\": \"\"\n      }\n    },\n    {\n      \"column\": \"Deficiente\",\n      \"properties\": {\n        \"dtype\": \"boolean\",\n        \"num_unique_values\": 2,\n        \"samples\": [\n          true,\n          false\n        ],\n        \"semantic_type\": \"\",\n        \"description\": \"\"\n      }\n    },\n    {\n      \"column\": \"imc\",\n      \"properties\": {\n        \"dtype\": \"number\",\n        \"std\": 2.4151531818051364,\n        \"min\": 18.818924310286427,\n        \"max\": 29.065926806711587,\n        \"num_unique_values\": 146,\n        \"samples\": [\n          21.773842357381334,\n          24.898143956541425\n        ],\n        \"semantic_type\": \"\",\n        \"description\": \"\"\n      }\n    },\n    {\n      \"column\": \"sobrepeso\",\n      \"properties\": {\n        \"dtype\": \"boolean\",\n        \"num_unique_values\": 1,\n        \"samples\": [\n          false\n        ],\n        \"semantic_type\": \"\",\n        \"description\": \"\"\n      }\n    }\n  ]\n}"
            }
          },
          "metadata": {},
          "execution_count": 12
        }
      ]
    },
    {
      "cell_type": "markdown",
      "source": [
        "# Analise dos Dados"
      ],
      "metadata": {
        "id": "KprMWZgCBNjX"
      }
    },
    {
      "cell_type": "code",
      "source": [
        "# Histograma da idade\n",
        "plt.figure(figsize=(8, 6))\n",
        "plt.hist(dataframe['Idade'], bins=20, color='skyblue', edgecolor='black')\n",
        "plt.title('Distribuição da Idade')\n",
        "plt.xlabel('Idade')\n",
        "plt.ylabel('Frequência')\n",
        "plt.grid(True)\n",
        "plt.show()\n"
      ],
      "metadata": {
        "colab": {
          "base_uri": "https://localhost:8080/",
          "height": 564
        },
        "id": "VTtpTew1BRUP",
        "outputId": "3f1e4cda-3184-424f-daf9-dcfeac4be715"
      },
      "execution_count": 13,
      "outputs": [
        {
          "output_type": "display_data",
          "data": {
            "text/plain": [
              "<Figure size 800x600 with 1 Axes>"
            ],
            "image/png": "[encoded data removed]"
          },
          "metadata": {}
        }
      ]
    },
    {
      "cell_type": "code",
      "source": [
        "# Histograma da altura\n",
        "plt.figure(figsize=(8, 6))\n",
        "plt.hist(dataframe['Altura'], bins=20, color='lightgreen', edgecolor='black')\n",
        "plt.title('Distribuição da Altura')\n",
        "plt.xlabel('Altura (m)')\n",
        "plt.ylabel('Frequência')\n",
        "plt.grid(True)\n",
        "plt.show()"
      ],
      "metadata": {
        "id": "TfbLSzoDBaPo",
        "outputId": "7b261c6d-3223-42f5-d43d-26c375b50b49",
        "colab": {
          "base_uri": "https://localhost:8080/",
          "height": 564
        }
      },
      "execution_count": 14,
      "outputs": [
        {
          "output_type": "display_data",
          "data": {
            "text/plain": [
              "<Figure size 800x600 with 1 Axes>"
            ],
            "image/png": "[encoded data removed]"
          },
          "metadata": {}
        }
      ]
    },
    {
      "cell_type": "code",
      "source": [
        "# Histograma do peso\n",
        "plt.figure(figsize=(8, 6))\n",
        "plt.hist(dataframe['Peso'], bins=20, color='salmon', edgecolor='black')\n",
        "plt.title('Distribuição do Peso')\n",
        "plt.xlabel('Peso (kg)')\n",
        "plt.ylabel('Frequência')\n",
        "plt.grid(True)\n",
        "plt.show()"
      ],
      "metadata": {
        "id": "kISI-8NxBe0H",
        "outputId": "a35f66cc-3e2e-41a2-fbc1-a07d08588978",
        "colab": {
          "base_uri": "https://localhost:8080/",
          "height": 564
        }
      },
      "execution_count": 15,
      "outputs": [
        {
          "output_type": "display_data",
          "data": {
            "text/plain": [
              "<Figure size 800x600 with 1 Axes>"
            ],
            "image/png": "[encoded data removed]"
          },
          "metadata": {}
        }
      ]
    },
    {
      "cell_type": "code",
      "source": [
        "# Gráfico de dispersão entre altura e peso\n",
        "plt.figure(figsize=(8, 6))\n",
        "plt.scatter(dataframe['Altura'], dataframe['Peso'], color='orange', alpha=0.5)\n",
        "plt.title('Dispersão entre Altura e Peso')\n",
        "plt.xlabel('Altura (m)')\n",
        "plt.ylabel('Peso (kg)')\n",
        "plt.grid(True)\n",
        "plt.show()"
      ],
      "metadata": {
        "id": "E-grd29ABiko",
        "outputId": "dd3a66c4-7d1d-4b1e-c135-7dffdd23306c",
        "colab": {
          "base_uri": "https://localhost:8080/",
          "height": 564
        }
      },
      "execution_count": 16,
      "outputs": [
        {
          "output_type": "display_data",
          "data": {
            "text/plain": [
              "<Figure size 800x600 with 1 Axes>"
            ],
            "image/png": "[encoded data removed]"
          },
          "metadata": {}
        }
      ]
    },
    {
      "cell_type": "code",
      "source": [
        "# Boxplot do IMC por tipo de corpo\n",
        "plt.figure(figsize=(8, 6))\n",
        "plt.boxplot([dataframe[dataframe['Tipo de Corpo'] == 'Mesomorfo']['imc'],\n",
        "             dataframe[dataframe['Tipo de Corpo'] == 'Endomorfo']['imc'],\n",
        "             dataframe[dataframe['Tipo de Corpo'] == 'Ectomorfo']['imc']],\n",
        "            labels=['Mesomorfo', 'Endomorfo', 'Ectomorfo'])\n",
        "plt.title('Boxplot do IMC por Tipo de Corpo')\n",
        "plt.xlabel('Tipo de Corpo')\n",
        "plt.ylabel('IMC')\n",
        "plt.grid(True)\n",
        "plt.show()"
      ],
      "metadata": {
        "id": "dr5rQNH7BqrE",
        "outputId": "4350d3ad-a57d-481d-ce93-0e0e4734ae26",
        "colab": {
          "base_uri": "https://localhost:8080/",
          "height": 564
        }
      },
      "execution_count": 17,
      "outputs": [
        {
          "output_type": "display_data",
          "data": {
            "text/plain": [
              "<Figure size 800x600 with 1 Axes>"
            ],
            "image/png": "[encoded data removed]"
          },
          "metadata": {}
        }
      ]
    },
    {
      "cell_type": "code",
      "source": [
        "# Gráfico de barras da distribuição de tipos de corpo\n",
        "plt.figure(figsize=(8, 6))\n",
        "dataframe['Tipo de Corpo'].value_counts().plot(kind='bar', color='lightblue')\n",
        "plt.title('Distribuição de Tipos de Corpo')\n",
        "plt.xlabel('Tipo de Corpo')\n",
        "plt.ylabel('Frequência')\n",
        "plt.grid(axis='y')\n",
        "plt.show()"
      ],
      "metadata": {
        "id": "miWbCE8jBwKk",
        "outputId": "d1587fa9-8b3d-4da7-e117-9b9ef3053160",
        "colab": {
          "base_uri": "https://localhost:8080/",
          "height": 627
        }
      },
      "execution_count": 18,
      "outputs": [
        {
          "output_type": "display_data",
          "data": {
            "text/plain": [
              "<Figure size 800x600 with 1 Axes>"
            ],
            "image/png": "[encoded data removed]"
          },
          "metadata": {}
        }
      ]
    },
    {
      "cell_type": "code",
      "source": [
        "# Gráfico de pizza da distribuição de sexo\n",
        "plt.figure(figsize=(8, 6))\n",
        "dataframe['Sexo'].value_counts().plot(kind='pie', autopct='%1.1f%%', colors=['skyblue', 'lightgreen'])\n",
        "plt.title('Distribuição de Sexo')\n",
        "plt.ylabel('')\n",
        "plt.legend(['Feminino', 'Masculino'], loc='best')\n",
        "plt.show()"
      ],
      "metadata": {
        "id": "d4H7udwjBzKo",
        "outputId": "3d03a0e8-a86d-416d-dce5-74169b67784c",
        "colab": {
          "base_uri": "https://localhost:8080/",
          "height": 521
        }
      },
      "execution_count": 19,
      "outputs": [
        {
          "output_type": "display_data",
          "data": {
            "text/plain": [
              "<Figure size 800x600 with 1 Axes>"
            ],
            "image/png": "[encoded data removed]"
          },
          "metadata": {}
        }
      ]
    },
    {
      "cell_type": "code",
      "source": [
        "dataframe['Deficiente'].value_counts().plot(kind='bar')\n",
        "plt.title('Distribuição de Frequência por Deficiência')\n",
        "plt.xlabel('Deficiência')\n",
        "plt.ylabel('Frequência')\n",
        "plt.show()"
      ],
      "metadata": {
        "id": "0eGL_L78UkKC",
        "outputId": "c4ef056d-dd2e-4df3-acf6-275684d45405",
        "colab": {
          "base_uri": "https://localhost:8080/",
          "height": 493
        }
      },
      "execution_count": 20,
      "outputs": [
        {
          "output_type": "display_data",
          "data": {
            "text/plain": [
              "<Figure size 640x480 with 1 Axes>"
            ],
            "image/png": "[encoded data removed]"
          },
          "metadata": {}
        }
      ]
    },
    {
      "cell_type": "code",
      "source": [
        "plt.figure(figsize=(10, 6))\n",
        "sns.barplot(x=dataframe['Nome'], y=dataframe['imc'], palette='viridis')\n",
        "plt.title('IMC por Pessoa')\n",
        "plt.xlabel('Pessoa')\n",
        "plt.ylabel('IMC')\n",
        "plt.ylim(15, 30)\n",
        "plt.xticks(rotation=45)\n",
        "plt.grid(True)\n",
        "plt.show()"
      ],
      "metadata": {
        "id": "u_2LAMtyVIu0",
        "outputId": "10c4ee45-be66-4479-da18-d6960ea2ce4e",
        "colab": {
          "base_uri": "https://localhost:8080/",
          "height": 723
        }
      },
      "execution_count": 21,
      "outputs": [
        {
          "output_type": "stream",
          "name": "stderr",
          "text": [
            "<ipython-input-21-aa43f366e1d6>:2: FutureWarning: \n",
            "\n",
            "Passing `palette` without assigning `hue` is deprecated and will be removed in v0.14.0. Assign the `x` variable to `hue` and set `legend=False` for the same effect.\n",
            "\n",
            "  sns.barplot(x=dataframe['Nome'], y=dataframe['imc'], palette='viridis')\n"
          ]
        },
        {
          "output_type": "display_data",
          "data": {
            "text/plain": [
              "<Figure size 1000x600 with 1 Axes>"
            ],
            "image/png": "[encoded data removed]"
          },
          "metadata": {}
        }
      ]
    },
    {
      "cell_type": "code",
      "source": [
        "plt.figure(figsize=(8, 5))\n",
        "sns.countplot(x=dataframe['Tipo de Corpo'], hue=dataframe['Sexo'], palette='pastel')\n",
        "plt.title('Tipo de Corpo por Gênero')\n",
        "plt.xlabel('Tipo de Corpo')\n",
        "plt.ylabel('Contagem')\n",
        "plt.grid(True)\n",
        "plt.legend(title='Sexo', loc='upper right')\n",
        "plt.show()"
      ],
      "metadata": {
        "id": "3AtZkeMNVcXc",
        "outputId": "e74655d1-6ae1-4a4a-cfb4-0f6a2c44b539",
        "colab": {
          "base_uri": "https://localhost:8080/",
          "height": 488
        }
      },
      "execution_count": 22,
      "outputs": [
        {
          "output_type": "display_data",
          "data": {
            "text/plain": [
              "<Figure size 800x500 with 1 Axes>"
            ],
            "image/png": "[encoded data removed]"
          },
          "metadata": {}
        }
      ]
    },
    {
      "cell_type": "code",
      "source": [
        "plt.figure(figsize=(8, 5))\n",
        "sns.scatterplot(x=dataframe['Idade'], y=dataframe['imc'], s=100, color='blue', alpha=0.8)\n",
        "plt.title('IMC vs Idade')\n",
        "plt.xlabel('Idade')\n",
        "plt.ylabel('IMC')\n",
        "plt.grid(True)\n",
        "plt.show()"
      ],
      "metadata": {
        "id": "3ImdwfZqV9iY",
        "outputId": "d3e1bd44-92ee-4375-c532-b6bfd0a96c38",
        "colab": {
          "base_uri": "https://localhost:8080/",
          "height": 487
        }
      },
      "execution_count": 23,
      "outputs": [
        {
          "output_type": "display_data",
          "data": {
            "text/plain": [
              "<Figure size 800x500 with 1 Axes>"
            ],
            "image/png": "[encoded data removed]"
          },
          "metadata": {}
        }
      ]
    },
    {
      "cell_type": "code",
      "source": [
        "plt.figure(figsize=(8, 5))\n",
        "sns.scatterplot(x=dataframe['Peso'], y=dataframe['imc'], s=100, color='green', alpha=0.8)\n",
        "plt.title('IMC vs Peso')\n",
        "plt.xlabel('Peso (kg)')\n",
        "plt.ylabel('IMC')\n",
        "plt.grid(True)\n",
        "plt.show()"
      ],
      "metadata": {
        "id": "czSlwnTpWF_-",
        "outputId": "3853b7c1-fa4c-4f91-bd6a-08eb1e7e57c1",
        "colab": {
          "base_uri": "https://localhost:8080/",
          "height": 487
        }
      },
      "execution_count": 24,
      "outputs": [
        {
          "output_type": "display_data",
          "data": {
            "text/plain": [
              "<Figure size 800x500 with 1 Axes>"
            ],
            "image/png": "[encoded data removed]"
          },
          "metadata": {}
        }
      ]
    },
    {
      "cell_type": "code",
      "source": [
        "# Gráfico de dispersão interativo com zoom e seleção de dados\n",
        "fig = px.scatter(dataframe, x='Sexo', y='imc', color='Tipo de Corpo', size='Idade', hover_name='Nome', title='Comparação de IMC por Sexo')\n",
        "fig.show()"
      ],
      "metadata": {
        "id": "Kt00GuUAWzvw",
        "outputId": "ca7d4d5f-eb29-4e86-9f1a-733091b16d53",
        "colab": {
          "base_uri": "https://localhost:8080/",
          "height": 542
        }
      },
      "execution_count": 25,
      "outputs": [
        {
          "output_type": "display_data",
          "data": {
            "text/html": [
              "<html>\n",
              "<head><meta charset=\"utf-8\" /></head>\n",
              "<body>\n",
              "    <div>            <script src=\"https://cdnjs.cloudflare.com/ajax/libs/mathjax/2.7.5/MathJax.js?config=TeX-AMS-MML_SVG\"></script><script type=\"text/javascript\">if (window.MathJax && window.MathJax.Hub && window.MathJax.Hub.Config) {window.MathJax.Hub.Config({SVG: {font: \"STIX-Web\"}});}</script>                <script type=\"text/javascript\">window.PlotlyConfig = {MathJaxConfig: 'local'};</script>\n",
              "        <script charset=\"utf-8\" src=\"https://cdn.plot.ly/plotly-2.24.1.min.js\"></script>                <div id=\"94f1ee9a-ce96-461a-894d-f66e7080a7c1\" class=\"plotly-graph-div\" style=\"height:525px; width:100%;\"></div>            <script type=\"text/javascript\">                                    window.PLOTLYENV=window.PLOTLYENV || {};                                    if (document.getElementById(\"94f1ee9a-ce96-461a-894d-f66e7080a7c1\")) {                    Plotly.newPlot(                        \"94f1ee9a-ce96-461a-894d-f66e7080a7c1\",                        [{\"hovertemplate\":\"\\u003cb\\u003e%{hovertext}\\u003c\\u002fb\\u003e\\u003cbr\\u003e\\u003cbr\\u003eTipo de Corpo=Mesomorfo\\u003cbr\\u003eSexo=%{x}\\u003cbr\\u003eimc=%{y}\\u003cbr\\u003eIdade=%{marker.size}\\u003cextra\\u003e\\u003c\\u002fextra\\u003e\",\"hovertext\":[\"Maria\",\"Pedro\",\"Juliana\",\"Rafaela\",\"Marcos\",\"Carla\",\"Patr\\u00edcia\",\"Gustavo\",\"J\\u00e9ssica\",\"Ana\",\"Jo\\u00e3o\",\"Isabela\",\"Daniel\",\"Rafael\",\"Patricia\",\"Guilherme\",\"Maria\",\"Gustavo\",\"Beatriz\",\"Ricardo\",\"Alexandre\",\"Carla\",\"Andr\\u00e9\",\"Ana Clara\",\"Rodrigo\",\"Gabriela\",\"Marcelo\",\"Jo\\u00e3o Pedro\",\"Daniela\",\"Guilherme\",\"Rafaela\",\"Gustavo\",\"Beatriz\",\"Ricardo\",\"Alexandre\",\"Carla\",\"Andr\\u00e9\",\"Ana Clara\",\"Rodrigo\",\"Gabriela\",\"Marcelo\",\"Jo\\u00e3o Pedro\",\"Daniela\",\"Guilherme\",\"Rafaela\",\"Gustavo\",\"Beatriz\",\"Ricardo\",\"Alexandre\",\"Carla\",\"Andr\\u00e9\",\"Ana Clara\",\"Rodrigo\",\"Gabriela\",\"Marcelo\",\"Jo\\u00e3o Pedro\",\"Daniela\",\"Guilherme\",\"Rafaela\",\"Gustavo\",\"Beatriz\",\"Gabriel\",\"Roberto\",\"Carolina\",\"Marcelo\",\"Alexandre\",\"Carla\",\"Andr\\u00e9\",\"Ana\",\"Rodrigo\",\"Gabriela\",\"Ricardo\",\"Felipe\",\"Bianca\",\"Andr\\u00e9\",\"Rafaela\",\"Gustavo\",\"Beatriz\",\"Gustavo\",\"Rafael\",\"Mariana\",\"Renata\",\"Thiago\",\"Camila\",\"Marcelo\",\"Jos\\u00e9\",\"Carla\",\"Felipe\",\"Ana Carolina\",\"Pedro\",\"Juliana\",\"Rafaela\",\"Thiago\",\"Carolina\",\"Ricardo\",\"Marcelo\",\"Bianca\",\"Andr\\u00e9\",\"Rafaela\",\"Gustavo\",\"Beatriz\",\"Joao\",\"Ana\",\"Ana\",\"Bruno\",\"Eduarda\",\"Guilherme\",\"Isabela\",\"Leonardo\",\"Pedro\",\"Joao\",\"Carlos\",\"Rafael\",\"Gabriel\",\"Felipe\",\"Gustavo\",\"Lucas\",\"Thiago\",\"Renato\",\"Ana\",\"Bruno\",\"Eduarda\",\"Guilherme\",\"Isabela\",\"Leonardo\",\"Pedro\",\"Lucas\",\"Camila\",\"Thiago\",\"Leticia\",\"Marcos\",\"Tatiana\",\"Alice\",\"Diego\",\"Gabriela\",\"Jo\\u00e3o\",\"L\\u00edvia\",\"Ot\\u00e1vio\",\"Sofia\"],\"legendgroup\":\"Mesomorfo\",\"marker\":{\"color\":\"#636efa\",\"size\":[28,30,32,26,31,34,30,34,31,29,33,32,34,29,30,31,33,35,27,34,29,30,31,33,35,27,34,29,30,31,33,35,27,34,29,30,31,33,35,27,34,29,30,31,33,35,27,34,29,30,31,33,35,27,34,29,30,31,33,35,27,33,35,26,34,29,30,31,33,35,27,34,29,30,31,33,35,27,30,35,27,30,34,27,33,30,28,35,31,33,32,30,35,27,33,30,28,33,31,34,32,29,25,25,40,35,38,21,23,28,25,35,32,27,33,30,29,36,32,25,40,35,38,21,23,28,31,26,27,31,33,24,27,41,37,39,20,42,24],\"sizemode\":\"area\",\"sizeref\":0.1125,\"symbol\":\"circle\"},\"mode\":\"markers\",\"name\":\"Mesomorfo\",\"orientation\":\"v\",\"showlegend\":true,\"x\":[\"F\",\"M\",\"F\",\"F\",\"M\",\"F\",\"F\",\"M\",\"F\",\"F\",\"M\",\"F\",\"M\",\"M\",\"F\",\"M\",\"F\",\"M\",\"F\",\"M\",\"M\",\"F\",\"M\",\"F\",\"M\",\"F\",\"M\",\"M\",\"F\",\"M\",\"F\",\"M\",\"F\",\"M\",\"M\",\"F\",\"M\",\"F\",\"M\",\"F\",\"M\",\"M\",\"F\",\"M\",\"F\",\"M\",\"F\",\"M\",\"M\",\"F\",\"M\",\"F\",\"M\",\"F\",\"M\",\"M\",\"F\",\"M\",\"F\",\"M\",\"F\",\"M\",\"M\",\"F\",\"M\",\"M\",\"F\",\"M\",\"F\",\"M\",\"F\",\"M\",\"M\",\"F\",\"M\",\"F\",\"M\",\"F\",\"M\",\"M\",\"F\",\"F\",\"M\",\"F\",\"M\",\"M\",\"F\",\"M\",\"F\",\"M\",\"F\",\"F\",\"M\",\"F\",\"M\",\"M\",\"F\",\"M\",\"F\",\"M\",\"F\",\"M\",\"F\",\"F\",\"M\",\"F\",\"M\",\"F\",\"M\",\"M\",\"M\",\"M\",\"M\",\"M\",\"M\",\"M\",\"M\",\"M\",\"M\",\"F\",\"M\",\"F\",\"M\",\"F\",\"M\",\"M\",\"M\",\"F\",\"M\",\"F\",\"M\",\"F\",\"F\",\"M\",\"F\",\"M\",\"F\",\"M\",\"F\"],\"xaxis\":\"x\",\"y\":[20.202020202020204,22.857142857142858,25.59373706198954,21.9671201814059,23.243801652892564,21.79930795847751,21.04804761213529,23.620287912158062,21.936347412254616,21.513858510523864,26.528510346119035,21.612811791383223,23.93948099205209,26.54320987654321,21.04804761213529,26.216410224399986,22.67573696145125,26.56683975365294,21.773842357381334,24.258674071946118,26.555965935105768,21.04804761213529,26.216410224399986,22.67573696145125,26.56683975365294,21.773842357381334,24.258674071946118,26.555965935105768,21.04804761213529,26.216410224399986,22.67573696145125,26.56683975365294,21.773842357381334,24.258674071946118,26.555965935105768,21.04804761213529,26.216410224399986,22.67573696145125,26.56683975365294,21.773842357381334,24.258674071946118,26.555965935105768,21.04804761213529,26.216410224399986,22.67573696145125,26.56683975365294,21.773842357381334,24.258674071946118,26.555965935105768,21.04804761213529,26.216410224399986,22.67573696145125,26.56683975365294,21.773842357381334,24.258674071946118,26.555965935105768,21.04804761213529,26.216410224399986,22.67573696145125,26.56683975365294,21.773842357381334,25.24933720489837,27.16644791062544,21.258503401360546,24.577867151840145,26.861206922865602,21.410944984758313,25.90431010268094,23.030045351473927,26.86873565994445,22.136739730004358,23.93948099205209,26.555965935105768,21.04804761213529,26.216410224399986,22.67573696145125,26.56683975365294,21.773842357381334,24.933720489837143,26.234567901234566,21.007667798746546,22.230987127541326,26.26494384736143,21.936347412254616,26.493025631204315,26.27728507868255,22.03856749311295,26.840610467838083,21.79930795847751,26.26494384736143,21.15529420201513,21.707923392038097,26.54320987654321,21.6712580348944,26.173832551310287,26.555965935105768,21.410944984758313,26.216410224399986,21.707923392038097,26.56683975365294,21.513858510523864,25.46938775510204,20.06920415224914,21.971335857220122,23.148148148148145,21.30394857667585,25.770399305555557,20.70081674131507,22.15910864205237,23.808797045267237,26.122448979591837,26.82742078020452,27.15271058955713,25.180785123966942,26.528510346119035,25.88057063502083,25.53544639152223,27.777777777777775,27.15271058955713,21.971335857220122,23.148148148148145,21.30394857667585,25.770399305555557,20.70081674131507,22.15910864205237,23.808797045267237,25.53544639152223,20.703124999999996,23.20054323223178,20.43816558499767,26.511804065143288,20.832529609197174,21.258503401360546,22.743383742911153,21.15529420201513,24.251278305332356,20.820939916716245,24.114038033027075,21.453287197231838],\"yaxis\":\"y\",\"type\":\"scatter\"},{\"hovertemplate\":\"\\u003cb\\u003e%{hovertext}\\u003c\\u002fb\\u003e\\u003cbr\\u003e\\u003cbr\\u003eTipo de Corpo=Endomorfo\\u003cbr\\u003eSexo=%{x}\\u003cbr\\u003eimc=%{y}\\u003cbr\\u003eIdade=%{marker.size}\\u003cextra\\u003e\\u003c\\u002fextra\\u003e\",\"hovertext\":[\"Jo\\u00e3o\",\"Carolina\",\"Gabriel\",\"Felipe\",\"Camila\",\"Fernando\",\"Andr\\u00e9\",\"Vanessa\",\"Marcelo\",\"Pedro\",\"Juliana\",\"Gabriel\",\"Carolina\",\"Fernanda\",\"Rodrigo\",\"Felipe\",\"Camila\",\"Vinicius\",\"Fernanda\",\"Vanessa\",\"Marcos\",\"Paulo\",\"Mariana\",\"Tiago\",\"Aline\",\"Carolina\",\"Pedro Henrique\",\"Felipe\",\"Mariano\",\"Vin\\u00edcius\",\"Fernanda\",\"Vanessa\",\"Marcos\",\"Paulo\",\"Mariana\",\"Tiago\",\"Aline\",\"Carolina\",\"Pedro Henrique\",\"Felipe\",\"Mariano\",\"Vin\\u00edcius\",\"Fernanda\",\"Vanessa\",\"Marcos\",\"Paulo\",\"Mariana\",\"Tiago\",\"Aline\",\"Carolina\",\"Pedro Henrique\",\"Felipe\",\"Mariano\",\"Vin\\u00edcius\",\"Mariana\",\"Amanda\",\"Rafael\",\"Fernanda\",\"Vanessa\",\"Marcos\",\"Paulo\",\"Mariana\",\"Tiago\",\"Patr\\u00edcia\",\"Vanessa\",\"Marcos\",\"Fernando\",\"Mariano\",\"Vin\\u00edcius\",\"Ana Luiza\",\"Juliana\",\"Felipe\",\"Lucas\",\"Amanda\",\"Gabriel\",\"Fernanda\",\"Patr\\u00edcia\",\"Rafael\",\"Guilherme\",\"Camila\",\"Rodrigo\",\"Felipe\",\"Mariana\",\"Gustavo\",\"Aline\",\"Vanessa\",\"Marcos\",\"Fernando\",\"Mariana\",\"Vin\\u00edcius\",\"Carlos\",\"Fernanda\",\"Carlos\",\"Davi\",\"Felipe\",\"Igor\",\"Jo\\u00e3o\",\"Marcelo\",\"Pedro\",\"Fernando\",\"Lucia\",\"Rodrigo\",\"Marcelo\",\"Laura\",\"Mariana\",\"Giovanni\",\"Carlos\",\"Davi\",\"Felipe\",\"Igor\",\"Jo\\u00e3o\",\"Marcelo\",\"Eduardo\",\"Sofia\",\"Felipe\",\"Daniela\",\"Sergio\",\"Isabela\",\"Bernardo\",\"Felipe\",\"Henrique\",\"Leonardo\",\"Mateus\",\"Ricardo\",\"Tiago\"],\"legendgroup\":\"Endomorfo\",\"marker\":{\"color\":\"#EF553B\",\"size\":[35,40,27,33,38,28,32,36,29,35,37,28,31,36,32,29,30,28,31,36,32,29,30,28,31,36,32,29,30,28,31,36,32,29,30,28,31,36,32,29,30,28,31,36,32,29,30,28,31,36,32,29,30,28,29,31,30,31,36,32,29,30,28,31,36,32,29,30,28,32,29,33,28,31,35,29,34,32,28,30,34,29,31,32,29,35,32,28,30,33,42,30,32,22,27,31,29,34,40,45,26,38,42,28,31,39,32,22,27,31,29,34,45,33,35,29,41,32,35,23,28,33,30,36,29],\"sizemode\":\"area\",\"sizeref\":0.1125,\"symbol\":\"circle\"},\"mode\":\"markers\",\"name\":\"Endomorfo\",\"orientation\":\"v\",\"showlegend\":true,\"x\":[\"M\",\"F\",\"M\",\"M\",\"F\",\"M\",\"M\",\"F\",\"M\",\"M\",\"F\",\"M\",\"F\",\"F\",\"M\",\"M\",\"F\",\"M\",\"F\",\"F\",\"M\",\"M\",\"F\",\"M\",\"F\",\"F\",\"M\",\"M\",\"F\",\"M\",\"F\",\"F\",\"M\",\"M\",\"F\",\"M\",\"F\",\"F\",\"M\",\"M\",\"F\",\"M\",\"F\",\"F\",\"M\",\"M\",\"F\",\"M\",\"F\",\"F\",\"M\",\"M\",\"F\",\"M\",\"F\",\"F\",\"M\",\"F\",\"F\",\"M\",\"M\",\"F\",\"M\",\"F\",\"F\",\"M\",\"M\",\"F\",\"M\",\"F\",\"F\",\"M\",\"M\",\"F\",\"M\",\"F\",\"F\",\"M\",\"M\",\"F\",\"M\",\"M\",\"F\",\"M\",\"F\",\"F\",\"M\",\"M\",\"F\",\"M\",\"M\",\"F\",\"M\",\"M\",\"M\",\"M\",\"M\",\"M\",\"M\",\"M\",\"F\",\"M\",\"M\",\"F\",\"F\",\"M\",\"M\",\"M\",\"M\",\"M\",\"M\",\"M\",\"M\",\"F\",\"M\",\"F\",\"M\",\"F\",\"M\",\"M\",\"M\",\"M\",\"M\",\"M\",\"M\"],\"xaxis\":\"x\",\"y\":[26.234567901234566,27.343749999999996,26.296566837107374,24.968009737523797,24.76756591982929,26.26494384736143,26.82742078020452,25.847768218818715,26.27728507868255,25.46938775510204,24.242424242424246,26.86873565994445,21.707923392038097,24.167162403331353,27.77427092538821,24.857954545454547,24.242424242424246,26.575890590940304,21.9671201814059,24.167162403331353,27.77427092538821,24.857954545454547,24.242424242424246,26.575890590940304,21.9671201814059,24.167162403331353,27.77427092538821,24.857954545454547,24.242424242424246,26.575890590940304,21.9671201814059,24.167162403331353,27.77427092538821,24.857954545454547,24.242424242424246,26.575890590940304,21.9671201814059,24.167162403331353,27.77427092538821,24.857954545454547,24.242424242424246,26.575890590940304,21.9671201814059,24.167162403331353,27.77427092538821,24.857954545454547,24.242424242424246,26.575890590940304,21.9671201814059,24.167162403331353,27.77427092538821,24.857954545454547,24.242424242424246,26.575890590940304,22.77318640955005,21.872422819032593,26.27728507868255,21.612811791383223,24.538964901844146,28.089887640449437,25.180785123966942,24.609733700642796,26.874496103198062,22.321428571428577,23.795359904818564,27.77427092538821,24.857954545454547,24.242424242424246,26.575890590940304,22.4058769513315,21.9671201814059,26.812218711098343,24.968009737523797,21.773842357381334,26.25072494734593,21.35779559539232,21.9671201814059,25.925925925925924,26.149276859504134,21.007667798746546,25.94548395958609,25.24933720489837,21.612811791383223,26.812218711098343,21.612811791383223,22.308149910767405,26.82742078020452,26.149276859504134,21.612811791383223,26.25072494734593,26.234567901234566,20.202020202020204,23.37472607742878,22.093170054286073,24.898143956541425,23.243801652892564,24.48565200513601,24.858365128916635,27.777777777777775,28.680111097693512,22.230987127541326,26.861206922865602,27.757487216946675,22.8625344752504,24.221453287197235,28.680111097693512,23.37472607742878,22.093170054286073,24.898143956541425,23.243801652892564,24.48565200513601,24.858365128916635,29.065926806711587,20.028841531805796,26.038781163434905,20.715693808680545,26.575890590940304,20.17325264032277,25.661152034778407,23.836734693877553,24.930747922437675,23.93948099205209,24.879178701135288,23.719609250647608,24.187046492878256],\"yaxis\":\"y\",\"type\":\"scatter\"},{\"hovertemplate\":\"\\u003cb\\u003e%{hovertext}\\u003c\\u002fb\\u003e\\u003cbr\\u003e\\u003cbr\\u003eTipo de Corpo=Ectomorfo\\u003cbr\\u003eSexo=%{x}\\u003cbr\\u003eimc=%{y}\\u003cbr\\u003eIdade=%{marker.size}\\u003cextra\\u003e\\u003c\\u002fextra\\u003e\",\"hovertext\":[\"Ana\",\"Lucas\",\"Isabela\",\"Larissa\",\"Thiago\",\"Aline\",\"Luana\",\"Renato\",\"Laura\",\"Mariana\",\"Lucas\",\"Amanda\",\"Leonardo\",\"J\\u00e9ssica\",\"Larissa\",\"Thiago\",\"Nat\\u00e1lia\",\"Jos\\u00e9\",\"Luana\",\"Laura\",\"Lucas\",\"Isabela\",\"Renato\",\"Larissa\",\"Camila\",\"Thiago\",\"Natasha\",\"Jos\\u00e9\",\"Luana\",\"Laura\",\"Lucas\",\"Isabela\",\"Renato\",\"Larissa\",\"Camila\",\"Thiago\",\"Natasha\",\"Jos\\u00e9\",\"Luana\",\"Laura\",\"Lucas\",\"Isabela\",\"Renato\",\"Larissa\",\"Camila\",\"Thiago\",\"Natasha\",\"Renata\",\"Lucas\",\"Isabela\",\"Jos\\u00e9\",\"Luana\",\"Laura\",\"Lucas\",\"Isabela\",\"Carlos\",\"Luana\",\"Camila\",\"Thiago\",\"Natasha\",\"Carolina\",\"Rodrigo\",\"Beatriz\",\"Vanessa\",\"Pedro\",\"Isabela\",\"Andr\\u00e9\",\"Bianca\",\"Mariana\",\"Lucas\",\"Isabela\",\"Gabriela\",\"Lucas\",\"Laura\",\"Carlos\",\"Luana\",\"Camila\",\"Thiago\",\"Natasha\",\"Maria\",\"Ricardo\",\"Beatriz\",\"Clara\",\"Gabriela\",\"Helena\",\"Karina\",\"L\\u00edvia\",\"Mariana\",\"Maria\",\"Ana\",\"Juliana\",\"Amanda\",\"Leticia\",\"Patricia\",\"Camila\",\"Sara\",\"Fernanda\",\"Rafaela\",\"Carolina\",\"Isabela\",\"Manuela\",\"Beatriz\",\"Clara\",\"Gabriela\",\"Helena\",\"Karina\",\"L\\u00edvia\",\"Mariana\",\"Patricia\",\"Roberto\",\"Juliana\",\"Bruno\",\"Paula\",\"Gustavo\",\"Camila\",\"Elisa\",\"Ingrid\",\"Karina\",\"N\\u00e1dia\",\"Paula\"],\"legendgroup\":\"Ectomorfo\",\"marker\":{\"color\":\"#00cc96\",\"size\":[22,25,29,24,29,27,25,27,28,26,30,27,28,27,28,32,26,28,27,28,32,26,28,27,28,32,26,28,27,28,32,26,28,27,28,32,26,28,27,28,32,26,28,27,28,32,26,27,28,28,28,27,28,32,26,28,27,28,32,26,28,31,26,29,32,28,31,26,29,27,28,28,26,29,31,27,29,27,28,34,37,19,28,18,24,36,26,20,30,20,28,22,29,25,31,23,26,34,27,24,28,19,28,18,24,36,26,20,28,39,22,40,36,38,22,29,19,25,26,21],\"sizemode\":\"area\",\"sizeref\":0.1125,\"symbol\":\"circle\"},\"mode\":\"markers\",\"name\":\"Ectomorfo\",\"orientation\":\"v\",\"showlegend\":true,\"x\":[\"F\",\"M\",\"F\",\"F\",\"M\",\"F\",\"F\",\"M\",\"F\",\"F\",\"M\",\"F\",\"M\",\"F\",\"F\",\"M\",\"F\",\"M\",\"F\",\"F\",\"M\",\"F\",\"M\",\"F\",\"F\",\"M\",\"F\",\"M\",\"F\",\"F\",\"M\",\"F\",\"M\",\"F\",\"F\",\"M\",\"F\",\"M\",\"F\",\"F\",\"M\",\"F\",\"M\",\"F\",\"F\",\"M\",\"F\",\"F\",\"M\",\"F\",\"M\",\"F\",\"F\",\"M\",\"F\",\"M\",\"F\",\"F\",\"M\",\"F\",\"F\",\"M\",\"F\",\"F\",\"M\",\"F\",\"M\",\"F\",\"F\",\"M\",\"F\",\"F\",\"M\",\"F\",\"M\",\"F\",\"F\",\"M\",\"F\",\"F\",\"M\",\"F\",\"F\",\"F\",\"F\",\"F\",\"F\",\"F\",\"F\",\"F\",\"F\",\"F\",\"F\",\"F\",\"F\",\"F\",\"F\",\"F\",\"F\",\"F\",\"F\",\"F\",\"F\",\"F\",\"F\",\"F\",\"F\",\"F\",\"F\",\"M\",\"F\",\"M\",\"F\",\"M\",\"F\",\"F\",\"F\",\"F\",\"F\",\"F\"],\"xaxis\":\"x\",\"y\":[20.761245674740486,23.671253629592222,20.796729893506402,21.453573713726524,26.861206922865602,22.03856749311295,21.35779559539232,27.777777777777775,21.9671201814059,21.79930795847751,26.555965935105768,21.410944984758313,26.874496103198062,21.513858510523864,21.545090797168363,26.234567901234566,21.35779559539232,27.17063156623596,21.15529420201513,21.545090797168363,26.234567901234566,21.35779559539232,27.17063156623596,21.15529420201513,21.545090797168363,26.234567901234566,21.35779559539232,27.17063156623596,21.15529420201513,21.545090797168363,26.234567901234566,21.35779559539232,27.17063156623596,21.15529420201513,21.545090797168363,26.234567901234566,21.35779559539232,27.17063156623596,21.15529420201513,21.545090797168363,26.234567901234566,21.35779559539232,27.17063156623596,21.15529420201513,21.545090797168363,26.234567901234566,21.35779559539232,22.145328719723185,26.528510346119035,22.058051188683873,27.47252747252747,20.796729893506402,21.20310522895934,26.54320987654321,21.707923392038097,27.17063156623596,21.513858510523864,21.545090797168363,26.234567901234566,21.35779559539232,21.79930795847751,26.448979591836736,21.410944984758313,21.612811791383223,26.47210743801653,21.79930795847751,26.82742078020452,21.410944984758313,21.612811791383223,26.173832551310287,21.887076365377382,21.773842357381334,25.90431010268094,21.79930795847751,26.56683975365294,20.796729893506402,21.79930795847751,25.61728395061728,21.887076365377382,24.38652644413961,27.77442337881898,20.312499999999996,22.20408163265306,20.028841531805796,21.453287197231838,21.79944510503369,21.15529420201513,19.979188345473464,20.202020202020204,20.761245674740486,20.549886621315196,18.818924310286427,21.258503401360546,20.70081674131507,22.49134948096886,20.936639118457304,20.796729893506402,21.707923392038097,20.202020202020204,18.818924310286427,21.258503401360546,20.312499999999996,22.20408163265306,20.028841531805796,21.453287197231838,21.79944510503369,21.15529420201513,19.979188345473464,21.612811791383223,26.296566837107374,20.39542143600416,25.689561925365066,20.65754000210077,25.14741588622962,22.189349112426033,21.71806608974573,20.17325264032277,21.545090797168363,21.096190514828187,21.04804761213529],\"yaxis\":\"y\",\"type\":\"scatter\"}],                        {\"template\":{\"data\":{\"histogram2dcontour\":[{\"type\":\"histogram2dcontour\",\"colorbar\":{\"outlinewidth\":0,\"ticks\":\"\"},\"colorscale\":[[0.0,\"#0d0887\"],[0.1111111111111111,\"#46039f\"],[0.2222222222222222,\"#7201a8\"],[0.3333333333333333,\"#9c179e\"],[0.4444444444444444,\"#bd3786\"],[0.5555555555555556,\"#d8576b\"],[0.6666666666666666,\"#ed7953\"],[0.7777777777777778,\"#fb9f3a\"],[0.8888888888888888,\"#fdca26\"],[1.0,\"#f0f921\"]]}],\"choropleth\":[{\"type\":\"choropleth\",\"colorbar\":{\"outlinewidth\":0,\"ticks\":\"\"}}],\"histogram2d\":[{\"type\":\"histogram2d\",\"colorbar\":{\"outlinewidth\":0,\"ticks\":\"\"},\"colorscale\":[[0.0,\"#0d0887\"],[0.1111111111111111,\"#46039f\"],[0.2222222222222222,\"#7201a8\"],[0.3333333333333333,\"#9c179e\"],[0.4444444444444444,\"#bd3786\"],[0.5555555555555556,\"#d8576b\"],[0.6666666666666666,\"#ed7953\"],[0.7777777777777778,\"#fb9f3a\"],[0.8888888888888888,\"#fdca26\"],[1.0,\"#f0f921\"]]}],\"heatmap\":[{\"type\":\"heatmap\",\"colorbar\":{\"outlinewidth\":0,\"ticks\":\"\"},\"colorscale\":[[0.0,\"#0d0887\"],[0.1111111111111111,\"#46039f\"],[0.2222222222222222,\"#7201a8\"],[0.3333333333333333,\"#9c179e\"],[0.4444444444444444,\"#bd3786\"],[0.5555555555555556,\"#d8576b\"],[0.6666666666666666,\"#ed7953\"],[0.7777777777777778,\"#fb9f3a\"],[0.8888888888888888,\"#fdca26\"],[1.0,\"#f0f921\"]]}],\"heatmapgl\":[{\"type\":\"heatmapgl\",\"colorbar\":{\"outlinewidth\":0,\"ticks\":\"\"},\"colorscale\":[[0.0,\"#0d0887\"],[0.1111111111111111,\"#46039f\"],[0.2222222222222222,\"#7201a8\"],[0.3333333333333333,\"#9c179e\"],[0.4444444444444444,\"#bd3786\"],[0.5555555555555556,\"#d8576b\"],[0.6666666666666666,\"#ed7953\"],[0.7777777777777778,\"#fb9f3a\"],[0.8888888888888888,\"#fdca26\"],[1.0,\"#f0f921\"]]}],\"contourcarpet\":[{\"type\":\"contourcarpet\",\"colorbar\":{\"outlinewidth\":0,\"ticks\":\"\"}}],\"contour\":[{\"type\":\"contour\",\"colorbar\":{\"outlinewidth\":0,\"ticks\":\"\"},\"colorscale\":[[0.0,\"#0d0887\"],[0.1111111111111111,\"#46039f\"],[0.2222222222222222,\"#7201a8\"],[0.3333333333333333,\"#9c179e\"],[0.4444444444444444,\"#bd3786\"],[0.5555555555555556,\"#d8576b\"],[0.6666666666666666,\"#ed7953\"],[0.7777777777777778,\"#fb9f3a\"],[0.8888888888888888,\"#fdca26\"],[1.0,\"#f0f921\"]]}],\"surface\":[{\"type\":\"surface\",\"colorbar\":{\"outlinewidth\":0,\"ticks\":\"\"},\"colorscale\":[[0.0,\"#0d0887\"],[0.1111111111111111,\"#46039f\"],[0.2222222222222222,\"#7201a8\"],[0.3333333333333333,\"#9c179e\"],[0.4444444444444444,\"#bd3786\"],[0.5555555555555556,\"#d8576b\"],[0.6666666666666666,\"#ed7953\"],[0.7777777777777778,\"#fb9f3a\"],[0.8888888888888888,\"#fdca26\"],[1.0,\"#f0f921\"]]}],\"mesh3d\":[{\"type\":\"mesh3d\",\"colorbar\":{\"outlinewidth\":0,\"ticks\":\"\"}}],\"scatter\":[{\"fillpattern\":{\"fillmode\":\"overlay\",\"size\":10,\"solidity\":0.2},\"type\":\"scatter\"}],\"parcoords\":[{\"type\":\"parcoords\",\"line\":{\"colorbar\":{\"outlinewidth\":0,\"ticks\":\"\"}}}],\"scatterpolargl\":[{\"type\":\"scatterpolargl\",\"marker\":{\"colorbar\":{\"outlinewidth\":0,\"ticks\":\"\"}}}],\"bar\":[{\"error_x\":{\"color\":\"#2a3f5f\"},\"error_y\":{\"color\":\"#2a3f5f\"},\"marker\":{\"line\":{\"color\":\"#E5ECF6\",\"width\":0.5},\"pattern\":{\"fillmode\":\"overlay\",\"size\":10,\"solidity\":0.2}},\"type\":\"bar\"}],\"scattergeo\":[{\"type\":\"scattergeo\",\"marker\":{\"colorbar\":{\"outlinewidth\":0,\"ticks\":\"\"}}}],\"scatterpolar\":[{\"type\":\"scatterpolar\",\"marker\":{\"colorbar\":{\"outlinewidth\":0,\"ticks\":\"\"}}}],\"histogram\":[{\"marker\":{\"pattern\":{\"fillmode\":\"overlay\",\"size\":10,\"solidity\":0.2}},\"type\":\"histogram\"}],\"scattergl\":[{\"type\":\"scattergl\",\"marker\":{\"colorbar\":{\"outlinewidth\":0,\"ticks\":\"\"}}}],\"scatter3d\":[{\"type\":\"scatter3d\",\"line\":{\"colorbar\":{\"outlinewidth\":0,\"ticks\":\"\"}},\"marker\":{\"colorbar\":{\"outlinewidth\":0,\"ticks\":\"\"}}}],\"scattermapbox\":[{\"type\":\"scattermapbox\",\"marker\":{\"colorbar\":{\"outlinewidth\":0,\"ticks\":\"\"}}}],\"scatterternary\":[{\"type\":\"scatterternary\",\"marker\":{\"colorbar\":{\"outlinewidth\":0,\"ticks\":\"\"}}}],\"scattercarpet\":[{\"type\":\"scattercarpet\",\"marker\":{\"colorbar\":{\"outlinewidth\":0,\"ticks\":\"\"}}}],\"carpet\":[{\"aaxis\":{\"endlinecolor\":\"#2a3f5f\",\"gridcolor\":\"white\",\"linecolor\":\"white\",\"minorgridcolor\":\"white\",\"startlinecolor\":\"#2a3f5f\"},\"baxis\":{\"endlinecolor\":\"#2a3f5f\",\"gridcolor\":\"white\",\"linecolor\":\"white\",\"minorgridcolor\":\"white\",\"startlinecolor\":\"#2a3f5f\"},\"type\":\"carpet\"}],\"table\":[{\"cells\":{\"fill\":{\"color\":\"#EBF0F8\"},\"line\":{\"color\":\"white\"}},\"header\":{\"fill\":{\"color\":\"#C8D4E3\"},\"line\":{\"color\":\"white\"}},\"type\":\"table\"}],\"barpolar\":[{\"marker\":{\"line\":{\"color\":\"#E5ECF6\",\"width\":0.5},\"pattern\":{\"fillmode\":\"overlay\",\"size\":10,\"solidity\":0.2}},\"type\":\"barpolar\"}],\"pie\":[{\"automargin\":true,\"type\":\"pie\"}]},\"layout\":{\"autotypenumbers\":\"strict\",\"colorway\":[\"#636efa\",\"#EF553B\",\"#00cc96\",\"#ab63fa\",\"#FFA15A\",\"#19d3f3\",\"#FF6692\",\"#B6E880\",\"#FF97FF\",\"#FECB52\"],\"font\":{\"color\":\"#2a3f5f\"},\"hovermode\":\"closest\",\"hoverlabel\":{\"align\":\"left\"},\"paper_bgcolor\":\"white\",\"plot_bgcolor\":\"#E5ECF6\",\"polar\":{\"bgcolor\":\"#E5ECF6\",\"angularaxis\":{\"gridcolor\":\"white\",\"linecolor\":\"white\",\"ticks\":\"\"},\"radialaxis\":{\"gridcolor\":\"white\",\"linecolor\":\"white\",\"ticks\":\"\"}},\"ternary\":{\"bgcolor\":\"#E5ECF6\",\"aaxis\":{\"gridcolor\":\"white\",\"linecolor\":\"white\",\"ticks\":\"\"},\"baxis\":{\"gridcolor\":\"white\",\"linecolor\":\"white\",\"ticks\":\"\"},\"caxis\":{\"gridcolor\":\"white\",\"linecolor\":\"white\",\"ticks\":\"\"}},\"coloraxis\":{\"colorbar\":{\"outlinewidth\":0,\"ticks\":\"\"}},\"colorscale\":{\"sequential\":[[0.0,\"#0d0887\"],[0.1111111111111111,\"#46039f\"],[0.2222222222222222,\"#7201a8\"],[0.3333333333333333,\"#9c179e\"],[0.4444444444444444,\"#bd3786\"],[0.5555555555555556,\"#d8576b\"],[0.6666666666666666,\"#ed7953\"],[0.7777777777777778,\"#fb9f3a\"],[0.8888888888888888,\"#fdca26\"],[1.0,\"#f0f921\"]],\"sequentialminus\":[[0.0,\"#0d0887\"],[0.1111111111111111,\"#46039f\"],[0.2222222222222222,\"#7201a8\"],[0.3333333333333333,\"#9c179e\"],[0.4444444444444444,\"#bd3786\"],[0.5555555555555556,\"#d8576b\"],[0.6666666666666666,\"#ed7953\"],[0.7777777777777778,\"#fb9f3a\"],[0.8888888888888888,\"#fdca26\"],[1.0,\"#f0f921\"]],\"diverging\":[[0,\"#8e0152\"],[0.1,\"#c51b7d\"],[0.2,\"#de77ae\"],[0.3,\"#f1b6da\"],[0.4,\"#fde0ef\"],[0.5,\"#f7f7f7\"],[0.6,\"#e6f5d0\"],[0.7,\"#b8e186\"],[0.8,\"#7fbc41\"],[0.9,\"#4d9221\"],[1,\"#276419\"]]},\"xaxis\":{\"gridcolor\":\"white\",\"linecolor\":\"white\",\"ticks\":\"\",\"title\":{\"standoff\":15},\"zerolinecolor\":\"white\",\"automargin\":true,\"zerolinewidth\":2},\"yaxis\":{\"gridcolor\":\"white\",\"linecolor\":\"white\",\"ticks\":\"\",\"title\":{\"standoff\":15},\"zerolinecolor\":\"white\",\"automargin\":true,\"zerolinewidth\":2},\"scene\":{\"xaxis\":{\"backgroundcolor\":\"#E5ECF6\",\"gridcolor\":\"white\",\"linecolor\":\"white\",\"showbackground\":true,\"ticks\":\"\",\"zerolinecolor\":\"white\",\"gridwidth\":2},\"yaxis\":{\"backgroundcolor\":\"#E5ECF6\",\"gridcolor\":\"white\",\"linecolor\":\"white\",\"showbackground\":true,\"ticks\":\"\",\"zerolinecolor\":\"white\",\"gridwidth\":2},\"zaxis\":{\"backgroundcolor\":\"#E5ECF6\",\"gridcolor\":\"white\",\"linecolor\":\"white\",\"showbackground\":true,\"ticks\":\"\",\"zerolinecolor\":\"white\",\"gridwidth\":2}},\"shapedefaults\":{\"line\":{\"color\":\"#2a3f5f\"}},\"annotationdefaults\":{\"arrowcolor\":\"#2a3f5f\",\"arrowhead\":0,\"arrowwidth\":1},\"geo\":{\"bgcolor\":\"white\",\"landcolor\":\"#E5ECF6\",\"subunitcolor\":\"white\",\"showland\":true,\"showlakes\":true,\"lakecolor\":\"white\"},\"title\":{\"x\":0.05},\"mapbox\":{\"style\":\"light\"}}},\"xaxis\":{\"anchor\":\"y\",\"domain\":[0.0,1.0],\"title\":{\"text\":\"Sexo\"}},\"yaxis\":{\"anchor\":\"x\",\"domain\":[0.0,1.0],\"title\":{\"text\":\"imc\"}},\"legend\":{\"title\":{\"text\":\"Tipo de Corpo\"},\"tracegroupgap\":0,\"itemsizing\":\"constant\"},\"title\":{\"text\":\"Compara\\u00e7\\u00e3o de IMC por Sexo\"}},                        {\"responsive\": true}                    ).then(function(){\n",
              "                            \n",
              "var gd = document.getElementById('94f1ee9a-ce96-461a-894d-f66e7080a7c1');\n",
              "var x = new MutationObserver(function (mutations, observer) {{\n",
              "        var display = window.getComputedStyle(gd).display;\n",
              "        if (!display || display === 'none') {{\n",
              "            console.log([gd, 'removed!']);\n",
              "            Plotly.purge(gd);\n",
              "            observer.disconnect();\n",
              "        }}\n",
              "}});\n",
              "\n",
              "// Listen for the removal of the full notebook cells\n",
              "var notebookContainer = gd.closest('#notebook-container');\n",
              "if (notebookContainer) {{\n",
              "    x.observe(notebookContainer, {childList: true});\n",
              "}}\n",
              "\n",
              "// Listen for the clearing of the current output cell\n",
              "var outputEl = gd.closest('.output');\n",
              "if (outputEl) {{\n",
              "    x.observe(outputEl, {childList: true});\n",
              "}}\n",
              "\n",
              "                        })                };                            </script>        </div>\n",
              "</body>\n",
              "</html>"
            ]
          },
          "metadata": {}
        }
      ]
    },
    {
      "cell_type": "code",
      "source": [
        "plt.figure(figsize=(8, 5))\n",
        "sns.violinplot(x=dataframe['Treina'], y=dataframe['imc'], palette='dark')\n",
        "plt.title('IMC por Treino')\n",
        "plt.xlabel('Treina?')\n",
        "plt.ylabel('IMC')\n",
        "plt.grid(True)\n",
        "plt.xticks([0, 1], ['Não', 'Sim'])\n",
        "plt.show()"
      ],
      "metadata": {
        "id": "6P3QC7iUWZhz",
        "outputId": "48408fa5-9172-4c4a-dd18-d1dbf838b5b0",
        "colab": {
          "base_uri": "https://localhost:8080/",
          "height": 609
        }
      },
      "execution_count": 26,
      "outputs": [
        {
          "output_type": "stream",
          "name": "stderr",
          "text": [
            "<ipython-input-26-edae9ef5a74e>:2: FutureWarning:\n",
            "\n",
            "\n",
            "\n",
            "Passing `palette` without assigning `hue` is deprecated and will be removed in v0.14.0. Assign the `x` variable to `hue` and set `legend=False` for the same effect.\n",
            "\n",
            "\n"
          ]
        },
        {
          "output_type": "display_data",
          "data": {
            "text/plain": [
              "<Figure size 800x500 with 1 Axes>"
            ],
            "image/png": "[encoded data removed]"
          },
          "metadata": {}
        }
      ]
    },
    {
      "cell_type": "code",
      "source": [
        "plt.figure(figsize=(8, 5))\n",
        "sns.boxplot(x=dataframe['Tipo de Corpo'], y=dataframe['Altura'], palette='Set1')\n",
        "plt.title('Altura por Tipo de Corpo')\n",
        "plt.xlabel('Tipo de Corpo')\n",
        "plt.ylabel('Altura (m)')\n",
        "plt.grid(True)\n",
        "plt.show()"
      ],
      "metadata": {
        "id": "KX3diZMoWl43",
        "outputId": "a4c79ece-3efe-4ee6-d379-dc21f7cb13b7",
        "colab": {
          "base_uri": "https://localhost:8080/",
          "height": 609
        }
      },
      "execution_count": 27,
      "outputs": [
        {
          "output_type": "stream",
          "name": "stderr",
          "text": [
            "<ipython-input-27-3ab57a9375aa>:2: FutureWarning:\n",
            "\n",
            "\n",
            "\n",
            "Passing `palette` without assigning `hue` is deprecated and will be removed in v0.14.0. Assign the `x` variable to `hue` and set `legend=False` for the same effect.\n",
            "\n",
            "\n"
          ]
        },
        {
          "output_type": "display_data",
          "data": {
            "text/plain": [
              "<Figure size 800x500 with 1 Axes>"
            ],
            "image/png": "[encoded data removed]"
          },
          "metadata": {}
        }
      ]
    },
    {
      "cell_type": "markdown",
      "source": [
        "### Analise dos dados\n",
        "- O IMC tem muita relacao sobre a altura e peso.\n",
        "- Conseguimos analise que pessoas que nao tem rotina de Treino tem a tendencia de ter um IMC maior\n",
        "- O Sexo feminino tem tendencias maiores em Ectomorfo do que Sexo Masculino\n",
        "- Mesomorfo e o tipo de corpo mais comum entre as pessoas\n",
        "- Pessoas Endomorfas tem a tendencia de ter um indice de IMC maior\n",
        "#### Conclusao\n",
        "- O conjunto de dados e feito por dados gerados por IA ou aleatorios, existe um padrao, mas nao ha significado exato ou pesos corretos.\n",
        "- Nesta ultima versao do dataset conseguimos criar dados com a minima coerencia e simulando um pouco o mundo real.\n",
        "- Conjunto de dados muito pequeno para um treinamento real"
      ],
      "metadata": {
        "id": "PlCyqy5IDKhC"
      }
    },
    {
      "cell_type": "markdown",
      "source": [
        "# Tratamento dos dados"
      ],
      "metadata": {
        "id": "G1U983pXZPSZ"
      }
    },
    {
      "cell_type": "code",
      "source": [
        "dataframe.dtypes"
      ],
      "metadata": {
        "id": "xQITgVzVl2eP",
        "outputId": "312b3e07-fcb7-40e5-b600-72f834bed3e2",
        "colab": {
          "base_uri": "https://localhost:8080/"
        }
      },
      "execution_count": 28,
      "outputs": [
        {
          "output_type": "execute_result",
          "data": {
            "text/plain": [
              "Nome              object\n",
              "Idade              int64\n",
              "Sexo              object\n",
              "Treina              bool\n",
              "Altura           float64\n",
              "Peso               int64\n",
              "Tipo de Corpo     object\n",
              "Deficiente          bool\n",
              "imc              float64\n",
              "sobrepeso           bool\n",
              "dtype: object"
            ]
          },
          "metadata": {},
          "execution_count": 28
        }
      ]
    },
    {
      "cell_type": "markdown",
      "source": [
        "Para o treinamento e necessario transformar as variaveis categorias em numericas"
      ],
      "metadata": {
        "id": "qwP0fhvTC8ua"
      }
    },
    {
      "cell_type": "code",
      "source": [
        "dataframe['Sexo'] = dataframe['Sexo'].replace({'F': 0, 'M': 1})\n",
        "dataframe['Treina'] = dataframe['Treina'].astype(int)\n",
        "dataframe['Deficiente'] = dataframe['Deficiente'].astype(int)\n",
        "dataframe['Tipo de Corpo'] = dataframe['Tipo de Corpo'].map({'Mesomorfo': 0, 'Ectomorfo': 1, 'Endomorfo': 2})\n"
      ],
      "metadata": {
        "id": "a4YoafYkZarf"
      },
      "execution_count": 29,
      "outputs": []
    },
    {
      "cell_type": "code",
      "source": [
        "dataframe.tail()"
      ],
      "metadata": {
        "id": "nC370Av_ml14",
        "outputId": "cdaad629-2ca1-4940-cd3c-d3b8a716c7ba",
        "colab": {
          "base_uri": "https://localhost:8080/",
          "height": 206
        }
      },
      "execution_count": 30,
      "outputs": [
        {
          "output_type": "execute_result",
          "data": {
            "text/plain": [
              "        Nome  Idade  Sexo  Treina  Altura  Peso  Tipo de Corpo  Deficiente  \\\n",
              "379   Otávio     42     1       1    1.81    79              0           0   \n",
              "380    Paula     21     0       1    1.66    58              1           0   \n",
              "381  Ricardo     36     1       0    1.79    76              2           1   \n",
              "382    Sofia     24     0       1    1.70    62              0           0   \n",
              "383    Tiago     29     1       1    1.83    81              2           0   \n",
              "\n",
              "           imc  sobrepeso  \n",
              "379  24.114038      False  \n",
              "380  21.048048      False  \n",
              "381  23.719609      False  \n",
              "382  21.453287      False  \n",
              "383  24.187046      False  "
            ],
            "text/html": [
              "\n",
              "  <div id=\"df-2a16f548-c261-4767-897f-eb31038c46f4\" class=\"colab-df-container\">\n",
              "    <div>\n",
              "<style scoped>\n",
              "    .dataframe tbody tr th:only-of-type {\n",
              "        vertical-align: middle;\n",
              "    }\n",
              "\n",
              "    .dataframe tbody tr th {\n",
              "        vertical-align: top;\n",
              "    }\n",
              "\n",
              "    .dataframe thead th {\n",
              "        text-align: right;\n",
              "    }\n",
              "</style>\n",
              "<table border=\"1\" class=\"dataframe\">\n",
              "  <thead>\n",
              "    <tr style=\"text-align: right;\">\n",
              "      <th></th>\n",
              "      <th>Nome</th>\n",
              "      <th>Idade</th>\n",
              "      <th>Sexo</th>\n",
              "      <th>Treina</th>\n",
              "      <th>Altura</th>\n",
              "      <th>Peso</th>\n",
              "      <th>Tipo de Corpo</th>\n",
              "      <th>Deficiente</th>\n",
              "      <th>imc</th>\n",
              "      <th>sobrepeso</th>\n",
              "    </tr>\n",
              "  </thead>\n",
              "  <tbody>\n",
              "    <tr>\n",
              "      <th>379</th>\n",
              "      <td>Otávio</td>\n",
              "      <td>42</td>\n",
              "      <td>1</td>\n",
              "      <td>1</td>\n",
              "      <td>1.81</td>\n",
              "      <td>79</td>\n",
              "      <td>0</td>\n",
              "      <td>0</td>\n",
              "      <td>24.114038</td>\n",
              "      <td>False</td>\n",
              "    </tr>\n",
              "    <tr>\n",
              "      <th>380</th>\n",
              "      <td>Paula</td>\n",
              "      <td>21</td>\n",
              "      <td>0</td>\n",
              "      <td>1</td>\n",
              "      <td>1.66</td>\n",
              "      <td>58</td>\n",
              "      <td>1</td>\n",
              "      <td>0</td>\n",
              "      <td>21.048048</td>\n",
              "      <td>False</td>\n",
              "    </tr>\n",
              "    <tr>\n",
              "      <th>381</th>\n",
              "      <td>Ricardo</td>\n",
              "      <td>36</td>\n",
              "      <td>1</td>\n",
              "      <td>0</td>\n",
              "      <td>1.79</td>\n",
              "      <td>76</td>\n",
              "      <td>2</td>\n",
              "      <td>1</td>\n",
              "      <td>23.719609</td>\n",
              "      <td>False</td>\n",
              "    </tr>\n",
              "    <tr>\n",
              "      <th>382</th>\n",
              "      <td>Sofia</td>\n",
              "      <td>24</td>\n",
              "      <td>0</td>\n",
              "      <td>1</td>\n",
              "      <td>1.70</td>\n",
              "      <td>62</td>\n",
              "      <td>0</td>\n",
              "      <td>0</td>\n",
              "      <td>21.453287</td>\n",
              "      <td>False</td>\n",
              "    </tr>\n",
              "    <tr>\n",
              "      <th>383</th>\n",
              "      <td>Tiago</td>\n",
              "      <td>29</td>\n",
              "      <td>1</td>\n",
              "      <td>1</td>\n",
              "      <td>1.83</td>\n",
              "      <td>81</td>\n",
              "      <td>2</td>\n",
              "      <td>0</td>\n",
              "      <td>24.187046</td>\n",
              "      <td>False</td>\n",
              "    </tr>\n",
              "  </tbody>\n",
              "</table>\n",
              "</div>\n",
              "    <div class=\"colab-df-buttons\">\n",
              "\n",
              "  <div class=\"colab-df-container\">\n",
              "    <button class=\"colab-df-convert\" onclick=\"convertToInteractive('df-2a16f548-c261-4767-897f-eb31038c46f4')\"\n",
              "            title=\"Convert this dataframe to an interactive table.\"\n",
              "            style=\"display:none;\">\n",
              "\n",
              "  <svg xmlns=\"http://www.w3.org/2000/svg\" height=\"24px\" viewBox=\"0 -960 960 960\">\n",
              "    <path d=\"M120-120v-720h720v720H120Zm60-500h600v-160H180v160Zm220 220h160v-160H400v160Zm0 220h160v-160H400v160ZM180-400h160v-160H180v160Zm440 0h160v-160H620v160ZM180-180h160v-160H180v160Zm440 0h160v-160H620v160Z\"/>\n",
              "  </svg>\n",
              "    </button>\n",
              "\n",
              "  <style>\n",
              "    .colab-df-container {\n",
              "      display:flex;\n",
              "      gap: 12px;\n",
              "    }\n",
              "\n",
              "    .colab-df-convert {\n",
              "      background-color: #E8F0FE;\n",
              "      border: none;\n",
              "      border-radius: 50%;\n",
              "      cursor: pointer;\n",
              "      display: none;\n",
              "      fill: #1967D2;\n",
              "      height: 32px;\n",
              "      padding: 0 0 0 0;\n",
              "      width: 32px;\n",
              "    }\n",
              "\n",
              "    .colab-df-convert:hover {\n",
              "      background-color: #E2EBFA;\n",
              "      box-shadow: 0px 1px 2px rgba(60, 64, 67, 0.3), 0px 1px 3px 1px rgba(60, 64, 67, 0.15);\n",
              "      fill: #174EA6;\n",
              "    }\n",
              "\n",
              "    .colab-df-buttons div {\n",
              "      margin-bottom: 4px;\n",
              "    }\n",
              "\n",
              "    [theme=dark] .colab-df-convert {\n",
              "      background-color: #3B4455;\n",
              "      fill: #D2E3FC;\n",
              "    }\n",
              "\n",
              "    [theme=dark] .colab-df-convert:hover {\n",
              "      background-color: #434B5C;\n",
              "      box-shadow: 0px 1px 3px 1px rgba(0, 0, 0, 0.15);\n",
              "      filter: drop-shadow(0px 1px 2px rgba(0, 0, 0, 0.3));\n",
              "      fill: #FFFFFF;\n",
              "    }\n",
              "  </style>\n",
              "\n",
              "    <script>\n",
              "      const buttonEl =\n",
              "        document.querySelector('#df-2a16f548-c261-4767-897f-eb31038c46f4 button.colab-df-convert');\n",
              "      buttonEl.style.display =\n",
              "        google.colab.kernel.accessAllowed ? 'block' : 'none';\n",
              "\n",
              "      async function convertToInteractive(key) {\n",
              "        const element = document.querySelector('#df-2a16f548-c261-4767-897f-eb31038c46f4');\n",
              "        const dataTable =\n",
              "          await google.colab.kernel.invokeFunction('convertToInteractive',\n",
              "                                                    [key], {});\n",
              "        if (!dataTable) return;\n",
              "\n",
              "        const docLinkHtml = 'Like what you see? Visit the ' +\n",
              "          '<a target=\"_blank\" href=https://colab.research.google.com/notebooks/data_table.ipynb>data table notebook</a>'\n",
              "          + ' to learn more about interactive tables.';\n",
              "        element.innerHTML = '';\n",
              "        dataTable['output_type'] = 'display_data';\n",
              "        await google.colab.output.renderOutput(dataTable, element);\n",
              "        const docLink = document.createElement('div');\n",
              "        docLink.innerHTML = docLinkHtml;\n",
              "        element.appendChild(docLink);\n",
              "      }\n",
              "    </script>\n",
              "  </div>\n",
              "\n",
              "\n",
              "<div id=\"df-f9d733a2-decc-4432-9c8c-f0d1eb975d67\">\n",
              "  <button class=\"colab-df-quickchart\" onclick=\"quickchart('df-f9d733a2-decc-4432-9c8c-f0d1eb975d67')\"\n",
              "            title=\"Suggest charts\"\n",
              "            style=\"display:none;\">\n",
              "\n",
              "<svg xmlns=\"http://www.w3.org/2000/svg\" height=\"24px\"viewBox=\"0 0 24 24\"\n",
              "     width=\"24px\">\n",
              "    <g>\n",
              "        <path d=\"M19 3H5c-1.1 0-2 .9-2 2v14c0 1.1.9 2 2 2h14c1.1 0 2-.9 2-2V5c0-1.1-.9-2-2-2zM9 17H7v-7h2v7zm4 0h-2V7h2v10zm4 0h-2v-4h2v4z\"/>\n",
              "    </g>\n",
              "</svg>\n",
              "  </button>\n",
              "\n",
              "<style>\n",
              "  .colab-df-quickchart {\n",
              "      --bg-color: #E8F0FE;\n",
              "      --fill-color: #1967D2;\n",
              "      --hover-bg-color: #E2EBFA;\n",
              "      --hover-fill-color: #174EA6;\n",
              "      --disabled-fill-color: #AAA;\n",
              "      --disabled-bg-color: #DDD;\n",
              "  }\n",
              "\n",
              "  [theme=dark] .colab-df-quickchart {\n",
              "      --bg-color: #3B4455;\n",
              "      --fill-color: #D2E3FC;\n",
              "      --hover-bg-color: #434B5C;\n",
              "      --hover-fill-color: #FFFFFF;\n",
              "      --disabled-bg-color: #3B4455;\n",
              "      --disabled-fill-color: #666;\n",
              "  }\n",
              "\n",
              "  .colab-df-quickchart {\n",
              "    background-color: var(--bg-color);\n",
              "    border: none;\n",
              "    border-radius: 50%;\n",
              "    cursor: pointer;\n",
              "    display: none;\n",
              "    fill: var(--fill-color);\n",
              "    height: 32px;\n",
              "    padding: 0;\n",
              "    width: 32px;\n",
              "  }\n",
              "\n",
              "  .colab-df-quickchart:hover {\n",
              "    background-color: var(--hover-bg-color);\n",
              "    box-shadow: 0 1px 2px rgba(60, 64, 67, 0.3), 0 1px 3px 1px rgba(60, 64, 67, 0.15);\n",
              "    fill: var(--button-hover-fill-color);\n",
              "  }\n",
              "\n",
              "  .colab-df-quickchart-complete:disabled,\n",
              "  .colab-df-quickchart-complete:disabled:hover {\n",
              "    background-color: var(--disabled-bg-color);\n",
              "    fill: var(--disabled-fill-color);\n",
              "    box-shadow: none;\n",
              "  }\n",
              "\n",
              "  .colab-df-spinner {\n",
              "    border: 2px solid var(--fill-color);\n",
              "    border-color: transparent;\n",
              "    border-bottom-color: var(--fill-color);\n",
              "    animation:\n",
              "      spin 1s steps(1) infinite;\n",
              "  }\n",
              "\n",
              "  @keyframes spin {\n",
              "    0% {\n",
              "      border-color: transparent;\n",
              "      border-bottom-color: var(--fill-color);\n",
              "      border-left-color: var(--fill-color);\n",
              "    }\n",
              "    20% {\n",
              "      border-color: transparent;\n",
              "      border-left-color: var(--fill-color);\n",
              "      border-top-color: var(--fill-color);\n",
              "    }\n",
              "    30% {\n",
              "      border-color: transparent;\n",
              "      border-left-color: var(--fill-color);\n",
              "      border-top-color: var(--fill-color);\n",
              "      border-right-color: var(--fill-color);\n",
              "    }\n",
              "    40% {\n",
              "      border-color: transparent;\n",
              "      border-right-color: var(--fill-color);\n",
              "      border-top-color: var(--fill-color);\n",
              "    }\n",
              "    60% {\n",
              "      border-color: transparent;\n",
              "      border-right-color: var(--fill-color);\n",
              "    }\n",
              "    80% {\n",
              "      border-color: transparent;\n",
              "      border-right-color: var(--fill-color);\n",
              "      border-bottom-color: var(--fill-color);\n",
              "    }\n",
              "    90% {\n",
              "      border-color: transparent;\n",
              "      border-bottom-color: var(--fill-color);\n",
              "    }\n",
              "  }\n",
              "</style>\n",
              "\n",
              "  <script>\n",
              "    async function quickchart(key) {\n",
              "      const quickchartButtonEl =\n",
              "        document.querySelector('#' + key + ' button');\n",
              "      quickchartButtonEl.disabled = true;  // To prevent multiple clicks.\n",
              "      quickchartButtonEl.classList.add('colab-df-spinner');\n",
              "      try {\n",
              "        const charts = await google.colab.kernel.invokeFunction(\n",
              "            'suggestCharts', [key], {});\n",
              "      } catch (error) {\n",
              "        console.error('Error during call to suggestCharts:', error);\n",
              "      }\n",
              "      quickchartButtonEl.classList.remove('colab-df-spinner');\n",
              "      quickchartButtonEl.classList.add('colab-df-quickchart-complete');\n",
              "    }\n",
              "    (() => {\n",
              "      let quickchartButtonEl =\n",
              "        document.querySelector('#df-f9d733a2-decc-4432-9c8c-f0d1eb975d67 button');\n",
              "      quickchartButtonEl.style.display =\n",
              "        google.colab.kernel.accessAllowed ? 'block' : 'none';\n",
              "    })();\n",
              "  </script>\n",
              "</div>\n",
              "\n",
              "    </div>\n",
              "  </div>\n"
            ],
            "application/vnd.google.colaboratory.intrinsic+json": {
              "type": "dataframe",
              "summary": "{\n  \"name\": \"dataframe\",\n  \"rows\": 5,\n  \"fields\": [\n    {\n      \"column\": \"Nome\",\n      \"properties\": {\n        \"dtype\": \"string\",\n        \"num_unique_values\": 5,\n        \"samples\": [\n          \"Paula\",\n          \"Tiago\",\n          \"Ricardo\"\n        ],\n        \"semantic_type\": \"\",\n        \"description\": \"\"\n      }\n    },\n    {\n      \"column\": \"Idade\",\n      \"properties\": {\n        \"dtype\": \"number\",\n        \"std\": 8,\n        \"min\": 21,\n        \"max\": 42,\n        \"num_unique_values\": 5,\n        \"samples\": [\n          21,\n          29,\n          36\n        ],\n        \"semantic_type\": \"\",\n        \"description\": \"\"\n      }\n    },\n    {\n      \"column\": \"Sexo\",\n      \"properties\": {\n        \"dtype\": \"number\",\n        \"std\": 0,\n        \"min\": 0,\n        \"max\": 1,\n        \"num_unique_values\": 2,\n        \"samples\": [\n          0,\n          1\n        ],\n        \"semantic_type\": \"\",\n        \"description\": \"\"\n      }\n    },\n    {\n      \"column\": \"Treina\",\n      \"properties\": {\n        \"dtype\": \"number\",\n        \"std\": 0,\n        \"min\": 0,\n        \"max\": 1,\n        \"num_unique_values\": 2,\n        \"samples\": [\n          0,\n          1\n        ],\n        \"semantic_type\": \"\",\n        \"description\": \"\"\n      }\n    },\n    {\n      \"column\": \"Altura\",\n      \"properties\": {\n        \"dtype\": \"number\",\n        \"std\": 0.07395944834840244,\n        \"min\": 1.66,\n        \"max\": 1.83,\n        \"num_unique_values\": 5,\n        \"samples\": [\n          1.66,\n          1.83\n        ],\n        \"semantic_type\": \"\",\n        \"description\": \"\"\n      }\n    },\n    {\n      \"column\": \"Peso\",\n      \"properties\": {\n        \"dtype\": \"number\",\n        \"std\": 10,\n        \"min\": 58,\n        \"max\": 81,\n        \"num_unique_values\": 5,\n        \"samples\": [\n          58,\n          81\n        ],\n        \"semantic_type\": \"\",\n        \"description\": \"\"\n      }\n    },\n    {\n      \"column\": \"Tipo de Corpo\",\n      \"properties\": {\n        \"dtype\": \"number\",\n        \"std\": 1,\n        \"min\": 0,\n        \"max\": 2,\n        \"num_unique_values\": 3,\n        \"samples\": [\n          0,\n          1\n        ],\n        \"semantic_type\": \"\",\n        \"description\": \"\"\n      }\n    },\n    {\n      \"column\": \"Deficiente\",\n      \"properties\": {\n        \"dtype\": \"number\",\n        \"std\": 0,\n        \"min\": 0,\n        \"max\": 1,\n        \"num_unique_values\": 2,\n        \"samples\": [\n          1,\n          0\n        ],\n        \"semantic_type\": \"\",\n        \"description\": \"\"\n      }\n    },\n    {\n      \"column\": \"imc\",\n      \"properties\": {\n        \"dtype\": \"number\",\n        \"std\": 1.5268222615210645,\n        \"min\": 21.04804761213529,\n        \"max\": 24.187046492878256,\n        \"num_unique_values\": 5,\n        \"samples\": [\n          21.04804761213529,\n          24.187046492878256\n        ],\n        \"semantic_type\": \"\",\n        \"description\": \"\"\n      }\n    },\n    {\n      \"column\": \"sobrepeso\",\n      \"properties\": {\n        \"dtype\": \"boolean\",\n        \"num_unique_values\": 1,\n        \"samples\": [\n          false\n        ],\n        \"semantic_type\": \"\",\n        \"description\": \"\"\n      }\n    }\n  ]\n}"
            }
          },
          "metadata": {},
          "execution_count": 30
        }
      ]
    },
    {
      "cell_type": "markdown",
      "source": [
        "Tirando nome do conjunto de dados"
      ],
      "metadata": {
        "id": "Ocp1tacQCy5N"
      }
    },
    {
      "cell_type": "code",
      "source": [
        "# Removendo a coluna 'Nome'\n",
        "df_sn = dataframe.drop(columns=['Nome'], inplace=True)"
      ],
      "metadata": {
        "id": "RAZwwG8MmU_N"
      },
      "execution_count": 31,
      "outputs": []
    },
    {
      "cell_type": "markdown",
      "source": [
        "Utilizando o plt Heatmap para verificar a relacao entre os dados"
      ],
      "metadata": {
        "id": "793ZvhHmC1dY"
      }
    },
    {
      "cell_type": "code",
      "source": [
        "plt.figure(figsize=(10, 8))\n",
        "sns.heatmap(dataframe.corr(), annot=True, cmap='coolwarm', linewidths=.5)\n",
        "plt.title('Mapa de Calor - Correlação entre Variáveis')\n",
        "plt.show()"
      ],
      "metadata": {
        "id": "bLiad8CQZesf",
        "outputId": "41fe475c-51e8-452f-d9ba-82c1c55094e1",
        "colab": {
          "base_uri": "https://localhost:8080/",
          "height": 782
        }
      },
      "execution_count": 32,
      "outputs": [
        {
          "output_type": "display_data",
          "data": {
            "text/plain": [
              "<Figure size 1000x800 with 2 Axes>"
            ],
            "image/png": "[encoded data removed]"
          },
          "metadata": {}
        }
      ]
    },
    {
      "cell_type": "markdown",
      "source": [
        "Depois de uma analise sobre o objetivo final e o conjunto de dados, foi decidido criar uma variavel alvo com 5 valores possiveis"
      ],
      "metadata": {
        "id": "WfIxF9o9Ce7E"
      }
    },
    {
      "cell_type": "code",
      "source": [
        "dataframe['Objetivo de Treino'] = 'Treino Manutencao'\n",
        "\n",
        "dataframe['Objetivo de Treino'] = np.where(dataframe['Deficiente'] == 1, 'Treino Especial', dataframe['Objetivo de Treino'])\n",
        "\n",
        "# Definir Treino Perda de Peso para clientes com sobrepeso\n",
        "dataframe['Objetivo de Treino'] = np.where(dataframe['sobrepeso'] == 1, 'Treino Perda de Peso', dataframe['Objetivo de Treino'])\n",
        "\n",
        "# Definir Treino Ganho de Massa para clientes com IMC < 18.5\n",
        "dataframe['Objetivo de Treino'] = np.where(dataframe['imc'] < 18.5, 'Treino Ganho de Massa', dataframe['Objetivo de Treino'])\n",
        "\n",
        "# Definir Treino de Força para clientes com IMC entre 18.5 e 24.9\n",
        "dataframe['Objetivo de Treino'] = np.where((dataframe['imc'] >= 18.5) & (dataframe['imc'] <= 24.9) & (dataframe['Deficiente'] == 0), 'Treino de Forca', dataframe['Objetivo de Treino'])"
      ],
      "metadata": {
        "id": "KLAR57bgql9f"
      },
      "execution_count": 33,
      "outputs": []
    },
    {
      "cell_type": "code",
      "source": [
        "dataframe.tail()"
      ],
      "metadata": {
        "id": "RynIa8wCr2jr",
        "outputId": "935e385e-f5b0-4602-a7d1-01c13077da63",
        "colab": {
          "base_uri": "https://localhost:8080/",
          "height": 206
        }
      },
      "execution_count": 34,
      "outputs": [
        {
          "output_type": "execute_result",
          "data": {
            "text/plain": [
              "     Idade  Sexo  Treina  Altura  Peso  Tipo de Corpo  Deficiente        imc  \\\n",
              "379     42     1       1    1.81    79              0           0  24.114038   \n",
              "380     21     0       1    1.66    58              1           0  21.048048   \n",
              "381     36     1       0    1.79    76              2           1  23.719609   \n",
              "382     24     0       1    1.70    62              0           0  21.453287   \n",
              "383     29     1       1    1.83    81              2           0  24.187046   \n",
              "\n",
              "     sobrepeso Objetivo de Treino  \n",
              "379      False    Treino de Forca  \n",
              "380      False    Treino de Forca  \n",
              "381      False    Treino Especial  \n",
              "382      False    Treino de Forca  \n",
              "383      False    Treino de Forca  "
            ],
            "text/html": [
              "\n",
              "  <div id=\"df-3f4b04c7-9819-4b03-84fe-fbeec07a838b\" class=\"colab-df-container\">\n",
              "    <div>\n",
              "<style scoped>\n",
              "    .dataframe tbody tr th:only-of-type {\n",
              "        vertical-align: middle;\n",
              "    }\n",
              "\n",
              "    .dataframe tbody tr th {\n",
              "        vertical-align: top;\n",
              "    }\n",
              "\n",
              "    .dataframe thead th {\n",
              "        text-align: right;\n",
              "    }\n",
              "</style>\n",
              "<table border=\"1\" class=\"dataframe\">\n",
              "  <thead>\n",
              "    <tr style=\"text-align: right;\">\n",
              "      <th></th>\n",
              "      <th>Idade</th>\n",
              "      <th>Sexo</th>\n",
              "      <th>Treina</th>\n",
              "      <th>Altura</th>\n",
              "      <th>Peso</th>\n",
              "      <th>Tipo de Corpo</th>\n",
              "      <th>Deficiente</th>\n",
              "      <th>imc</th>\n",
              "      <th>sobrepeso</th>\n",
              "      <th>Objetivo de Treino</th>\n",
              "    </tr>\n",
              "  </thead>\n",
              "  <tbody>\n",
              "    <tr>\n",
              "      <th>379</th>\n",
              "      <td>42</td>\n",
              "      <td>1</td>\n",
              "      <td>1</td>\n",
              "      <td>1.81</td>\n",
              "      <td>79</td>\n",
              "      <td>0</td>\n",
              "      <td>0</td>\n",
              "      <td>24.114038</td>\n",
              "      <td>False</td>\n",
              "      <td>Treino de Forca</td>\n",
              "    </tr>\n",
              "    <tr>\n",
              "      <th>380</th>\n",
              "      <td>21</td>\n",
              "      <td>0</td>\n",
              "      <td>1</td>\n",
              "      <td>1.66</td>\n",
              "      <td>58</td>\n",
              "      <td>1</td>\n",
              "      <td>0</td>\n",
              "      <td>21.048048</td>\n",
              "      <td>False</td>\n",
              "      <td>Treino de Forca</td>\n",
              "    </tr>\n",
              "    <tr>\n",
              "      <th>381</th>\n",
              "      <td>36</td>\n",
              "      <td>1</td>\n",
              "      <td>0</td>\n",
              "      <td>1.79</td>\n",
              "      <td>76</td>\n",
              "      <td>2</td>\n",
              "      <td>1</td>\n",
              "      <td>23.719609</td>\n",
              "      <td>False</td>\n",
              "      <td>Treino Especial</td>\n",
              "    </tr>\n",
              "    <tr>\n",
              "      <th>382</th>\n",
              "      <td>24</td>\n",
              "      <td>0</td>\n",
              "      <td>1</td>\n",
              "      <td>1.70</td>\n",
              "      <td>62</td>\n",
              "      <td>0</td>\n",
              "      <td>0</td>\n",
              "      <td>21.453287</td>\n",
              "      <td>False</td>\n",
              "      <td>Treino de Forca</td>\n",
              "    </tr>\n",
              "    <tr>\n",
              "      <th>383</th>\n",
              "      <td>29</td>\n",
              "      <td>1</td>\n",
              "      <td>1</td>\n",
              "      <td>1.83</td>\n",
              "      <td>81</td>\n",
              "      <td>2</td>\n",
              "      <td>0</td>\n",
              "      <td>24.187046</td>\n",
              "      <td>False</td>\n",
              "      <td>Treino de Forca</td>\n",
              "    </tr>\n",
              "  </tbody>\n",
              "</table>\n",
              "</div>\n",
              "    <div class=\"colab-df-buttons\">\n",
              "\n",
              "  <div class=\"colab-df-container\">\n",
              "    <button class=\"colab-df-convert\" onclick=\"convertToInteractive('df-3f4b04c7-9819-4b03-84fe-fbeec07a838b')\"\n",
              "            title=\"Convert this dataframe to an interactive table.\"\n",
              "            style=\"display:none;\">\n",
              "\n",
              "  <svg xmlns=\"http://www.w3.org/2000/svg\" height=\"24px\" viewBox=\"0 -960 960 960\">\n",
              "    <path d=\"M120-120v-720h720v720H120Zm60-500h600v-160H180v160Zm220 220h160v-160H400v160Zm0 220h160v-160H400v160ZM180-400h160v-160H180v160Zm440 0h160v-160H620v160ZM180-180h160v-160H180v160Zm440 0h160v-160H620v160Z\"/>\n",
              "  </svg>\n",
              "    </button>\n",
              "\n",
              "  <style>\n",
              "    .colab-df-container {\n",
              "      display:flex;\n",
              "      gap: 12px;\n",
              "    }\n",
              "\n",
              "    .colab-df-convert {\n",
              "      background-color: #E8F0FE;\n",
              "      border: none;\n",
              "      border-radius: 50%;\n",
              "      cursor: pointer;\n",
              "      display: none;\n",
              "      fill: #1967D2;\n",
              "      height: 32px;\n",
              "      padding: 0 0 0 0;\n",
              "      width: 32px;\n",
              "    }\n",
              "\n",
              "    .colab-df-convert:hover {\n",
              "      background-color: #E2EBFA;\n",
              "      box-shadow: 0px 1px 2px rgba(60, 64, 67, 0.3), 0px 1px 3px 1px rgba(60, 64, 67, 0.15);\n",
              "      fill: #174EA6;\n",
              "    }\n",
              "\n",
              "    .colab-df-buttons div {\n",
              "      margin-bottom: 4px;\n",
              "    }\n",
              "\n",
              "    [theme=dark] .colab-df-convert {\n",
              "      background-color: #3B4455;\n",
              "      fill: #D2E3FC;\n",
              "    }\n",
              "\n",
              "    [theme=dark] .colab-df-convert:hover {\n",
              "      background-color: #434B5C;\n",
              "      box-shadow: 0px 1px 3px 1px rgba(0, 0, 0, 0.15);\n",
              "      filter: drop-shadow(0px 1px 2px rgba(0, 0, 0, 0.3));\n",
              "      fill: #FFFFFF;\n",
              "    }\n",
              "  </style>\n",
              "\n",
              "    <script>\n",
              "      const buttonEl =\n",
              "        document.querySelector('#df-3f4b04c7-9819-4b03-84fe-fbeec07a838b button.colab-df-convert');\n",
              "      buttonEl.style.display =\n",
              "        google.colab.kernel.accessAllowed ? 'block' : 'none';\n",
              "\n",
              "      async function convertToInteractive(key) {\n",
              "        const element = document.querySelector('#df-3f4b04c7-9819-4b03-84fe-fbeec07a838b');\n",
              "        const dataTable =\n",
              "          await google.colab.kernel.invokeFunction('convertToInteractive',\n",
              "                                                    [key], {});\n",
              "        if (!dataTable) return;\n",
              "\n",
              "        const docLinkHtml = 'Like what you see? Visit the ' +\n",
              "          '<a target=\"_blank\" href=https://colab.research.google.com/notebooks/data_table.ipynb>data table notebook</a>'\n",
              "          + ' to learn more about interactive tables.';\n",
              "        element.innerHTML = '';\n",
              "        dataTable['output_type'] = 'display_data';\n",
              "        await google.colab.output.renderOutput(dataTable, element);\n",
              "        const docLink = document.createElement('div');\n",
              "        docLink.innerHTML = docLinkHtml;\n",
              "        element.appendChild(docLink);\n",
              "      }\n",
              "    </script>\n",
              "  </div>\n",
              "\n",
              "\n",
              "<div id=\"df-ba88a470-cb51-4850-b4ac-6ac117affbf7\">\n",
              "  <button class=\"colab-df-quickchart\" onclick=\"quickchart('df-ba88a470-cb51-4850-b4ac-6ac117affbf7')\"\n",
              "            title=\"Suggest charts\"\n",
              "            style=\"display:none;\">\n",
              "\n",
              "<svg xmlns=\"http://www.w3.org/2000/svg\" height=\"24px\"viewBox=\"0 0 24 24\"\n",
              "     width=\"24px\">\n",
              "    <g>\n",
              "        <path d=\"M19 3H5c-1.1 0-2 .9-2 2v14c0 1.1.9 2 2 2h14c1.1 0 2-.9 2-2V5c0-1.1-.9-2-2-2zM9 17H7v-7h2v7zm4 0h-2V7h2v10zm4 0h-2v-4h2v4z\"/>\n",
              "    </g>\n",
              "</svg>\n",
              "  </button>\n",
              "\n",
              "<style>\n",
              "  .colab-df-quickchart {\n",
              "      --bg-color: #E8F0FE;\n",
              "      --fill-color: #1967D2;\n",
              "      --hover-bg-color: #E2EBFA;\n",
              "      --hover-fill-color: #174EA6;\n",
              "      --disabled-fill-color: #AAA;\n",
              "      --disabled-bg-color: #DDD;\n",
              "  }\n",
              "\n",
              "  [theme=dark] .colab-df-quickchart {\n",
              "      --bg-color: #3B4455;\n",
              "      --fill-color: #D2E3FC;\n",
              "      --hover-bg-color: #434B5C;\n",
              "      --hover-fill-color: #FFFFFF;\n",
              "      --disabled-bg-color: #3B4455;\n",
              "      --disabled-fill-color: #666;\n",
              "  }\n",
              "\n",
              "  .colab-df-quickchart {\n",
              "    background-color: var(--bg-color);\n",
              "    border: none;\n",
              "    border-radius: 50%;\n",
              "    cursor: pointer;\n",
              "    display: none;\n",
              "    fill: var(--fill-color);\n",
              "    height: 32px;\n",
              "    padding: 0;\n",
              "    width: 32px;\n",
              "  }\n",
              "\n",
              "  .colab-df-quickchart:hover {\n",
              "    background-color: var(--hover-bg-color);\n",
              "    box-shadow: 0 1px 2px rgba(60, 64, 67, 0.3), 0 1px 3px 1px rgba(60, 64, 67, 0.15);\n",
              "    fill: var(--button-hover-fill-color);\n",
              "  }\n",
              "\n",
              "  .colab-df-quickchart-complete:disabled,\n",
              "  .colab-df-quickchart-complete:disabled:hover {\n",
              "    background-color: var(--disabled-bg-color);\n",
              "    fill: var(--disabled-fill-color);\n",
              "    box-shadow: none;\n",
              "  }\n",
              "\n",
              "  .colab-df-spinner {\n",
              "    border: 2px solid var(--fill-color);\n",
              "    border-color: transparent;\n",
              "    border-bottom-color: var(--fill-color);\n",
              "    animation:\n",
              "      spin 1s steps(1) infinite;\n",
              "  }\n",
              "\n",
              "  @keyframes spin {\n",
              "    0% {\n",
              "      border-color: transparent;\n",
              "      border-bottom-color: var(--fill-color);\n",
              "      border-left-color: var(--fill-color);\n",
              "    }\n",
              "    20% {\n",
              "      border-color: transparent;\n",
              "      border-left-color: var(--fill-color);\n",
              "      border-top-color: var(--fill-color);\n",
              "    }\n",
              "    30% {\n",
              "      border-color: transparent;\n",
              "      border-left-color: var(--fill-color);\n",
              "      border-top-color: var(--fill-color);\n",
              "      border-right-color: var(--fill-color);\n",
              "    }\n",
              "    40% {\n",
              "      border-color: transparent;\n",
              "      border-right-color: var(--fill-color);\n",
              "      border-top-color: var(--fill-color);\n",
              "    }\n",
              "    60% {\n",
              "      border-color: transparent;\n",
              "      border-right-color: var(--fill-color);\n",
              "    }\n",
              "    80% {\n",
              "      border-color: transparent;\n",
              "      border-right-color: var(--fill-color);\n",
              "      border-bottom-color: var(--fill-color);\n",
              "    }\n",
              "    90% {\n",
              "      border-color: transparent;\n",
              "      border-bottom-color: var(--fill-color);\n",
              "    }\n",
              "  }\n",
              "</style>\n",
              "\n",
              "  <script>\n",
              "    async function quickchart(key) {\n",
              "      const quickchartButtonEl =\n",
              "        document.querySelector('#' + key + ' button');\n",
              "      quickchartButtonEl.disabled = true;  // To prevent multiple clicks.\n",
              "      quickchartButtonEl.classList.add('colab-df-spinner');\n",
              "      try {\n",
              "        const charts = await google.colab.kernel.invokeFunction(\n",
              "            'suggestCharts', [key], {});\n",
              "      } catch (error) {\n",
              "        console.error('Error during call to suggestCharts:', error);\n",
              "      }\n",
              "      quickchartButtonEl.classList.remove('colab-df-spinner');\n",
              "      quickchartButtonEl.classList.add('colab-df-quickchart-complete');\n",
              "    }\n",
              "    (() => {\n",
              "      let quickchartButtonEl =\n",
              "        document.querySelector('#df-ba88a470-cb51-4850-b4ac-6ac117affbf7 button');\n",
              "      quickchartButtonEl.style.display =\n",
              "        google.colab.kernel.accessAllowed ? 'block' : 'none';\n",
              "    })();\n",
              "  </script>\n",
              "</div>\n",
              "\n",
              "    </div>\n",
              "  </div>\n"
            ],
            "application/vnd.google.colaboratory.intrinsic+json": {
              "type": "dataframe",
              "summary": "{\n  \"name\": \"dataframe\",\n  \"rows\": 5,\n  \"fields\": [\n    {\n      \"column\": \"Idade\",\n      \"properties\": {\n        \"dtype\": \"number\",\n        \"std\": 8,\n        \"min\": 21,\n        \"max\": 42,\n        \"num_unique_values\": 5,\n        \"samples\": [\n          21,\n          29,\n          36\n        ],\n        \"semantic_type\": \"\",\n        \"description\": \"\"\n      }\n    },\n    {\n      \"column\": \"Sexo\",\n      \"properties\": {\n        \"dtype\": \"number\",\n        \"std\": 0,\n        \"min\": 0,\n        \"max\": 1,\n        \"num_unique_values\": 2,\n        \"samples\": [\n          0,\n          1\n        ],\n        \"semantic_type\": \"\",\n        \"description\": \"\"\n      }\n    },\n    {\n      \"column\": \"Treina\",\n      \"properties\": {\n        \"dtype\": \"number\",\n        \"std\": 0,\n        \"min\": 0,\n        \"max\": 1,\n        \"num_unique_values\": 2,\n        \"samples\": [\n          0,\n          1\n        ],\n        \"semantic_type\": \"\",\n        \"description\": \"\"\n      }\n    },\n    {\n      \"column\": \"Altura\",\n      \"properties\": {\n        \"dtype\": \"number\",\n        \"std\": 0.07395944834840244,\n        \"min\": 1.66,\n        \"max\": 1.83,\n        \"num_unique_values\": 5,\n        \"samples\": [\n          1.66,\n          1.83\n        ],\n        \"semantic_type\": \"\",\n        \"description\": \"\"\n      }\n    },\n    {\n      \"column\": \"Peso\",\n      \"properties\": {\n        \"dtype\": \"number\",\n        \"std\": 10,\n        \"min\": 58,\n        \"max\": 81,\n        \"num_unique_values\": 5,\n        \"samples\": [\n          58,\n          81\n        ],\n        \"semantic_type\": \"\",\n        \"description\": \"\"\n      }\n    },\n    {\n      \"column\": \"Tipo de Corpo\",\n      \"properties\": {\n        \"dtype\": \"number\",\n        \"std\": 1,\n        \"min\": 0,\n        \"max\": 2,\n        \"num_unique_values\": 3,\n        \"samples\": [\n          0,\n          1\n        ],\n        \"semantic_type\": \"\",\n        \"description\": \"\"\n      }\n    },\n    {\n      \"column\": \"Deficiente\",\n      \"properties\": {\n        \"dtype\": \"number\",\n        \"std\": 0,\n        \"min\": 0,\n        \"max\": 1,\n        \"num_unique_values\": 2,\n        \"samples\": [\n          1,\n          0\n        ],\n        \"semantic_type\": \"\",\n        \"description\": \"\"\n      }\n    },\n    {\n      \"column\": \"imc\",\n      \"properties\": {\n        \"dtype\": \"number\",\n        \"std\": 1.5268222615210645,\n        \"min\": 21.04804761213529,\n        \"max\": 24.187046492878256,\n        \"num_unique_values\": 5,\n        \"samples\": [\n          21.04804761213529,\n          24.187046492878256\n        ],\n        \"semantic_type\": \"\",\n        \"description\": \"\"\n      }\n    },\n    {\n      \"column\": \"sobrepeso\",\n      \"properties\": {\n        \"dtype\": \"boolean\",\n        \"num_unique_values\": 1,\n        \"samples\": [\n          false\n        ],\n        \"semantic_type\": \"\",\n        \"description\": \"\"\n      }\n    },\n    {\n      \"column\": \"Objetivo de Treino\",\n      \"properties\": {\n        \"dtype\": \"category\",\n        \"num_unique_values\": 2,\n        \"samples\": [\n          \"Treino Especial\"\n        ],\n        \"semantic_type\": \"\",\n        \"description\": \"\"\n      }\n    }\n  ]\n}"
            }
          },
          "metadata": {},
          "execution_count": 34
        }
      ]
    },
    {
      "cell_type": "markdown",
      "source": [
        "# Treinamento do Modelo"
      ],
      "metadata": {
        "id": "MUUUKQbuBSME"
      }
    },
    {
      "cell_type": "markdown",
      "source": [
        "Definindo Variavel alvo do modelo"
      ],
      "metadata": {
        "id": "y1Dfh6ylCZ_D"
      }
    },
    {
      "cell_type": "code",
      "source": [
        "X = dataframe[['Idade', 'Sexo', 'Treina', 'Altura', 'Peso', 'Tipo de Corpo', 'Deficiente', 'imc', 'sobrepeso']]\n",
        "y = dataframe['Objetivo de Treino']"
      ],
      "metadata": {
        "id": "SYZbFGsvs3TE"
      },
      "execution_count": 35,
      "outputs": []
    },
    {
      "cell_type": "code",
      "source": [
        "# Dividir os dados em treino e teste\n",
        "X_train, X_test, y_train, y_test = train_test_split(X, y, test_size=0.2, random_state=42)"
      ],
      "metadata": {
        "id": "KgcZw2dds9bV"
      },
      "execution_count": 36,
      "outputs": []
    },
    {
      "cell_type": "code",
      "source": [
        "# Instanciar e treinar o modelo\n",
        "model_dt = DecisionTreeClassifier(random_state=42)\n",
        "model_dt.fit(X_train, y_train)"
      ],
      "metadata": {
        "id": "SkpMyelns_mz",
        "outputId": "2b4eb9ee-8325-4ed8-e725-b4141f56bd56",
        "colab": {
          "base_uri": "https://localhost:8080/",
          "height": 75
        }
      },
      "execution_count": 37,
      "outputs": [
        {
          "output_type": "execute_result",
          "data": {
            "text/plain": [
              "DecisionTreeClassifier(random_state=42)"
            ],
            "text/html": [
              "<style>#sk-container-id-1 {color: black;background-color: white;}#sk-container-id-1 pre{padding: 0;}#sk-container-id-1 div.sk-toggleable {background-color: white;}#sk-container-id-1 label.sk-toggleable__label {cursor: pointer;display: block;width: 100%;margin-bottom: 0;padding: 0.3em;box-sizing: border-box;text-align: center;}#sk-container-id-1 label.sk-toggleable__label-arrow:before {content: \"▸\";float: left;margin-right: 0.25em;color: #696969;}#sk-container-id-1 label.sk-toggleable__label-arrow:hover:before {color: black;}#sk-container-id-1 div.sk-estimator:hover label.sk-toggleable__label-arrow:before {color: black;}#sk-container-id-1 div.sk-toggleable__content {max-height: 0;max-width: 0;overflow: hidden;text-align: left;background-color: #f0f8ff;}#sk-container-id-1 div.sk-toggleable__content pre {margin: 0.2em;color: black;border-radius: 0.25em;background-color: #f0f8ff;}#sk-container-id-1 input.sk-toggleable__control:checked~div.sk-toggleable__content {max-height: 200px;max-width: 100%;overflow: auto;}#sk-container-id-1 input.sk-toggleable__control:checked~label.sk-toggleable__label-arrow:before {content: \"▾\";}#sk-container-id-1 div.sk-estimator input.sk-toggleable__control:checked~label.sk-toggleable__label {background-color: #d4ebff;}#sk-container-id-1 div.sk-label input.sk-toggleable__control:checked~label.sk-toggleable__label {background-color: #d4ebff;}#sk-container-id-1 input.sk-hidden--visually {border: 0;clip: rect(1px 1px 1px 1px);clip: rect(1px, 1px, 1px, 1px);height: 1px;margin: -1px;overflow: hidden;padding: 0;position: absolute;width: 1px;}#sk-container-id-1 div.sk-estimator {font-family: monospace;background-color: #f0f8ff;border: 1px dotted black;border-radius: 0.25em;box-sizing: border-box;margin-bottom: 0.5em;}#sk-container-id-1 div.sk-estimator:hover {background-color: #d4ebff;}#sk-container-id-1 div.sk-parallel-item::after {content: \"\";width: 100%;border-bottom: 1px solid gray;flex-grow: 1;}#sk-container-id-1 div.sk-label:hover label.sk-toggleable__label {background-color: #d4ebff;}#sk-container-id-1 div.sk-serial::before {content: \"\";position: absolute;border-left: 1px solid gray;box-sizing: border-box;top: 0;bottom: 0;left: 50%;z-index: 0;}#sk-container-id-1 div.sk-serial {display: flex;flex-direction: column;align-items: center;background-color: white;padding-right: 0.2em;padding-left: 0.2em;position: relative;}#sk-container-id-1 div.sk-item {position: relative;z-index: 1;}#sk-container-id-1 div.sk-parallel {display: flex;align-items: stretch;justify-content: center;background-color: white;position: relative;}#sk-container-id-1 div.sk-item::before, #sk-container-id-1 div.sk-parallel-item::before {content: \"\";position: absolute;border-left: 1px solid gray;box-sizing: border-box;top: 0;bottom: 0;left: 50%;z-index: -1;}#sk-container-id-1 div.sk-parallel-item {display: flex;flex-direction: column;z-index: 1;position: relative;background-color: white;}#sk-container-id-1 div.sk-parallel-item:first-child::after {align-self: flex-end;width: 50%;}#sk-container-id-1 div.sk-parallel-item:last-child::after {align-self: flex-start;width: 50%;}#sk-container-id-1 div.sk-parallel-item:only-child::after {width: 0;}#sk-container-id-1 div.sk-dashed-wrapped {border: 1px dashed gray;margin: 0 0.4em 0.5em 0.4em;box-sizing: border-box;padding-bottom: 0.4em;background-color: white;}#sk-container-id-1 div.sk-label label {font-family: monospace;font-weight: bold;display: inline-block;line-height: 1.2em;}#sk-container-id-1 div.sk-label-container {text-align: center;}#sk-container-id-1 div.sk-container {/* jupyter's `normalize.less` sets `[hidden] { display: none; }` but bootstrap.min.css set `[hidden] { display: none !important; }` so we also need the `!important` here to be able to override the default hidden behavior on the sphinx rendered scikit-learn.org. See: https://github.com/scikit-learn/scikit-learn/issues/21755 */display: inline-block !important;position: relative;}#sk-container-id-1 div.sk-text-repr-fallback {display: none;}</style><div id=\"sk-container-id-1\" class=\"sk-top-container\"><div class=\"sk-text-repr-fallback\"><pre>DecisionTreeClassifier(random_state=42)</pre><b>In a Jupyter environment, please rerun this cell to show the HTML representation or trust the notebook. <br />On GitHub, the HTML representation is unable to render, please try loading this page with nbviewer.org.</b></div><div class=\"sk-container\" hidden><div class=\"sk-item\"><div class=\"sk-estimator sk-toggleable\"><input class=\"sk-toggleable__control sk-hidden--visually\" id=\"sk-estimator-id-1\" type=\"checkbox\" checked><label for=\"sk-estimator-id-1\" class=\"sk-toggleable__label sk-toggleable__label-arrow\">DecisionTreeClassifier</label><div class=\"sk-toggleable__content\"><pre>DecisionTreeClassifier(random_state=42)</pre></div></div></div></div></div>"
            ]
          },
          "metadata": {},
          "execution_count": 37
        }
      ]
    },
    {
      "cell_type": "code",
      "source": [
        "# Fazer previsões\n",
        "y_pred_dt = model_dt.predict(X_test)"
      ],
      "metadata": {
        "id": "VT_cQaQXtA_H"
      },
      "execution_count": 38,
      "outputs": []
    },
    {
      "cell_type": "code",
      "source": [
        "# Avaliar precisão\n",
        "accuracy_dt = accuracy_score(y_test, y_pred_dt)\n",
        "print(f'Acurácia Decision Tree Classifier: {accuracy_dt:.2f}')"
      ],
      "metadata": {
        "id": "N4JQ30bftDj2",
        "outputId": "d913e308-e122-43db-cb73-fef143170be2",
        "colab": {
          "base_uri": "https://localhost:8080/"
        }
      },
      "execution_count": 39,
      "outputs": [
        {
          "output_type": "stream",
          "name": "stdout",
          "text": [
            "Acurácia Decision Tree Classifier: 1.00\n"
          ]
        }
      ]
    },
    {
      "cell_type": "code",
      "source": [
        "# Exibir relatório de classificação\n",
        "print(classification_report(y_test, y_pred_dt))"
      ],
      "metadata": {
        "id": "WMlw1LJVtEYK",
        "outputId": "918f7669-52a6-4af4-f24d-5a412ea5992b",
        "colab": {
          "base_uri": "https://localhost:8080/"
        }
      },
      "execution_count": 40,
      "outputs": [
        {
          "output_type": "stream",
          "name": "stdout",
          "text": [
            "                   precision    recall  f1-score   support\n",
            "\n",
            "  Treino Especial       1.00      1.00      1.00         5\n",
            "Treino Manutencao       1.00      1.00      1.00        29\n",
            "  Treino de Forca       1.00      1.00      1.00        43\n",
            "\n",
            "         accuracy                           1.00        77\n",
            "        macro avg       1.00      1.00      1.00        77\n",
            "     weighted avg       1.00      1.00      1.00        77\n",
            "\n"
          ]
        }
      ]
    },
    {
      "cell_type": "markdown",
      "source": [
        "#### Random Forest"
      ],
      "metadata": {
        "id": "iP2oCXhBtJV5"
      }
    },
    {
      "cell_type": "code",
      "source": [
        "model_rf = RandomForestClassifier(random_state=42)\n",
        "model_rf.fit(X_train, y_train)\n",
        "\n",
        "# Fazer previsões\n",
        "y_pred_rf = model_rf.predict(X_test)"
      ],
      "metadata": {
        "id": "E7fXM5SPtNFK"
      },
      "execution_count": 41,
      "outputs": []
    },
    {
      "cell_type": "code",
      "source": [
        "# Avaliar precisão\n",
        "accuracy_rf = accuracy_score(y_test, y_pred_rf)\n",
        "print(f'Acurácia Random Forest Classifier: {accuracy_rf:.2f}')"
      ],
      "metadata": {
        "id": "CqsdC1cjtPY0",
        "outputId": "ab391d6c-dde1-4f75-beac-eb7ed25897d9",
        "colab": {
          "base_uri": "https://localhost:8080/"
        }
      },
      "execution_count": 42,
      "outputs": [
        {
          "output_type": "stream",
          "name": "stdout",
          "text": [
            "Acurácia Random Forest Classifier: 1.00\n"
          ]
        }
      ]
    },
    {
      "cell_type": "code",
      "source": [
        "# Exibir relatório de classificação\n",
        "print(classification_report(y_test, y_pred_rf))"
      ],
      "metadata": {
        "id": "-HRCnMOMtRbi",
        "outputId": "fc67ed75-f57d-4d48-c85b-a01110fd6df6",
        "colab": {
          "base_uri": "https://localhost:8080/"
        }
      },
      "execution_count": 43,
      "outputs": [
        {
          "output_type": "stream",
          "name": "stdout",
          "text": [
            "                   precision    recall  f1-score   support\n",
            "\n",
            "  Treino Especial       1.00      1.00      1.00         5\n",
            "Treino Manutencao       1.00      1.00      1.00        29\n",
            "  Treino de Forca       1.00      1.00      1.00        43\n",
            "\n",
            "         accuracy                           1.00        77\n",
            "        macro avg       1.00      1.00      1.00        77\n",
            "     weighted avg       1.00      1.00      1.00        77\n",
            "\n"
          ]
        }
      ]
    },
    {
      "cell_type": "code",
      "source": [
        "y_test"
      ],
      "metadata": {
        "id": "ncmDWWfzu95L",
        "outputId": "66a30556-da6a-4cc8-d0dd-0faf110de02d",
        "colab": {
          "base_uri": "https://localhost:8080/"
        }
      },
      "execution_count": 44,
      "outputs": [
        {
          "output_type": "execute_result",
          "data": {
            "text/plain": [
              "268    Treino Manutencao\n",
              "250    Treino Manutencao\n",
              "355      Treino de Forca\n",
              "332      Treino de Forca\n",
              "56     Treino Manutencao\n",
              "             ...        \n",
              "104    Treino Manutencao\n",
              "167    Treino Manutencao\n",
              "63       Treino de Forca\n",
              "233    Treino Manutencao\n",
              "84     Treino Manutencao\n",
              "Name: Objetivo de Treino, Length: 77, dtype: object"
            ]
          },
          "metadata": {},
          "execution_count": 44
        }
      ]
    },
    {
      "cell_type": "code",
      "source": [
        "y_pred_rf"
      ],
      "metadata": {
        "id": "NLLDZ1GavHYv",
        "outputId": "06c90424-92cf-4588-cf29-17f2dc452a88",
        "colab": {
          "base_uri": "https://localhost:8080/"
        }
      },
      "execution_count": 45,
      "outputs": [
        {
          "output_type": "execute_result",
          "data": {
            "text/plain": [
              "array(['Treino Manutencao', 'Treino Manutencao', 'Treino de Forca',\n",
              "       'Treino de Forca', 'Treino Manutencao', 'Treino de Forca',\n",
              "       'Treino de Forca', 'Treino Manutencao', 'Treino Especial',\n",
              "       'Treino de Forca', 'Treino de Forca', 'Treino de Forca',\n",
              "       'Treino Manutencao', 'Treino de Forca', 'Treino Manutencao',\n",
              "       'Treino Manutencao', 'Treino Manutencao', 'Treino Especial',\n",
              "       'Treino de Forca', 'Treino de Forca', 'Treino Manutencao',\n",
              "       'Treino de Forca', 'Treino de Forca', 'Treino de Forca',\n",
              "       'Treino de Forca', 'Treino de Forca', 'Treino de Forca',\n",
              "       'Treino Especial', 'Treino de Forca', 'Treino Manutencao',\n",
              "       'Treino de Forca', 'Treino Manutencao', 'Treino de Forca',\n",
              "       'Treino Manutencao', 'Treino de Forca', 'Treino de Forca',\n",
              "       'Treino Manutencao', 'Treino de Forca', 'Treino Manutencao',\n",
              "       'Treino Manutencao', 'Treino de Forca', 'Treino de Forca',\n",
              "       'Treino Manutencao', 'Treino Manutencao', 'Treino de Forca',\n",
              "       'Treino Manutencao', 'Treino de Forca', 'Treino de Forca',\n",
              "       'Treino de Forca', 'Treino de Forca', 'Treino Manutencao',\n",
              "       'Treino de Forca', 'Treino de Forca', 'Treino de Forca',\n",
              "       'Treino de Forca', 'Treino de Forca', 'Treino Manutencao',\n",
              "       'Treino de Forca', 'Treino Especial', 'Treino de Forca',\n",
              "       'Treino de Forca', 'Treino de Forca', 'Treino Especial',\n",
              "       'Treino Manutencao', 'Treino Manutencao', 'Treino Manutencao',\n",
              "       'Treino Manutencao', 'Treino Manutencao', 'Treino de Forca',\n",
              "       'Treino de Forca', 'Treino de Forca', 'Treino de Forca',\n",
              "       'Treino Manutencao', 'Treino Manutencao', 'Treino de Forca',\n",
              "       'Treino Manutencao', 'Treino Manutencao'], dtype=object)"
            ]
          },
          "metadata": {},
          "execution_count": 45
        }
      ]
    },
    {
      "cell_type": "markdown",
      "source": [
        "Primeira Tentativa de mapping"
      ],
      "metadata": {
        "id": "7r2q3Jc-CSYw"
      }
    },
    {
      "cell_type": "code",
      "source": [
        "# # Mapear os valores numéricos para suas categorias originais\n",
        "# class_mapping = {0: 'Treino Especial', 1: 'Treino Manutenção', 2: 'Treino de Forca'}\n",
        "# y_test_mapped = y_test.reset_index(drop=True).map(class_mapping)\n",
        "# y_pred_mapped = pd.Series(y_pred_rf).map(class_mapping)\n",
        "\n",
        "# # Criar DataFrame com resultados mapeados\n",
        "# results_df = pd.DataFrame({'Real': y_test_mapped, 'Previsão': y_pred_mapped})"
      ],
      "metadata": {
        "id": "pctFxnDhuOuS"
      },
      "execution_count": 46,
      "outputs": []
    },
    {
      "cell_type": "markdown",
      "source": [
        "#### SVM"
      ],
      "metadata": {
        "id": "qliSw3mstT-T"
      }
    },
    {
      "cell_type": "code",
      "source": [
        "# Pipeline com pré-processamento e modelo SVM\n",
        "pipeline_svm = Pipeline([\n",
        "    ('scaler', StandardScaler()),\n",
        "    ('svm', SVC(kernel='rbf', random_state=42))\n",
        "])\n",
        "\n",
        "# Treinar o modelo\n",
        "pipeline_svm.fit(X_train, y_train)\n",
        "\n",
        "# Fazer previsões\n",
        "y_pred_svm = pipeline_svm.predict(X_test)\n"
      ],
      "metadata": {
        "id": "g3lvkrBAtWn9"
      },
      "execution_count": 48,
      "outputs": []
    },
    {
      "cell_type": "code",
      "source": [
        "# Avaliar precisão\n",
        "accuracy_svm = accuracy_score(y_test, y_pred_svm)\n",
        "print(f'Acurácia SVM Classifier: {accuracy_svm:.2f}')"
      ],
      "metadata": {
        "id": "mKbFqfMPtYmY",
        "outputId": "408807c6-f812-45c9-9b27-cb1240de6431",
        "colab": {
          "base_uri": "https://localhost:8080/"
        }
      },
      "execution_count": 49,
      "outputs": [
        {
          "output_type": "stream",
          "name": "stdout",
          "text": [
            "Acurácia SVM Classifier: 0.97\n"
          ]
        }
      ]
    },
    {
      "cell_type": "code",
      "source": [
        "#Exibir relatório de classificação\n",
        "print(classification_report(y_test, y_pred_svm))"
      ],
      "metadata": {
        "id": "vUlEWzrZtaCW",
        "outputId": "e3a34de7-da7c-496b-da85-2dd1d5307dac",
        "colab": {
          "base_uri": "https://localhost:8080/"
        }
      },
      "execution_count": 50,
      "outputs": [
        {
          "output_type": "stream",
          "name": "stdout",
          "text": [
            "                   precision    recall  f1-score   support\n",
            "\n",
            "  Treino Especial       1.00      1.00      1.00         5\n",
            "Treino Manutencao       1.00      0.93      0.96        29\n",
            "  Treino de Forca       0.96      1.00      0.98        43\n",
            "\n",
            "         accuracy                           0.97        77\n",
            "        macro avg       0.99      0.98      0.98        77\n",
            "     weighted avg       0.98      0.97      0.97        77\n",
            "\n"
          ]
        }
      ]
    },
    {
      "cell_type": "markdown",
      "source": [
        "### NEURAL NETWORK W KERAS"
      ],
      "metadata": {
        "id": "nAKft5V0tdpA"
      }
    },
    {
      "cell_type": "code",
      "source": [
        "# Codificar variável alvo\n",
        "encoder = LabelEncoder()\n",
        "y = encoder.fit_transform(dataframe['Objetivo de Treino'])"
      ],
      "metadata": {
        "id": "lc_XOyvPthhK"
      },
      "execution_count": 51,
      "outputs": []
    },
    {
      "cell_type": "code",
      "source": [
        "# Dividir os dados em treino e teste\n",
        "X_train, X_test, y_train, y_test = train_test_split(X, y, test_size=0.2, random_state=42)"
      ],
      "metadata": {
        "id": "4xBG8k1FtjaO"
      },
      "execution_count": 52,
      "outputs": []
    },
    {
      "cell_type": "code",
      "source": [
        "# Normalizar os dados\n",
        "scaler = StandardScaler()\n",
        "X_train = scaler.fit_transform(X_train)\n",
        "X_test = scaler.transform(X_test)"
      ],
      "metadata": {
        "id": "vpmLeuTwtoTs"
      },
      "execution_count": 53,
      "outputs": []
    },
    {
      "cell_type": "code",
      "source": [
        "# Construir o modelo\n",
        "model_nn = Sequential([\n",
        "    Dense(64, input_shape=(X_train.shape[1],), activation='relu'),\n",
        "    Dropout(0.5),\n",
        "    Dense(32, activation='relu'),\n",
        "    Dropout(0.5),\n",
        "    Dense(len(encoder.classes_), activation='softmax')\n",
        "])"
      ],
      "metadata": {
        "id": "yfJD8uyNtqfe"
      },
      "execution_count": 54,
      "outputs": []
    },
    {
      "cell_type": "code",
      "source": [
        "# Compilar o modelo\n",
        "model_nn.compile(optimizer='adam', loss='sparse_categorical_crossentropy', metrics=['accuracy'])"
      ],
      "metadata": {
        "id": "DXwoMxywtvV0"
      },
      "execution_count": 55,
      "outputs": []
    },
    {
      "cell_type": "markdown",
      "source": [
        "Treinando o modelo nesta sua versao com 100 epocas"
      ],
      "metadata": {
        "id": "mqB9q_1bB9_y"
      }
    },
    {
      "cell_type": "code",
      "source": [
        "# Treinar o modelo\n",
        "history = model_nn.fit(X_train, y_train, epochs=100, batch_size=32, validation_data=(X_test, y_test), verbose=0)"
      ],
      "metadata": {
        "id": "ryxOsp-btxYH"
      },
      "execution_count": 56,
      "outputs": []
    },
    {
      "cell_type": "code",
      "source": [
        "# Avaliar o modelo\n",
        "loss, accuracy_nn = model_nn.evaluate(X_test, y_test, verbose=0)\n",
        "print(f'Acurácia Neural Network (Keras): {accuracy_nn:.2f}')"
      ],
      "metadata": {
        "id": "fgwtIgY-t2XE",
        "outputId": "0ca9b596-e40d-4e13-b6ef-40ff0ec9d8df",
        "colab": {
          "base_uri": "https://localhost:8080/"
        }
      },
      "execution_count": 57,
      "outputs": [
        {
          "output_type": "stream",
          "name": "stdout",
          "text": [
            "Acurácia Neural Network (Keras): 0.97\n"
          ]
        }
      ]
    },
    {
      "cell_type": "code",
      "source": [
        "# Exibir relatório de classificação\n",
        "y_pred_nn = model_nn.predict(X_test)\n",
        "y_pred_nn_classes = np.argmax(y_pred_nn, axis=1)\n",
        "print(classification_report(y_test, y_pred_nn_classes, target_names=encoder.classes_))"
      ],
      "metadata": {
        "id": "kyr4uwPHt4s-",
        "outputId": "4ea117e9-041b-4d6a-eca7-c6fd8bc6a8a9",
        "colab": {
          "base_uri": "https://localhost:8080/"
        }
      },
      "execution_count": 58,
      "outputs": [
        {
          "output_type": "stream",
          "name": "stdout",
          "text": [
            "3/3 [==============================] - 0s 5ms/step\n",
            "                   precision    recall  f1-score   support\n",
            "\n",
            "  Treino Especial       1.00      1.00      1.00         5\n",
            "Treino Manutencao       0.97      0.97      0.97        29\n",
            "  Treino de Forca       0.98      0.98      0.98        43\n",
            "\n",
            "         accuracy                           0.97        77\n",
            "        macro avg       0.98      0.98      0.98        77\n",
            "     weighted avg       0.97      0.97      0.97        77\n",
            "\n"
          ]
        }
      ]
    },
    {
      "cell_type": "markdown",
      "source": [
        "# Teste do Modelo com novos dados e simulacao"
      ],
      "metadata": {
        "id": "FNX40P4dxWuR"
      }
    },
    {
      "cell_type": "code",
      "source": [
        "dataframe.head()"
      ],
      "metadata": {
        "id": "Mpplg8i5xb0C",
        "outputId": "3a0f86e6-24c3-45f8-d232-f99f067c8929",
        "colab": {
          "base_uri": "https://localhost:8080/",
          "height": 206
        }
      },
      "execution_count": 59,
      "outputs": [
        {
          "output_type": "execute_result",
          "data": {
            "text/plain": [
              "   Idade  Sexo  Treina  Altura  Peso  Tipo de Corpo  Deficiente        imc  \\\n",
              "0     28     0       1    1.65    55              0           0  20.202020   \n",
              "1     35     1       1    1.80    85              2           0  26.234568   \n",
              "2     22     0       1    1.70    60              1           1  20.761246   \n",
              "3     30     1       0    1.75    70              0           0  22.857143   \n",
              "4     40     0       1    1.60    70              2           0  27.343750   \n",
              "\n",
              "   sobrepeso Objetivo de Treino  \n",
              "0      False    Treino de Forca  \n",
              "1      False  Treino Manutencao  \n",
              "2      False    Treino Especial  \n",
              "3      False    Treino de Forca  \n",
              "4      False  Treino Manutencao  "
            ],
            "text/html": [
              "\n",
              "  <div id=\"df-92c8b1fb-fc2e-4070-87c5-4e75b6a716b9\" class=\"colab-df-container\">\n",
              "    <div>\n",
              "<style scoped>\n",
              "    .dataframe tbody tr th:only-of-type {\n",
              "        vertical-align: middle;\n",
              "    }\n",
              "\n",
              "    .dataframe tbody tr th {\n",
              "        vertical-align: top;\n",
              "    }\n",
              "\n",
              "    .dataframe thead th {\n",
              "        text-align: right;\n",
              "    }\n",
              "</style>\n",
              "<table border=\"1\" class=\"dataframe\">\n",
              "  <thead>\n",
              "    <tr style=\"text-align: right;\">\n",
              "      <th></th>\n",
              "      <th>Idade</th>\n",
              "      <th>Sexo</th>\n",
              "      <th>Treina</th>\n",
              "      <th>Altura</th>\n",
              "      <th>Peso</th>\n",
              "      <th>Tipo de Corpo</th>\n",
              "      <th>Deficiente</th>\n",
              "      <th>imc</th>\n",
              "      <th>sobrepeso</th>\n",
              "      <th>Objetivo de Treino</th>\n",
              "    </tr>\n",
              "  </thead>\n",
              "  <tbody>\n",
              "    <tr>\n",
              "      <th>0</th>\n",
              "      <td>28</td>\n",
              "      <td>0</td>\n",
              "      <td>1</td>\n",
              "      <td>1.65</td>\n",
              "      <td>55</td>\n",
              "      <td>0</td>\n",
              "      <td>0</td>\n",
              "      <td>20.202020</td>\n",
              "      <td>False</td>\n",
              "      <td>Treino de Forca</td>\n",
              "    </tr>\n",
              "    <tr>\n",
              "      <th>1</th>\n",
              "      <td>35</td>\n",
              "      <td>1</td>\n",
              "      <td>1</td>\n",
              "      <td>1.80</td>\n",
              "      <td>85</td>\n",
              "      <td>2</td>\n",
              "      <td>0</td>\n",
              "      <td>26.234568</td>\n",
              "      <td>False</td>\n",
              "      <td>Treino Manutencao</td>\n",
              "    </tr>\n",
              "    <tr>\n",
              "      <th>2</th>\n",
              "      <td>22</td>\n",
              "      <td>0</td>\n",
              "      <td>1</td>\n",
              "      <td>1.70</td>\n",
              "      <td>60</td>\n",
              "      <td>1</td>\n",
              "      <td>1</td>\n",
              "      <td>20.761246</td>\n",
              "      <td>False</td>\n",
              "      <td>Treino Especial</td>\n",
              "    </tr>\n",
              "    <tr>\n",
              "      <th>3</th>\n",
              "      <td>30</td>\n",
              "      <td>1</td>\n",
              "      <td>0</td>\n",
              "      <td>1.75</td>\n",
              "      <td>70</td>\n",
              "      <td>0</td>\n",
              "      <td>0</td>\n",
              "      <td>22.857143</td>\n",
              "      <td>False</td>\n",
              "      <td>Treino de Forca</td>\n",
              "    </tr>\n",
              "    <tr>\n",
              "      <th>4</th>\n",
              "      <td>40</td>\n",
              "      <td>0</td>\n",
              "      <td>1</td>\n",
              "      <td>1.60</td>\n",
              "      <td>70</td>\n",
              "      <td>2</td>\n",
              "      <td>0</td>\n",
              "      <td>27.343750</td>\n",
              "      <td>False</td>\n",
              "      <td>Treino Manutencao</td>\n",
              "    </tr>\n",
              "  </tbody>\n",
              "</table>\n",
              "</div>\n",
              "    <div class=\"colab-df-buttons\">\n",
              "\n",
              "  <div class=\"colab-df-container\">\n",
              "    <button class=\"colab-df-convert\" onclick=\"convertToInteractive('df-92c8b1fb-fc2e-4070-87c5-4e75b6a716b9')\"\n",
              "            title=\"Convert this dataframe to an interactive table.\"\n",
              "            style=\"display:none;\">\n",
              "\n",
              "  <svg xmlns=\"http://www.w3.org/2000/svg\" height=\"24px\" viewBox=\"0 -960 960 960\">\n",
              "    <path d=\"M120-120v-720h720v720H120Zm60-500h600v-160H180v160Zm220 220h160v-160H400v160Zm0 220h160v-160H400v160ZM180-400h160v-160H180v160Zm440 0h160v-160H620v160ZM180-180h160v-160H180v160Zm440 0h160v-160H620v160Z\"/>\n",
              "  </svg>\n",
              "    </button>\n",
              "\n",
              "  <style>\n",
              "    .colab-df-container {\n",
              "      display:flex;\n",
              "      gap: 12px;\n",
              "    }\n",
              "\n",
              "    .colab-df-convert {\n",
              "      background-color: #E8F0FE;\n",
              "      border: none;\n",
              "      border-radius: 50%;\n",
              "      cursor: pointer;\n",
              "      display: none;\n",
              "      fill: #1967D2;\n",
              "      height: 32px;\n",
              "      padding: 0 0 0 0;\n",
              "      width: 32px;\n",
              "    }\n",
              "\n",
              "    .colab-df-convert:hover {\n",
              "      background-color: #E2EBFA;\n",
              "      box-shadow: 0px 1px 2px rgba(60, 64, 67, 0.3), 0px 1px 3px 1px rgba(60, 64, 67, 0.15);\n",
              "      fill: #174EA6;\n",
              "    }\n",
              "\n",
              "    .colab-df-buttons div {\n",
              "      margin-bottom: 4px;\n",
              "    }\n",
              "\n",
              "    [theme=dark] .colab-df-convert {\n",
              "      background-color: #3B4455;\n",
              "      fill: #D2E3FC;\n",
              "    }\n",
              "\n",
              "    [theme=dark] .colab-df-convert:hover {\n",
              "      background-color: #434B5C;\n",
              "      box-shadow: 0px 1px 3px 1px rgba(0, 0, 0, 0.15);\n",
              "      filter: drop-shadow(0px 1px 2px rgba(0, 0, 0, 0.3));\n",
              "      fill: #FFFFFF;\n",
              "    }\n",
              "  </style>\n",
              "\n",
              "    <script>\n",
              "      const buttonEl =\n",
              "        document.querySelector('#df-92c8b1fb-fc2e-4070-87c5-4e75b6a716b9 button.colab-df-convert');\n",
              "      buttonEl.style.display =\n",
              "        google.colab.kernel.accessAllowed ? 'block' : 'none';\n",
              "\n",
              "      async function convertToInteractive(key) {\n",
              "        const element = document.querySelector('#df-92c8b1fb-fc2e-4070-87c5-4e75b6a716b9');\n",
              "        const dataTable =\n",
              "          await google.colab.kernel.invokeFunction('convertToInteractive',\n",
              "                                                    [key], {});\n",
              "        if (!dataTable) return;\n",
              "\n",
              "        const docLinkHtml = 'Like what you see? Visit the ' +\n",
              "          '<a target=\"_blank\" href=https://colab.research.google.com/notebooks/data_table.ipynb>data table notebook</a>'\n",
              "          + ' to learn more about interactive tables.';\n",
              "        element.innerHTML = '';\n",
              "        dataTable['output_type'] = 'display_data';\n",
              "        await google.colab.output.renderOutput(dataTable, element);\n",
              "        const docLink = document.createElement('div');\n",
              "        docLink.innerHTML = docLinkHtml;\n",
              "        element.appendChild(docLink);\n",
              "      }\n",
              "    </script>\n",
              "  </div>\n",
              "\n",
              "\n",
              "<div id=\"df-f863d9d9-10eb-4833-91c3-74d99a4441e6\">\n",
              "  <button class=\"colab-df-quickchart\" onclick=\"quickchart('df-f863d9d9-10eb-4833-91c3-74d99a4441e6')\"\n",
              "            title=\"Suggest charts\"\n",
              "            style=\"display:none;\">\n",
              "\n",
              "<svg xmlns=\"http://www.w3.org/2000/svg\" height=\"24px\"viewBox=\"0 0 24 24\"\n",
              "     width=\"24px\">\n",
              "    <g>\n",
              "        <path d=\"M19 3H5c-1.1 0-2 .9-2 2v14c0 1.1.9 2 2 2h14c1.1 0 2-.9 2-2V5c0-1.1-.9-2-2-2zM9 17H7v-7h2v7zm4 0h-2V7h2v10zm4 0h-2v-4h2v4z\"/>\n",
              "    </g>\n",
              "</svg>\n",
              "  </button>\n",
              "\n",
              "<style>\n",
              "  .colab-df-quickchart {\n",
              "      --bg-color: #E8F0FE;\n",
              "      --fill-color: #1967D2;\n",
              "      --hover-bg-color: #E2EBFA;\n",
              "      --hover-fill-color: #174EA6;\n",
              "      --disabled-fill-color: #AAA;\n",
              "      --disabled-bg-color: #DDD;\n",
              "  }\n",
              "\n",
              "  [theme=dark] .colab-df-quickchart {\n",
              "      --bg-color: #3B4455;\n",
              "      --fill-color: #D2E3FC;\n",
              "      --hover-bg-color: #434B5C;\n",
              "      --hover-fill-color: #FFFFFF;\n",
              "      --disabled-bg-color: #3B4455;\n",
              "      --disabled-fill-color: #666;\n",
              "  }\n",
              "\n",
              "  .colab-df-quickchart {\n",
              "    background-color: var(--bg-color);\n",
              "    border: none;\n",
              "    border-radius: 50%;\n",
              "    cursor: pointer;\n",
              "    display: none;\n",
              "    fill: var(--fill-color);\n",
              "    height: 32px;\n",
              "    padding: 0;\n",
              "    width: 32px;\n",
              "  }\n",
              "\n",
              "  .colab-df-quickchart:hover {\n",
              "    background-color: var(--hover-bg-color);\n",
              "    box-shadow: 0 1px 2px rgba(60, 64, 67, 0.3), 0 1px 3px 1px rgba(60, 64, 67, 0.15);\n",
              "    fill: var(--button-hover-fill-color);\n",
              "  }\n",
              "\n",
              "  .colab-df-quickchart-complete:disabled,\n",
              "  .colab-df-quickchart-complete:disabled:hover {\n",
              "    background-color: var(--disabled-bg-color);\n",
              "    fill: var(--disabled-fill-color);\n",
              "    box-shadow: none;\n",
              "  }\n",
              "\n",
              "  .colab-df-spinner {\n",
              "    border: 2px solid var(--fill-color);\n",
              "    border-color: transparent;\n",
              "    border-bottom-color: var(--fill-color);\n",
              "    animation:\n",
              "      spin 1s steps(1) infinite;\n",
              "  }\n",
              "\n",
              "  @keyframes spin {\n",
              "    0% {\n",
              "      border-color: transparent;\n",
              "      border-bottom-color: var(--fill-color);\n",
              "      border-left-color: var(--fill-color);\n",
              "    }\n",
              "    20% {\n",
              "      border-color: transparent;\n",
              "      border-left-color: var(--fill-color);\n",
              "      border-top-color: var(--fill-color);\n",
              "    }\n",
              "    30% {\n",
              "      border-color: transparent;\n",
              "      border-left-color: var(--fill-color);\n",
              "      border-top-color: var(--fill-color);\n",
              "      border-right-color: var(--fill-color);\n",
              "    }\n",
              "    40% {\n",
              "      border-color: transparent;\n",
              "      border-right-color: var(--fill-color);\n",
              "      border-top-color: var(--fill-color);\n",
              "    }\n",
              "    60% {\n",
              "      border-color: transparent;\n",
              "      border-right-color: var(--fill-color);\n",
              "    }\n",
              "    80% {\n",
              "      border-color: transparent;\n",
              "      border-right-color: var(--fill-color);\n",
              "      border-bottom-color: var(--fill-color);\n",
              "    }\n",
              "    90% {\n",
              "      border-color: transparent;\n",
              "      border-bottom-color: var(--fill-color);\n",
              "    }\n",
              "  }\n",
              "</style>\n",
              "\n",
              "  <script>\n",
              "    async function quickchart(key) {\n",
              "      const quickchartButtonEl =\n",
              "        document.querySelector('#' + key + ' button');\n",
              "      quickchartButtonEl.disabled = true;  // To prevent multiple clicks.\n",
              "      quickchartButtonEl.classList.add('colab-df-spinner');\n",
              "      try {\n",
              "        const charts = await google.colab.kernel.invokeFunction(\n",
              "            'suggestCharts', [key], {});\n",
              "      } catch (error) {\n",
              "        console.error('Error during call to suggestCharts:', error);\n",
              "      }\n",
              "      quickchartButtonEl.classList.remove('colab-df-spinner');\n",
              "      quickchartButtonEl.classList.add('colab-df-quickchart-complete');\n",
              "    }\n",
              "    (() => {\n",
              "      let quickchartButtonEl =\n",
              "        document.querySelector('#df-f863d9d9-10eb-4833-91c3-74d99a4441e6 button');\n",
              "      quickchartButtonEl.style.display =\n",
              "        google.colab.kernel.accessAllowed ? 'block' : 'none';\n",
              "    })();\n",
              "  </script>\n",
              "</div>\n",
              "\n",
              "    </div>\n",
              "  </div>\n"
            ],
            "application/vnd.google.colaboratory.intrinsic+json": {
              "type": "dataframe",
              "variable_name": "dataframe",
              "summary": "{\n  \"name\": \"dataframe\",\n  \"rows\": 384,\n  \"fields\": [\n    {\n      \"column\": \"Idade\",\n      \"properties\": {\n        \"dtype\": \"number\",\n        \"std\": 4,\n        \"min\": 18,\n        \"max\": 45,\n        \"num_unique_values\": 26,\n        \"samples\": [\n          29,\n          37,\n          28\n        ],\n        \"semantic_type\": \"\",\n        \"description\": \"\"\n      }\n    },\n    {\n      \"column\": \"Sexo\",\n      \"properties\": {\n        \"dtype\": \"number\",\n        \"std\": 0,\n        \"min\": 0,\n        \"max\": 1,\n        \"num_unique_values\": 2,\n        \"samples\": [\n          1,\n          0\n        ],\n        \"semantic_type\": \"\",\n        \"description\": \"\"\n      }\n    },\n    {\n      \"column\": \"Treina\",\n      \"properties\": {\n        \"dtype\": \"number\",\n        \"std\": 0,\n        \"min\": 0,\n        \"max\": 1,\n        \"num_unique_values\": 2,\n        \"samples\": [\n          0,\n          1\n        ],\n        \"semantic_type\": \"\",\n        \"description\": \"\"\n      }\n    },\n    {\n      \"column\": \"Altura\",\n      \"properties\": {\n        \"dtype\": \"number\",\n        \"std\": 0.07570566181791216,\n        \"min\": 1.55,\n        \"max\": 1.92,\n        \"num_unique_values\": 36,\n        \"samples\": [\n          1.57,\n          1.81\n        ],\n        \"semantic_type\": \"\",\n        \"description\": \"\"\n      }\n    },\n    {\n      \"column\": \"Peso\",\n      \"properties\": {\n        \"dtype\": \"number\",\n        \"std\": 12,\n        \"min\": 48,\n        \"max\": 95,\n        \"num_unique_values\": 46,\n        \"samples\": [\n          53,\n          64\n        ],\n        \"semantic_type\": \"\",\n        \"description\": \"\"\n      }\n    },\n    {\n      \"column\": \"Tipo de Corpo\",\n      \"properties\": {\n        \"dtype\": \"number\",\n        \"std\": 0,\n        \"min\": 0,\n        \"max\": 2,\n        \"num_unique_values\": 3,\n        \"samples\": [\n          0,\n          2\n        ],\n        \"semantic_type\": \"\",\n        \"description\": \"\"\n      }\n    },\n    {\n      \"column\": \"Deficiente\",\n      \"properties\": {\n        \"dtype\": \"number\",\n        \"std\": 0,\n        \"min\": 0,\n        \"max\": 1,\n        \"num_unique_values\": 2,\n        \"samples\": [\n          1,\n          0\n        ],\n        \"semantic_type\": \"\",\n        \"description\": \"\"\n      }\n    },\n    {\n      \"column\": \"imc\",\n      \"properties\": {\n        \"dtype\": \"number\",\n        \"std\": 2.4151531818051364,\n        \"min\": 18.818924310286427,\n        \"max\": 29.065926806711587,\n        \"num_unique_values\": 146,\n        \"samples\": [\n          21.773842357381334,\n          24.898143956541425\n        ],\n        \"semantic_type\": \"\",\n        \"description\": \"\"\n      }\n    },\n    {\n      \"column\": \"sobrepeso\",\n      \"properties\": {\n        \"dtype\": \"boolean\",\n        \"num_unique_values\": 1,\n        \"samples\": [\n          false\n        ],\n        \"semantic_type\": \"\",\n        \"description\": \"\"\n      }\n    },\n    {\n      \"column\": \"Objetivo de Treino\",\n      \"properties\": {\n        \"dtype\": \"category\",\n        \"num_unique_values\": 3,\n        \"samples\": [\n          \"Treino de Forca\"\n        ],\n        \"semantic_type\": \"\",\n        \"description\": \"\"\n      }\n    }\n  ]\n}"
            }
          },
          "metadata": {},
          "execution_count": 59
        }
      ]
    },
    {
      "cell_type": "markdown",
      "source": [
        "##### Criando novos dados para testar o modelo e simular o uso da API com o GPT"
      ],
      "metadata": {
        "id": "bWKUkFtZBqqO"
      }
    },
    {
      "cell_type": "code",
      "source": [
        "novos_dados = {\n",
        "    'Idade': [30,25,40],\n",
        "    'Sexo': [1,0,1],\n",
        "    'Treina': [1,0,0],\n",
        "    'Altura': [1.75,1.60,1.65],\n",
        "    'Peso': [65,80,77],\n",
        "    'Tipo de Corpo': [0,2,1],\n",
        "    'Deficiente': [0,0,1]\n",
        "}\n",
        "\n",
        "df_novos_dados = pd.DataFrame(novos_dados)"
      ],
      "metadata": {
        "id": "T3cvYJZcxmP-"
      },
      "execution_count": 60,
      "outputs": []
    },
    {
      "cell_type": "code",
      "source": [
        "df_novos_dados"
      ],
      "metadata": {
        "id": "HqND5VqOyYPR",
        "outputId": "77b1ab95-a6ca-492b-b5e8-f4a49a7de489",
        "colab": {
          "base_uri": "https://localhost:8080/",
          "height": 143
        }
      },
      "execution_count": 61,
      "outputs": [
        {
          "output_type": "execute_result",
          "data": {
            "text/plain": [
              "   Idade  Sexo  Treina  Altura  Peso  Tipo de Corpo  Deficiente\n",
              "0     30     1       1    1.75    65              0           0\n",
              "1     25     0       0    1.60    80              2           0\n",
              "2     40     1       0    1.65    77              1           1"
            ],
            "text/html": [
              "\n",
              "  <div id=\"df-5a4402d9-c39e-4688-bb26-589e7f84521a\" class=\"colab-df-container\">\n",
              "    <div>\n",
              "<style scoped>\n",
              "    .dataframe tbody tr th:only-of-type {\n",
              "        vertical-align: middle;\n",
              "    }\n",
              "\n",
              "    .dataframe tbody tr th {\n",
              "        vertical-align: top;\n",
              "    }\n",
              "\n",
              "    .dataframe thead th {\n",
              "        text-align: right;\n",
              "    }\n",
              "</style>\n",
              "<table border=\"1\" class=\"dataframe\">\n",
              "  <thead>\n",
              "    <tr style=\"text-align: right;\">\n",
              "      <th></th>\n",
              "      <th>Idade</th>\n",
              "      <th>Sexo</th>\n",
              "      <th>Treina</th>\n",
              "      <th>Altura</th>\n",
              "      <th>Peso</th>\n",
              "      <th>Tipo de Corpo</th>\n",
              "      <th>Deficiente</th>\n",
              "    </tr>\n",
              "  </thead>\n",
              "  <tbody>\n",
              "    <tr>\n",
              "      <th>0</th>\n",
              "      <td>30</td>\n",
              "      <td>1</td>\n",
              "      <td>1</td>\n",
              "      <td>1.75</td>\n",
              "      <td>65</td>\n",
              "      <td>0</td>\n",
              "      <td>0</td>\n",
              "    </tr>\n",
              "    <tr>\n",
              "      <th>1</th>\n",
              "      <td>25</td>\n",
              "      <td>0</td>\n",
              "      <td>0</td>\n",
              "      <td>1.60</td>\n",
              "      <td>80</td>\n",
              "      <td>2</td>\n",
              "      <td>0</td>\n",
              "    </tr>\n",
              "    <tr>\n",
              "      <th>2</th>\n",
              "      <td>40</td>\n",
              "      <td>1</td>\n",
              "      <td>0</td>\n",
              "      <td>1.65</td>\n",
              "      <td>77</td>\n",
              "      <td>1</td>\n",
              "      <td>1</td>\n",
              "    </tr>\n",
              "  </tbody>\n",
              "</table>\n",
              "</div>\n",
              "    <div class=\"colab-df-buttons\">\n",
              "\n",
              "  <div class=\"colab-df-container\">\n",
              "    <button class=\"colab-df-convert\" onclick=\"convertToInteractive('df-5a4402d9-c39e-4688-bb26-589e7f84521a')\"\n",
              "            title=\"Convert this dataframe to an interactive table.\"\n",
              "            style=\"display:none;\">\n",
              "\n",
              "  <svg xmlns=\"http://www.w3.org/2000/svg\" height=\"24px\" viewBox=\"0 -960 960 960\">\n",
              "    <path d=\"M120-120v-720h720v720H120Zm60-500h600v-160H180v160Zm220 220h160v-160H400v160Zm0 220h160v-160H400v160ZM180-400h160v-160H180v160Zm440 0h160v-160H620v160ZM180-180h160v-160H180v160Zm440 0h160v-160H620v160Z\"/>\n",
              "  </svg>\n",
              "    </button>\n",
              "\n",
              "  <style>\n",
              "    .colab-df-container {\n",
              "      display:flex;\n",
              "      gap: 12px;\n",
              "    }\n",
              "\n",
              "    .colab-df-convert {\n",
              "      background-color: #E8F0FE;\n",
              "      border: none;\n",
              "      border-radius: 50%;\n",
              "      cursor: pointer;\n",
              "      display: none;\n",
              "      fill: #1967D2;\n",
              "      height: 32px;\n",
              "      padding: 0 0 0 0;\n",
              "      width: 32px;\n",
              "    }\n",
              "\n",
              "    .colab-df-convert:hover {\n",
              "      background-color: #E2EBFA;\n",
              "      box-shadow: 0px 1px 2px rgba(60, 64, 67, 0.3), 0px 1px 3px 1px rgba(60, 64, 67, 0.15);\n",
              "      fill: #174EA6;\n",
              "    }\n",
              "\n",
              "    .colab-df-buttons div {\n",
              "      margin-bottom: 4px;\n",
              "    }\n",
              "\n",
              "    [theme=dark] .colab-df-convert {\n",
              "      background-color: #3B4455;\n",
              "      fill: #D2E3FC;\n",
              "    }\n",
              "\n",
              "    [theme=dark] .colab-df-convert:hover {\n",
              "      background-color: #434B5C;\n",
              "      box-shadow: 0px 1px 3px 1px rgba(0, 0, 0, 0.15);\n",
              "      filter: drop-shadow(0px 1px 2px rgba(0, 0, 0, 0.3));\n",
              "      fill: #FFFFFF;\n",
              "    }\n",
              "  </style>\n",
              "\n",
              "    <script>\n",
              "      const buttonEl =\n",
              "        document.querySelector('#df-5a4402d9-c39e-4688-bb26-589e7f84521a button.colab-df-convert');\n",
              "      buttonEl.style.display =\n",
              "        google.colab.kernel.accessAllowed ? 'block' : 'none';\n",
              "\n",
              "      async function convertToInteractive(key) {\n",
              "        const element = document.querySelector('#df-5a4402d9-c39e-4688-bb26-589e7f84521a');\n",
              "        const dataTable =\n",
              "          await google.colab.kernel.invokeFunction('convertToInteractive',\n",
              "                                                    [key], {});\n",
              "        if (!dataTable) return;\n",
              "\n",
              "        const docLinkHtml = 'Like what you see? Visit the ' +\n",
              "          '<a target=\"_blank\" href=https://colab.research.google.com/notebooks/data_table.ipynb>data table notebook</a>'\n",
              "          + ' to learn more about interactive tables.';\n",
              "        element.innerHTML = '';\n",
              "        dataTable['output_type'] = 'display_data';\n",
              "        await google.colab.output.renderOutput(dataTable, element);\n",
              "        const docLink = document.createElement('div');\n",
              "        docLink.innerHTML = docLinkHtml;\n",
              "        element.appendChild(docLink);\n",
              "      }\n",
              "    </script>\n",
              "  </div>\n",
              "\n",
              "\n",
              "<div id=\"df-0ceabc09-8ae6-4174-82e1-d1605940068e\">\n",
              "  <button class=\"colab-df-quickchart\" onclick=\"quickchart('df-0ceabc09-8ae6-4174-82e1-d1605940068e')\"\n",
              "            title=\"Suggest charts\"\n",
              "            style=\"display:none;\">\n",
              "\n",
              "<svg xmlns=\"http://www.w3.org/2000/svg\" height=\"24px\"viewBox=\"0 0 24 24\"\n",
              "     width=\"24px\">\n",
              "    <g>\n",
              "        <path d=\"M19 3H5c-1.1 0-2 .9-2 2v14c0 1.1.9 2 2 2h14c1.1 0 2-.9 2-2V5c0-1.1-.9-2-2-2zM9 17H7v-7h2v7zm4 0h-2V7h2v10zm4 0h-2v-4h2v4z\"/>\n",
              "    </g>\n",
              "</svg>\n",
              "  </button>\n",
              "\n",
              "<style>\n",
              "  .colab-df-quickchart {\n",
              "      --bg-color: #E8F0FE;\n",
              "      --fill-color: #1967D2;\n",
              "      --hover-bg-color: #E2EBFA;\n",
              "      --hover-fill-color: #174EA6;\n",
              "      --disabled-fill-color: #AAA;\n",
              "      --disabled-bg-color: #DDD;\n",
              "  }\n",
              "\n",
              "  [theme=dark] .colab-df-quickchart {\n",
              "      --bg-color: #3B4455;\n",
              "      --fill-color: #D2E3FC;\n",
              "      --hover-bg-color: #434B5C;\n",
              "      --hover-fill-color: #FFFFFF;\n",
              "      --disabled-bg-color: #3B4455;\n",
              "      --disabled-fill-color: #666;\n",
              "  }\n",
              "\n",
              "  .colab-df-quickchart {\n",
              "    background-color: var(--bg-color);\n",
              "    border: none;\n",
              "    border-radius: 50%;\n",
              "    cursor: pointer;\n",
              "    display: none;\n",
              "    fill: var(--fill-color);\n",
              "    height: 32px;\n",
              "    padding: 0;\n",
              "    width: 32px;\n",
              "  }\n",
              "\n",
              "  .colab-df-quickchart:hover {\n",
              "    background-color: var(--hover-bg-color);\n",
              "    box-shadow: 0 1px 2px rgba(60, 64, 67, 0.3), 0 1px 3px 1px rgba(60, 64, 67, 0.15);\n",
              "    fill: var(--button-hover-fill-color);\n",
              "  }\n",
              "\n",
              "  .colab-df-quickchart-complete:disabled,\n",
              "  .colab-df-quickchart-complete:disabled:hover {\n",
              "    background-color: var(--disabled-bg-color);\n",
              "    fill: var(--disabled-fill-color);\n",
              "    box-shadow: none;\n",
              "  }\n",
              "\n",
              "  .colab-df-spinner {\n",
              "    border: 2px solid var(--fill-color);\n",
              "    border-color: transparent;\n",
              "    border-bottom-color: var(--fill-color);\n",
              "    animation:\n",
              "      spin 1s steps(1) infinite;\n",
              "  }\n",
              "\n",
              "  @keyframes spin {\n",
              "    0% {\n",
              "      border-color: transparent;\n",
              "      border-bottom-color: var(--fill-color);\n",
              "      border-left-color: var(--fill-color);\n",
              "    }\n",
              "    20% {\n",
              "      border-color: transparent;\n",
              "      border-left-color: var(--fill-color);\n",
              "      border-top-color: var(--fill-color);\n",
              "    }\n",
              "    30% {\n",
              "      border-color: transparent;\n",
              "      border-left-color: var(--fill-color);\n",
              "      border-top-color: var(--fill-color);\n",
              "      border-right-color: var(--fill-color);\n",
              "    }\n",
              "    40% {\n",
              "      border-color: transparent;\n",
              "      border-right-color: var(--fill-color);\n",
              "      border-top-color: var(--fill-color);\n",
              "    }\n",
              "    60% {\n",
              "      border-color: transparent;\n",
              "      border-right-color: var(--fill-color);\n",
              "    }\n",
              "    80% {\n",
              "      border-color: transparent;\n",
              "      border-right-color: var(--fill-color);\n",
              "      border-bottom-color: var(--fill-color);\n",
              "    }\n",
              "    90% {\n",
              "      border-color: transparent;\n",
              "      border-bottom-color: var(--fill-color);\n",
              "    }\n",
              "  }\n",
              "</style>\n",
              "\n",
              "  <script>\n",
              "    async function quickchart(key) {\n",
              "      const quickchartButtonEl =\n",
              "        document.querySelector('#' + key + ' button');\n",
              "      quickchartButtonEl.disabled = true;  // To prevent multiple clicks.\n",
              "      quickchartButtonEl.classList.add('colab-df-spinner');\n",
              "      try {\n",
              "        const charts = await google.colab.kernel.invokeFunction(\n",
              "            'suggestCharts', [key], {});\n",
              "      } catch (error) {\n",
              "        console.error('Error during call to suggestCharts:', error);\n",
              "      }\n",
              "      quickchartButtonEl.classList.remove('colab-df-spinner');\n",
              "      quickchartButtonEl.classList.add('colab-df-quickchart-complete');\n",
              "    }\n",
              "    (() => {\n",
              "      let quickchartButtonEl =\n",
              "        document.querySelector('#df-0ceabc09-8ae6-4174-82e1-d1605940068e button');\n",
              "      quickchartButtonEl.style.display =\n",
              "        google.colab.kernel.accessAllowed ? 'block' : 'none';\n",
              "    })();\n",
              "  </script>\n",
              "</div>\n",
              "\n",
              "  <div id=\"id_0fc864f3-a0aa-490f-98f3-39696a597ac5\">\n",
              "    <style>\n",
              "      .colab-df-generate {\n",
              "        background-color: #E8F0FE;\n",
              "        border: none;\n",
              "        border-radius: 50%;\n",
              "        cursor: pointer;\n",
              "        display: none;\n",
              "        fill: #1967D2;\n",
              "        height: 32px;\n",
              "        padding: 0 0 0 0;\n",
              "        width: 32px;\n",
              "      }\n",
              "\n",
              "      .colab-df-generate:hover {\n",
              "        background-color: #E2EBFA;\n",
              "        box-shadow: 0px 1px 2px rgba(60, 64, 67, 0.3), 0px 1px 3px 1px rgba(60, 64, 67, 0.15);\n",
              "        fill: #174EA6;\n",
              "      }\n",
              "\n",
              "      [theme=dark] .colab-df-generate {\n",
              "        background-color: #3B4455;\n",
              "        fill: #D2E3FC;\n",
              "      }\n",
              "\n",
              "      [theme=dark] .colab-df-generate:hover {\n",
              "        background-color: #434B5C;\n",
              "        box-shadow: 0px 1px 3px 1px rgba(0, 0, 0, 0.15);\n",
              "        filter: drop-shadow(0px 1px 2px rgba(0, 0, 0, 0.3));\n",
              "        fill: #FFFFFF;\n",
              "      }\n",
              "    </style>\n",
              "    <button class=\"colab-df-generate\" onclick=\"generateWithVariable('df_novos_dados')\"\n",
              "            title=\"Generate code using this dataframe.\"\n",
              "            style=\"display:none;\">\n",
              "\n",
              "  <svg xmlns=\"http://www.w3.org/2000/svg\" height=\"24px\"viewBox=\"0 0 24 24\"\n",
              "       width=\"24px\">\n",
              "    <path d=\"M7,19H8.4L18.45,9,17,7.55,7,17.6ZM5,21V16.75L18.45,3.32a2,2,0,0,1,2.83,0l1.4,1.43a1.91,1.91,0,0,1,.58,1.4,1.91,1.91,0,0,1-.58,1.4L9.25,21ZM18.45,9,17,7.55Zm-12,3A5.31,5.31,0,0,0,4.9,8.1,5.31,5.31,0,0,0,1,6.5,5.31,5.31,0,0,0,4.9,4.9,5.31,5.31,0,0,0,6.5,1,5.31,5.31,0,0,0,8.1,4.9,5.31,5.31,0,0,0,12,6.5,5.46,5.46,0,0,0,6.5,12Z\"/>\n",
              "  </svg>\n",
              "    </button>\n",
              "    <script>\n",
              "      (() => {\n",
              "      const buttonEl =\n",
              "        document.querySelector('#id_0fc864f3-a0aa-490f-98f3-39696a597ac5 button.colab-df-generate');\n",
              "      buttonEl.style.display =\n",
              "        google.colab.kernel.accessAllowed ? 'block' : 'none';\n",
              "\n",
              "      buttonEl.onclick = () => {\n",
              "        google.colab.notebook.generateWithVariable('df_novos_dados');\n",
              "      }\n",
              "      })();\n",
              "    </script>\n",
              "  </div>\n",
              "\n",
              "    </div>\n",
              "  </div>\n"
            ],
            "application/vnd.google.colaboratory.intrinsic+json": {
              "type": "dataframe",
              "variable_name": "df_novos_dados",
              "summary": "{\n  \"name\": \"df_novos_dados\",\n  \"rows\": 3,\n  \"fields\": [\n    {\n      \"column\": \"Idade\",\n      \"properties\": {\n        \"dtype\": \"number\",\n        \"std\": 7,\n        \"min\": 25,\n        \"max\": 40,\n        \"num_unique_values\": 3,\n        \"samples\": [\n          30,\n          25,\n          40\n        ],\n        \"semantic_type\": \"\",\n        \"description\": \"\"\n      }\n    },\n    {\n      \"column\": \"Sexo\",\n      \"properties\": {\n        \"dtype\": \"number\",\n        \"std\": 0,\n        \"min\": 0,\n        \"max\": 1,\n        \"num_unique_values\": 2,\n        \"samples\": [\n          0,\n          1\n        ],\n        \"semantic_type\": \"\",\n        \"description\": \"\"\n      }\n    },\n    {\n      \"column\": \"Treina\",\n      \"properties\": {\n        \"dtype\": \"number\",\n        \"std\": 0,\n        \"min\": 0,\n        \"max\": 1,\n        \"num_unique_values\": 2,\n        \"samples\": [\n          0,\n          1\n        ],\n        \"semantic_type\": \"\",\n        \"description\": \"\"\n      }\n    },\n    {\n      \"column\": \"Altura\",\n      \"properties\": {\n        \"dtype\": \"number\",\n        \"std\": 0.0763762615825973,\n        \"min\": 1.6,\n        \"max\": 1.75,\n        \"num_unique_values\": 3,\n        \"samples\": [\n          1.75,\n          1.6\n        ],\n        \"semantic_type\": \"\",\n        \"description\": \"\"\n      }\n    },\n    {\n      \"column\": \"Peso\",\n      \"properties\": {\n        \"dtype\": \"number\",\n        \"std\": 7,\n        \"min\": 65,\n        \"max\": 80,\n        \"num_unique_values\": 3,\n        \"samples\": [\n          65,\n          80\n        ],\n        \"semantic_type\": \"\",\n        \"description\": \"\"\n      }\n    },\n    {\n      \"column\": \"Tipo de Corpo\",\n      \"properties\": {\n        \"dtype\": \"number\",\n        \"std\": 1,\n        \"min\": 0,\n        \"max\": 2,\n        \"num_unique_values\": 3,\n        \"samples\": [\n          0,\n          2\n        ],\n        \"semantic_type\": \"\",\n        \"description\": \"\"\n      }\n    },\n    {\n      \"column\": \"Deficiente\",\n      \"properties\": {\n        \"dtype\": \"number\",\n        \"std\": 0,\n        \"min\": 0,\n        \"max\": 1,\n        \"num_unique_values\": 2,\n        \"samples\": [\n          1,\n          0\n        ],\n        \"semantic_type\": \"\",\n        \"description\": \"\"\n      }\n    }\n  ]\n}"
            }
          },
          "metadata": {},
          "execution_count": 61
        }
      ]
    },
    {
      "cell_type": "markdown",
      "source": [
        "Calculando o IMC e definindo sobrepeso"
      ],
      "metadata": {
        "id": "ViCRjGHWAzmr"
      }
    },
    {
      "cell_type": "code",
      "source": [
        "df_novos_dados['imc'] = df_novos_dados['Peso'] / (df_novos_dados['Altura'] ** 2)\n",
        "\n",
        "df_novos_dados['sobrepeso'] = df_novos_dados['imc'] > 30\n",
        "df_novos_dados['sobrepeso'] = df_novos_dados['sobrepeso'] #Posso passar um map para mudar o valor padrao booleano, mas vou deixar True e False"
      ],
      "metadata": {
        "id": "1_t6_yUIypfw"
      },
      "execution_count": 62,
      "outputs": []
    },
    {
      "cell_type": "markdown",
      "source": [
        "Criacao de Target"
      ],
      "metadata": {
        "id": "wI_1iYzvAx5o"
      }
    },
    {
      "cell_type": "code",
      "source": [
        "df_novos_dados['Objetivo de Treino'] = 'Treino Manutencao'\n",
        "\n",
        "df_novos_dados['Objetivo de Treino'] = np.where(df_novos_dados['Deficiente'] == 1, 'Treino Especial', df_novos_dados['Objetivo de Treino'])\n",
        "\n",
        "# Definir Treino Perda de Peso para clientes com sobrepeso\n",
        "df_novos_dados['Objetivo de Treino'] = np.where(df_novos_dados['sobrepeso'] == 1, 'Treino Perda de Peso', df_novos_dados['Objetivo de Treino'])\n",
        "\n",
        "# Definir Treino Ganho de Massa para clientes com IMC < 18.5\n",
        "df_novos_dados['Objetivo de Treino'] = np.where(df_novos_dados['imc'] < 18.5, 'Treino Ganho de Massa', df_novos_dados['Objetivo de Treino'])\n",
        "\n",
        "# Definir Treino de Força para clientes com IMC entre 18.5 e 24.9\n",
        "df_novos_dados['Objetivo de Treino'] = np.where((df_novos_dados['imc'] >= 18.5) & (df_novos_dados['imc'] <= 24.9) & (df_novos_dados['Deficiente'] == 0), 'Treino de Forca', df_novos_dados['Objetivo de Treino'])"
      ],
      "metadata": {
        "id": "X5d-P1cPzBAi"
      },
      "execution_count": 63,
      "outputs": []
    },
    {
      "cell_type": "code",
      "source": [
        "df_novos_dados"
      ],
      "metadata": {
        "id": "G80prYl-zEc0",
        "outputId": "66770715-5963-4923-87b5-163dc847ebb4",
        "colab": {
          "base_uri": "https://localhost:8080/",
          "height": 143
        }
      },
      "execution_count": 64,
      "outputs": [
        {
          "output_type": "execute_result",
          "data": {
            "text/plain": [
              "   Idade  Sexo  Treina  Altura  Peso  Tipo de Corpo  Deficiente        imc  \\\n",
              "0     30     1       1    1.75    65              0           0  21.224490   \n",
              "1     25     0       0    1.60    80              2           0  31.250000   \n",
              "2     40     1       0    1.65    77              1           1  28.282828   \n",
              "\n",
              "   sobrepeso    Objetivo de Treino  \n",
              "0      False       Treino de Forca  \n",
              "1       True  Treino Perda de Peso  \n",
              "2      False       Treino Especial  "
            ],
            "text/html": [
              "\n",
              "  <div id=\"df-ee0c256d-d7b3-4df5-a69d-731852cd42eb\" class=\"colab-df-container\">\n",
              "    <div>\n",
              "<style scoped>\n",
              "    .dataframe tbody tr th:only-of-type {\n",
              "        vertical-align: middle;\n",
              "    }\n",
              "\n",
              "    .dataframe tbody tr th {\n",
              "        vertical-align: top;\n",
              "    }\n",
              "\n",
              "    .dataframe thead th {\n",
              "        text-align: right;\n",
              "    }\n",
              "</style>\n",
              "<table border=\"1\" class=\"dataframe\">\n",
              "  <thead>\n",
              "    <tr style=\"text-align: right;\">\n",
              "      <th></th>\n",
              "      <th>Idade</th>\n",
              "      <th>Sexo</th>\n",
              "      <th>Treina</th>\n",
              "      <th>Altura</th>\n",
              "      <th>Peso</th>\n",
              "      <th>Tipo de Corpo</th>\n",
              "      <th>Deficiente</th>\n",
              "      <th>imc</th>\n",
              "      <th>sobrepeso</th>\n",
              "      <th>Objetivo de Treino</th>\n",
              "    </tr>\n",
              "  </thead>\n",
              "  <tbody>\n",
              "    <tr>\n",
              "      <th>0</th>\n",
              "      <td>30</td>\n",
              "      <td>1</td>\n",
              "      <td>1</td>\n",
              "      <td>1.75</td>\n",
              "      <td>65</td>\n",
              "      <td>0</td>\n",
              "      <td>0</td>\n",
              "      <td>21.224490</td>\n",
              "      <td>False</td>\n",
              "      <td>Treino de Forca</td>\n",
              "    </tr>\n",
              "    <tr>\n",
              "      <th>1</th>\n",
              "      <td>25</td>\n",
              "      <td>0</td>\n",
              "      <td>0</td>\n",
              "      <td>1.60</td>\n",
              "      <td>80</td>\n",
              "      <td>2</td>\n",
              "      <td>0</td>\n",
              "      <td>31.250000</td>\n",
              "      <td>True</td>\n",
              "      <td>Treino Perda de Peso</td>\n",
              "    </tr>\n",
              "    <tr>\n",
              "      <th>2</th>\n",
              "      <td>40</td>\n",
              "      <td>1</td>\n",
              "      <td>0</td>\n",
              "      <td>1.65</td>\n",
              "      <td>77</td>\n",
              "      <td>1</td>\n",
              "      <td>1</td>\n",
              "      <td>28.282828</td>\n",
              "      <td>False</td>\n",
              "      <td>Treino Especial</td>\n",
              "    </tr>\n",
              "  </tbody>\n",
              "</table>\n",
              "</div>\n",
              "    <div class=\"colab-df-buttons\">\n",
              "\n",
              "  <div class=\"colab-df-container\">\n",
              "    <button class=\"colab-df-convert\" onclick=\"convertToInteractive('df-ee0c256d-d7b3-4df5-a69d-731852cd42eb')\"\n",
              "            title=\"Convert this dataframe to an interactive table.\"\n",
              "            style=\"display:none;\">\n",
              "\n",
              "  <svg xmlns=\"http://www.w3.org/2000/svg\" height=\"24px\" viewBox=\"0 -960 960 960\">\n",
              "    <path d=\"M120-120v-720h720v720H120Zm60-500h600v-160H180v160Zm220 220h160v-160H400v160Zm0 220h160v-160H400v160ZM180-400h160v-160H180v160Zm440 0h160v-160H620v160ZM180-180h160v-160H180v160Zm440 0h160v-160H620v160Z\"/>\n",
              "  </svg>\n",
              "    </button>\n",
              "\n",
              "  <style>\n",
              "    .colab-df-container {\n",
              "      display:flex;\n",
              "      gap: 12px;\n",
              "    }\n",
              "\n",
              "    .colab-df-convert {\n",
              "      background-color: #E8F0FE;\n",
              "      border: none;\n",
              "      border-radius: 50%;\n",
              "      cursor: pointer;\n",
              "      display: none;\n",
              "      fill: #1967D2;\n",
              "      height: 32px;\n",
              "      padding: 0 0 0 0;\n",
              "      width: 32px;\n",
              "    }\n",
              "\n",
              "    .colab-df-convert:hover {\n",
              "      background-color: #E2EBFA;\n",
              "      box-shadow: 0px 1px 2px rgba(60, 64, 67, 0.3), 0px 1px 3px 1px rgba(60, 64, 67, 0.15);\n",
              "      fill: #174EA6;\n",
              "    }\n",
              "\n",
              "    .colab-df-buttons div {\n",
              "      margin-bottom: 4px;\n",
              "    }\n",
              "\n",
              "    [theme=dark] .colab-df-convert {\n",
              "      background-color: #3B4455;\n",
              "      fill: #D2E3FC;\n",
              "    }\n",
              "\n",
              "    [theme=dark] .colab-df-convert:hover {\n",
              "      background-color: #434B5C;\n",
              "      box-shadow: 0px 1px 3px 1px rgba(0, 0, 0, 0.15);\n",
              "      filter: drop-shadow(0px 1px 2px rgba(0, 0, 0, 0.3));\n",
              "      fill: #FFFFFF;\n",
              "    }\n",
              "  </style>\n",
              "\n",
              "    <script>\n",
              "      const buttonEl =\n",
              "        document.querySelector('#df-ee0c256d-d7b3-4df5-a69d-731852cd42eb button.colab-df-convert');\n",
              "      buttonEl.style.display =\n",
              "        google.colab.kernel.accessAllowed ? 'block' : 'none';\n",
              "\n",
              "      async function convertToInteractive(key) {\n",
              "        const element = document.querySelector('#df-ee0c256d-d7b3-4df5-a69d-731852cd42eb');\n",
              "        const dataTable =\n",
              "          await google.colab.kernel.invokeFunction('convertToInteractive',\n",
              "                                                    [key], {});\n",
              "        if (!dataTable) return;\n",
              "\n",
              "        const docLinkHtml = 'Like what you see? Visit the ' +\n",
              "          '<a target=\"_blank\" href=https://colab.research.google.com/notebooks/data_table.ipynb>data table notebook</a>'\n",
              "          + ' to learn more about interactive tables.';\n",
              "        element.innerHTML = '';\n",
              "        dataTable['output_type'] = 'display_data';\n",
              "        await google.colab.output.renderOutput(dataTable, element);\n",
              "        const docLink = document.createElement('div');\n",
              "        docLink.innerHTML = docLinkHtml;\n",
              "        element.appendChild(docLink);\n",
              "      }\n",
              "    </script>\n",
              "  </div>\n",
              "\n",
              "\n",
              "<div id=\"df-8e92608e-1fc8-47fd-963b-802debd230ec\">\n",
              "  <button class=\"colab-df-quickchart\" onclick=\"quickchart('df-8e92608e-1fc8-47fd-963b-802debd230ec')\"\n",
              "            title=\"Suggest charts\"\n",
              "            style=\"display:none;\">\n",
              "\n",
              "<svg xmlns=\"http://www.w3.org/2000/svg\" height=\"24px\"viewBox=\"0 0 24 24\"\n",
              "     width=\"24px\">\n",
              "    <g>\n",
              "        <path d=\"M19 3H5c-1.1 0-2 .9-2 2v14c0 1.1.9 2 2 2h14c1.1 0 2-.9 2-2V5c0-1.1-.9-2-2-2zM9 17H7v-7h2v7zm4 0h-2V7h2v10zm4 0h-2v-4h2v4z\"/>\n",
              "    </g>\n",
              "</svg>\n",
              "  </button>\n",
              "\n",
              "<style>\n",
              "  .colab-df-quickchart {\n",
              "      --bg-color: #E8F0FE;\n",
              "      --fill-color: #1967D2;\n",
              "      --hover-bg-color: #E2EBFA;\n",
              "      --hover-fill-color: #174EA6;\n",
              "      --disabled-fill-color: #AAA;\n",
              "      --disabled-bg-color: #DDD;\n",
              "  }\n",
              "\n",
              "  [theme=dark] .colab-df-quickchart {\n",
              "      --bg-color: #3B4455;\n",
              "      --fill-color: #D2E3FC;\n",
              "      --hover-bg-color: #434B5C;\n",
              "      --hover-fill-color: #FFFFFF;\n",
              "      --disabled-bg-color: #3B4455;\n",
              "      --disabled-fill-color: #666;\n",
              "  }\n",
              "\n",
              "  .colab-df-quickchart {\n",
              "    background-color: var(--bg-color);\n",
              "    border: none;\n",
              "    border-radius: 50%;\n",
              "    cursor: pointer;\n",
              "    display: none;\n",
              "    fill: var(--fill-color);\n",
              "    height: 32px;\n",
              "    padding: 0;\n",
              "    width: 32px;\n",
              "  }\n",
              "\n",
              "  .colab-df-quickchart:hover {\n",
              "    background-color: var(--hover-bg-color);\n",
              "    box-shadow: 0 1px 2px rgba(60, 64, 67, 0.3), 0 1px 3px 1px rgba(60, 64, 67, 0.15);\n",
              "    fill: var(--button-hover-fill-color);\n",
              "  }\n",
              "\n",
              "  .colab-df-quickchart-complete:disabled,\n",
              "  .colab-df-quickchart-complete:disabled:hover {\n",
              "    background-color: var(--disabled-bg-color);\n",
              "    fill: var(--disabled-fill-color);\n",
              "    box-shadow: none;\n",
              "  }\n",
              "\n",
              "  .colab-df-spinner {\n",
              "    border: 2px solid var(--fill-color);\n",
              "    border-color: transparent;\n",
              "    border-bottom-color: var(--fill-color);\n",
              "    animation:\n",
              "      spin 1s steps(1) infinite;\n",
              "  }\n",
              "\n",
              "  @keyframes spin {\n",
              "    0% {\n",
              "      border-color: transparent;\n",
              "      border-bottom-color: var(--fill-color);\n",
              "      border-left-color: var(--fill-color);\n",
              "    }\n",
              "    20% {\n",
              "      border-color: transparent;\n",
              "      border-left-color: var(--fill-color);\n",
              "      border-top-color: var(--fill-color);\n",
              "    }\n",
              "    30% {\n",
              "      border-color: transparent;\n",
              "      border-left-color: var(--fill-color);\n",
              "      border-top-color: var(--fill-color);\n",
              "      border-right-color: var(--fill-color);\n",
              "    }\n",
              "    40% {\n",
              "      border-color: transparent;\n",
              "      border-right-color: var(--fill-color);\n",
              "      border-top-color: var(--fill-color);\n",
              "    }\n",
              "    60% {\n",
              "      border-color: transparent;\n",
              "      border-right-color: var(--fill-color);\n",
              "    }\n",
              "    80% {\n",
              "      border-color: transparent;\n",
              "      border-right-color: var(--fill-color);\n",
              "      border-bottom-color: var(--fill-color);\n",
              "    }\n",
              "    90% {\n",
              "      border-color: transparent;\n",
              "      border-bottom-color: var(--fill-color);\n",
              "    }\n",
              "  }\n",
              "</style>\n",
              "\n",
              "  <script>\n",
              "    async function quickchart(key) {\n",
              "      const quickchartButtonEl =\n",
              "        document.querySelector('#' + key + ' button');\n",
              "      quickchartButtonEl.disabled = true;  // To prevent multiple clicks.\n",
              "      quickchartButtonEl.classList.add('colab-df-spinner');\n",
              "      try {\n",
              "        const charts = await google.colab.kernel.invokeFunction(\n",
              "            'suggestCharts', [key], {});\n",
              "      } catch (error) {\n",
              "        console.error('Error during call to suggestCharts:', error);\n",
              "      }\n",
              "      quickchartButtonEl.classList.remove('colab-df-spinner');\n",
              "      quickchartButtonEl.classList.add('colab-df-quickchart-complete');\n",
              "    }\n",
              "    (() => {\n",
              "      let quickchartButtonEl =\n",
              "        document.querySelector('#df-8e92608e-1fc8-47fd-963b-802debd230ec button');\n",
              "      quickchartButtonEl.style.display =\n",
              "        google.colab.kernel.accessAllowed ? 'block' : 'none';\n",
              "    })();\n",
              "  </script>\n",
              "</div>\n",
              "\n",
              "  <div id=\"id_def0df34-e7d6-47b1-ba37-fdd38928377e\">\n",
              "    <style>\n",
              "      .colab-df-generate {\n",
              "        background-color: #E8F0FE;\n",
              "        border: none;\n",
              "        border-radius: 50%;\n",
              "        cursor: pointer;\n",
              "        display: none;\n",
              "        fill: #1967D2;\n",
              "        height: 32px;\n",
              "        padding: 0 0 0 0;\n",
              "        width: 32px;\n",
              "      }\n",
              "\n",
              "      .colab-df-generate:hover {\n",
              "        background-color: #E2EBFA;\n",
              "        box-shadow: 0px 1px 2px rgba(60, 64, 67, 0.3), 0px 1px 3px 1px rgba(60, 64, 67, 0.15);\n",
              "        fill: #174EA6;\n",
              "      }\n",
              "\n",
              "      [theme=dark] .colab-df-generate {\n",
              "        background-color: #3B4455;\n",
              "        fill: #D2E3FC;\n",
              "      }\n",
              "\n",
              "      [theme=dark] .colab-df-generate:hover {\n",
              "        background-color: #434B5C;\n",
              "        box-shadow: 0px 1px 3px 1px rgba(0, 0, 0, 0.15);\n",
              "        filter: drop-shadow(0px 1px 2px rgba(0, 0, 0, 0.3));\n",
              "        fill: #FFFFFF;\n",
              "      }\n",
              "    </style>\n",
              "    <button class=\"colab-df-generate\" onclick=\"generateWithVariable('df_novos_dados')\"\n",
              "            title=\"Generate code using this dataframe.\"\n",
              "            style=\"display:none;\">\n",
              "\n",
              "  <svg xmlns=\"http://www.w3.org/2000/svg\" height=\"24px\"viewBox=\"0 0 24 24\"\n",
              "       width=\"24px\">\n",
              "    <path d=\"M7,19H8.4L18.45,9,17,7.55,7,17.6ZM5,21V16.75L18.45,3.32a2,2,0,0,1,2.83,0l1.4,1.43a1.91,1.91,0,0,1,.58,1.4,1.91,1.91,0,0,1-.58,1.4L9.25,21ZM18.45,9,17,7.55Zm-12,3A5.31,5.31,0,0,0,4.9,8.1,5.31,5.31,0,0,0,1,6.5,5.31,5.31,0,0,0,4.9,4.9,5.31,5.31,0,0,0,6.5,1,5.31,5.31,0,0,0,8.1,4.9,5.31,5.31,0,0,0,12,6.5,5.46,5.46,0,0,0,6.5,12Z\"/>\n",
              "  </svg>\n",
              "    </button>\n",
              "    <script>\n",
              "      (() => {\n",
              "      const buttonEl =\n",
              "        document.querySelector('#id_def0df34-e7d6-47b1-ba37-fdd38928377e button.colab-df-generate');\n",
              "      buttonEl.style.display =\n",
              "        google.colab.kernel.accessAllowed ? 'block' : 'none';\n",
              "\n",
              "      buttonEl.onclick = () => {\n",
              "        google.colab.notebook.generateWithVariable('df_novos_dados');\n",
              "      }\n",
              "      })();\n",
              "    </script>\n",
              "  </div>\n",
              "\n",
              "    </div>\n",
              "  </div>\n"
            ],
            "application/vnd.google.colaboratory.intrinsic+json": {
              "type": "dataframe",
              "variable_name": "df_novos_dados",
              "summary": "{\n  \"name\": \"df_novos_dados\",\n  \"rows\": 3,\n  \"fields\": [\n    {\n      \"column\": \"Idade\",\n      \"properties\": {\n        \"dtype\": \"number\",\n        \"std\": 7,\n        \"min\": 25,\n        \"max\": 40,\n        \"num_unique_values\": 3,\n        \"samples\": [\n          30,\n          25,\n          40\n        ],\n        \"semantic_type\": \"\",\n        \"description\": \"\"\n      }\n    },\n    {\n      \"column\": \"Sexo\",\n      \"properties\": {\n        \"dtype\": \"number\",\n        \"std\": 0,\n        \"min\": 0,\n        \"max\": 1,\n        \"num_unique_values\": 2,\n        \"samples\": [\n          0,\n          1\n        ],\n        \"semantic_type\": \"\",\n        \"description\": \"\"\n      }\n    },\n    {\n      \"column\": \"Treina\",\n      \"properties\": {\n        \"dtype\": \"number\",\n        \"std\": 0,\n        \"min\": 0,\n        \"max\": 1,\n        \"num_unique_values\": 2,\n        \"samples\": [\n          0,\n          1\n        ],\n        \"semantic_type\": \"\",\n        \"description\": \"\"\n      }\n    },\n    {\n      \"column\": \"Altura\",\n      \"properties\": {\n        \"dtype\": \"number\",\n        \"std\": 0.0763762615825973,\n        \"min\": 1.6,\n        \"max\": 1.75,\n        \"num_unique_values\": 3,\n        \"samples\": [\n          1.75,\n          1.6\n        ],\n        \"semantic_type\": \"\",\n        \"description\": \"\"\n      }\n    },\n    {\n      \"column\": \"Peso\",\n      \"properties\": {\n        \"dtype\": \"number\",\n        \"std\": 7,\n        \"min\": 65,\n        \"max\": 80,\n        \"num_unique_values\": 3,\n        \"samples\": [\n          65,\n          80\n        ],\n        \"semantic_type\": \"\",\n        \"description\": \"\"\n      }\n    },\n    {\n      \"column\": \"Tipo de Corpo\",\n      \"properties\": {\n        \"dtype\": \"number\",\n        \"std\": 1,\n        \"min\": 0,\n        \"max\": 2,\n        \"num_unique_values\": 3,\n        \"samples\": [\n          0,\n          2\n        ],\n        \"semantic_type\": \"\",\n        \"description\": \"\"\n      }\n    },\n    {\n      \"column\": \"Deficiente\",\n      \"properties\": {\n        \"dtype\": \"number\",\n        \"std\": 0,\n        \"min\": 0,\n        \"max\": 1,\n        \"num_unique_values\": 2,\n        \"samples\": [\n          1,\n          0\n        ],\n        \"semantic_type\": \"\",\n        \"description\": \"\"\n      }\n    },\n    {\n      \"column\": \"imc\",\n      \"properties\": {\n        \"dtype\": \"number\",\n        \"std\": 5.150001699791344,\n        \"min\": 21.224489795918366,\n        \"max\": 31.249999999999993,\n        \"num_unique_values\": 3,\n        \"samples\": [\n          21.224489795918366,\n          31.249999999999993\n        ],\n        \"semantic_type\": \"\",\n        \"description\": \"\"\n      }\n    },\n    {\n      \"column\": \"sobrepeso\",\n      \"properties\": {\n        \"dtype\": \"boolean\",\n        \"num_unique_values\": 2,\n        \"samples\": [\n          true,\n          false\n        ],\n        \"semantic_type\": \"\",\n        \"description\": \"\"\n      }\n    },\n    {\n      \"column\": \"Objetivo de Treino\",\n      \"properties\": {\n        \"dtype\": \"string\",\n        \"num_unique_values\": 3,\n        \"samples\": [\n          \"Treino de Forca\",\n          \"Treino Perda de Peso\"\n        ],\n        \"semantic_type\": \"\",\n        \"description\": \"\"\n      }\n    }\n  ]\n}"
            }
          },
          "metadata": {},
          "execution_count": 64
        }
      ]
    },
    {
      "cell_type": "code",
      "source": [
        "X_train, X_test, y_train, y_test = train_test_split(X, y, test_size=0.2, random_state=42)"
      ],
      "metadata": {
        "id": "s78hTckk1Q1g"
      },
      "execution_count": 67,
      "outputs": []
    },
    {
      "cell_type": "code",
      "source": [
        "df_novos_dados = df_novos_dados[X_train.columns] # alinhando as colunas dos novos valores"
      ],
      "metadata": {
        "id": "Rj9AqNfv0Tuv"
      },
      "execution_count": 68,
      "outputs": []
    },
    {
      "cell_type": "markdown",
      "source": [
        "RandomForestClassifier escolhido porque e o modelo menor. nao ha necessidade de utilizar modelos maiores ou desenvolvidos para a quantidade de dados"
      ],
      "metadata": {
        "id": "plgCQLgkAiqR"
      }
    },
    {
      "cell_type": "code",
      "source": [
        "model_rf = RandomForestClassifier(random_state=42)\n",
        "model_rf.fit(X_train, y_train)\n",
        "\n",
        "# Fazer previsões usando os valores novos\n",
        "y_pred_novos = model_rf.predict(df_novos_dados)"
      ],
      "metadata": {
        "id": "F17yoZvP10j4"
      },
      "execution_count": 76,
      "outputs": []
    },
    {
      "cell_type": "code",
      "source": [
        "# Mapear os valores numéricos para suas categorias originais\n",
        "class_mapping = {0: 'Treino Especial', 1: 'Treino Perda de Peso', 2: 'Treino de Forca'}\n",
        "y_pred_novos_mapped = pd.Series(y_pred_novos).map(class_mapping)"
      ],
      "metadata": {
        "id": "7hSOw1Og0X1R"
      },
      "execution_count": 80,
      "outputs": []
    },
    {
      "cell_type": "code",
      "source": [
        "y_pred_novos_mapped # Ver o predict do modelo"
      ],
      "metadata": {
        "id": "iz_WF6x62Bd_",
        "outputId": "eaa0991a-53ce-4d97-e41b-a9b012b6fbf8",
        "colab": {
          "base_uri": "https://localhost:8080/"
        }
      },
      "execution_count": 83,
      "outputs": [
        {
          "output_type": "execute_result",
          "data": {
            "text/plain": [
              "0         Treino de Forca\n",
              "1    Treino Perda de Peso\n",
              "2         Treino Especial\n",
              "dtype: object"
            ]
          },
          "metadata": {},
          "execution_count": 83
        }
      ]
    },
    {
      "cell_type": "code",
      "source": [
        "# Geração da mensagem de saída\n",
        "output_messages = []\n",
        "for pred in y_pred_novos_mapped: # Somente essas 3 classificacoes estao mapeadas por enquanto.\n",
        "    if pred == 'Treino de Forca':\n",
        "        output_message = \"Crie um plano de treino de força de 4 semanas para um indivíduo saudável que treina regularmente\"   #Input Para o GPT\n",
        "    elif pred == 'Treino Perda de Peso':\n",
        "        output_message = \"Desenvolva um programa de exercícios de 6 semanas focado na perda de peso com um estilo de vida sedentário\"\n",
        "    elif pred == 'Treino Especial':\n",
        "        output_message = \"Elabore um plano de treino seguro e eficaz de 8 semanas para uma pessoa com deficiência nas pernas que deseja melhorar a força do tronco e dos braços\"\n",
        "    output_messages.append(output_message) # Salva"
      ],
      "metadata": {
        "id": "hqPrMwf20aka"
      },
      "execution_count": 107,
      "outputs": []
    },
    {
      "cell_type": "markdown",
      "source": [
        "## API COM O GPT"
      ],
      "metadata": {
        "id": "H2C8x5M63J_f"
      }
    },
    {
      "cell_type": "code",
      "source": [
        "# Integração com o ChatGPT\n",
        "def enviar_para_chatgpt(message):\n",
        "    url = 'https://api.openai.com/v1/chat/completions'\n",
        "    headers = {\n",
        "        'Content-Type': 'application/json',\n",
        "        'Authorization': 'Bearer ChaveAPIAQUI'  # Substitua ChaveAPIAQUI pela API Key do OpenAI\n",
        "    }\n",
        "    data = {\n",
        "        'model': 'gpt-3.5-turbo',  # modelo escolhido\n",
        "        'messages': [\n",
        "            {'role': 'user', 'content': message}\n",
        "        ]\n",
        "    }\n",
        "    response = requests.post(url, headers=headers, json=data)\n",
        "    if response.status_code == 200:\n",
        "        return response.json()['choices'][0]['message']['content']\n",
        "    elif response.status_code == 429:\n",
        "        return \"Erro 429 - Excedeu o limite de solicitações.\"\n",
        "    else:\n",
        "        return f\"Erro ao enviar mensagem para o ChatGPT: {response.status_code}\"\n"
      ],
      "metadata": {
        "id": "2BNXBIZk3OJ9"
      },
      "execution_count": 108,
      "outputs": []
    },
    {
      "cell_type": "code",
      "source": [
        "# Enviar mensagens para o ChatGPT e obter respostas\n",
        "for message in output_messages:\n",
        "    input_message = f\"Classificação: {message}\"\n",
        "    response = enviar_para_chatgpt(input_message)\n",
        "    print(f\"Input: {input_message}\")\n",
        "    if \"Erro\" in response:\n",
        "        print(f\"Erro ao enviar mensagem para o ChatGPT: {response}\")\n",
        "    else:\n",
        "        print(f\"Output: {response}\")\n",
        "    print(\"\\n\")\n",
        "    time.sleep(2)  # Aguarda 2 segundos entre cada solicitação para evitar erro de limite de solicitacao"
      ],
      "metadata": {
        "id": "KYSbQFVo3eAV",
        "outputId": "4e9fe8b9-0fa7-41cf-d408-0a5e527c060b",
        "colab": {
          "base_uri": "https://localhost:8080/"
        }
      },
      "execution_count": 109,
      "outputs": [
        {
          "output_type": "stream",
          "name": "stdout",
          "text": [
            "Input: Classificação: Crie um plano de treino de força de 4 semanas para um indivíduo saudável que treina regularmente\n",
            "Output: Sem conhecer os objetivos específicos do indivíduo, como ganho de massa muscular, aumento de força, definição muscular ou resistência, é difícil criar um plano de treino de força personalizado. No entanto, irei apresentar um exemplo genérico de um plano de treino de força de 4 semanas para um indivíduo saudável que treina regularmente:\n",
            "\n",
            "Semana 1:\n",
            "- Dia 1: Agachamento com barra - 4 séries de 10 repetições\n",
            "           Supino reto - 4 séries de 10 repetições\n",
            "           Barra fixa - 3 séries de 10 repetições\n",
            "- Dia 2: Descanso ou cardio leve (caminhada, bicicleta, etc.)\n",
            "- Dia 3: Levantamento terra - 4 séries de 8 repetições\n",
            "           Desenvolvimento com halteres - 4 séries de 10 repetições\n",
            "           Remada curvada com barra - 3 séries de 12 repetições\n",
            "- Dia 4: Descanso ou cardio leve\n",
            "- Dia 5: Afundo com halteres - 3 séries de 12 repetições por perna\n",
            "           Elevação de quadril - 4 séries de 10 repetições\n",
            "           Rosca direta - 3 séries de 12 repetições\n",
            "- Dia 6 e 7: Descanso\n",
            "\n",
            "Semana 2:\n",
            "- Repetir o mesmo plano de treino da semana 1, mas aumentar o peso ou intensidade em todas as séries\n",
            "\n",
            "Semanas 3 e 4:\n",
            "- Aumentar a intensidade e variar os exercícios para evitar a adaptação do corpo. Introduzir novos exercícios como lunges, agachamento frontal, flexão lateral com halteres, entre outros.\n",
            "\n",
            "Este plano de treino é apenas um exemplo genérico e deve ser personalizado de acordo com as necessidades e objetivos do indivíduo. Lembre-se de sempre consultar um profissional de educação física antes de iniciar qualquer tipo de treinamento de força.\n",
            "\n",
            "\n",
            "Input: Classificação: Desenvolva um programa de exercícios de 6 semanas focado na perda de peso com um estilo de vida sedentário\n",
            "Output: Sempre consulte um profissional de saúde antes de iniciar qualquer programa de exercícios:\n",
            "\n",
            "Semana 1-2:\n",
            "- Segunda-feira: 20 minutos de caminhada leve\n",
            "- Quarta-feira: 15 minutos de exercícios de alongamento\n",
            "- Sexta-feira: 20 minutos de dança aeróbica em casa\n",
            "\n",
            "Semana 3-4:\n",
            "- Segunda-feira: 30 minutos de caminhada em ritmo moderado\n",
            "- Quarta-feira: 20 minutos de exercícios de resistência com halteres leves\n",
            "- Sexta-feira: 30 minutos de dança aeróbica em casa\n",
            "\n",
            "Semana 5-6:\n",
            "- Segunda-feira: 40 minutos de caminhada em ritmo moderado\n",
            "- Quarta-feira: 30 minutos de exercícios de resistência com halteres leves\n",
            "- Sexta-feira: 40 minutos de dança aeróbica em casa\n",
            "\n",
            "Além dos exercícios, também é importante manter uma alimentação saudável com a ingestão adequada de proteínas, carboidratos e gorduras saudáveis, além de evitar alimentos processados e ricos em açúcares. Lembre-se de se manter hidratado bebendo bastante água ao longo do dia e descansar adequadamente para permitir a recuperação muscular.\n",
            "\n",
            "\n",
            "Input: Classificação: Elabore um plano de treino seguro e eficaz de 8 semanas para uma pessoa com deficiência nas pernas que deseja melhorar a força do tronco e dos braços\n",
            "Output: Sem saber a gravidade da deficiência nas pernas da pessoa, é crucial consultar um fisioterapeuta antes de começar qualquer programa de treino. A seguir está um plano de treino genérico de 8 semanas que pode ser ajustado de acordo com as necessidades individuais:\n",
            "\n",
            "Semana 1-2:\n",
            "- Dia 1: 3 séries de flexões de joelhos (ou flexões de parede) - 10 repetições\n",
            "- Dia 2: 3 séries de elevações de braços com ou sem pesos leves - 10 repetições\n",
            "- Dia 3: Descanso\n",
            "- Dia 4: Repetir o dia 1\n",
            "- Dia 5: Repetir o dia 2\n",
            "- Dia 6: Descanso\n",
            "- Dia 7: Caminhada leve por 20-30 minutos\n",
            "\n",
            "Semana 3-4:\n",
            "- Dia 1: 4 séries de flexões de joelhos - 12 repetições\n",
            "- Dia 2: 4 séries de elevações de braços - 12 repetições\n",
            "- Dia 3: Descanso\n",
            "- Dia 4: Repetir o dia 1\n",
            "- Dia 5: Repetir o dia 2\n",
            "- Dia 6: Descanso\n",
            "- Dia 7: Caminhada leve por 30-45 minutos\n",
            "\n",
            "Semana 5-6:\n",
            "- Dia 1: 4 séries de flexões de joelhos - 15 repetições\n",
            "- Dia 2: 4 séries de elevações de braços com pesos moderados - 15 repetições\n",
            "- Dia 3: Descanso\n",
            "- Dia 4: Repetir o dia 1\n",
            "- Dia 5: Repetir o dia 2\n",
            "- Dia 6: Descanso\n",
            "- Dia 7: Caminhada leve por 45-60 minutos\n",
            "\n",
            "Semana 7-8:\n",
            "- Dia 1: 4 séries de flexões de joelhos - 15 repetições\n",
            "- Dia 2: 4 séries de elevações de braços com pesos mais pesados - 15 repetições\n",
            "- Dia 3: Descanso\n",
            "- Dia 4: Repetir o dia 1\n",
            "- Dia 5: Repetir o dia 2\n",
            "- Dia 6: Descanso\n",
            "- Dia 7: Caminhada leve por 60 minutos\n",
            "\n",
            "Lembre-se de sempre aquecer antes do treino e alongar após o treino. Monitore a intensidade do treino e ajuste conforme necessário. É importante ouvir o corpo e respeitar os limites da pessoa com deficiência nas pernas durante o treinamento. Em todos os casos, o acompanhamento de um profissional de saúde qualificado é fundamental.\n",
            "\n",
            "\n"
          ]
        }
      ]
    }
  ]
}
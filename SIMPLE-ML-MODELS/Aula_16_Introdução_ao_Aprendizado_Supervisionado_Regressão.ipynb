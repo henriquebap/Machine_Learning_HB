{
  "cells": [
    {
      "cell_type": "markdown",
      "id": "dc2dbf66",
      "metadata": {
        "id": "dc2dbf66"
      },
      "source": [
        "# Aula 18 - Introdução ao Aprendizado Supervisionado: Regressão\n",
        "\n",
        "Nesta aula vamos estudar o uso de algoritmos de **Aprendizado de Máquina Supervisionado**. Focaremos nos algoritmos utilizados para **regressão**, que é a tarefa de predizer valores de saída (dados numéricos) para conjuntos de dados de entrada (numéricos ou transformados em numéricos).\n",
        "\n",
        "Existem muitos algoritmos para se realizar essa tarefa, entre eles:\n",
        "- Regressão Linear\n",
        "- Redes Neurais\n",
        "- Árvores de Decisão\n",
        "- RandomForest\n",
        "- Support Vector Regression (SVR)\n",
        "\n",
        "Cada uma dessas técnicas tem uma forte base matemática e conceitual. Os algoritmos foram propostos ao longo de diversas décadas e possuem diferentes cenários de aplicações. Não teremos tempo de ver cada um deles a fundo, nem mesmo todos eles. Iremos nos focar nos procedimentos básicos para se utilizar esses algoritmos.\n",
        "\n",
        "--------------------------"
      ]
    },
    {
      "cell_type": "markdown",
      "id": "b8333f3a",
      "metadata": {
        "id": "b8333f3a"
      },
      "source": [
        "## Exemplo 1 - Preço de Casas\n",
        "\n",
        "Foram medidos os preços de casas vendidas entre Maio de 2014 e Maio de 2015 em Seattle. Foram anotados 21 atributos descritivos destas casas, como número de quartos e número de banheiros, entre outros.\n",
        "\n",
        "Os dados estão diponíveis em: https://www.openml.org/d/42731\n",
        "\n",
        "Será que é possível usar as características das casas para predizer qual deveria ser o seu valor de venda?"
      ]
    },
    {
      "cell_type": "markdown",
      "id": "6b64d03c",
      "metadata": {
        "id": "6b64d03c"
      },
      "source": [
        "### Exemplo 1 - Primeiro passo: carregar os dados"
      ]
    },
    {
      "cell_type": "code",
      "execution_count": 1,
      "id": "d0c90eb6",
      "metadata": {
        "id": "d0c90eb6"
      },
      "outputs": [],
      "source": [
        "# Para trabalhar com dados em tabelas\n",
        "import pandas as pd\n",
        "\n",
        "# Para trabalhar com dados do OpenML\n",
        "from sklearn.datasets import fetch_openml\n",
        "\n",
        "# Para trabalhar com gráficos\n",
        "import seaborn as sns\n",
        "import matplotlib.pyplot as plt"
      ]
    },
    {
      "cell_type": "code",
      "execution_count": 2,
      "id": "6fbef8e5",
      "metadata": {
        "id": "6fbef8e5",
        "outputId": "45181479-6af2-424b-c5e0-733922957ac8",
        "colab": {
          "base_uri": "https://localhost:8080/"
        }
      },
      "outputs": [
        {
          "output_type": "stream",
          "name": "stderr",
          "text": [
            "/usr/local/lib/python3.10/dist-packages/sklearn/datasets/_openml.py:968: FutureWarning: The default value of `parser` will change from `'liac-arff'` to `'auto'` in 1.4. You can set `parser='auto'` to silence this warning. Therefore, an `ImportError` will be raised from 1.4 if the dataset is dense and pandas is not installed. Note that the pandas parser may return different data types. See the Notes Section in fetch_openml's API doc for details.\n",
            "  warn(\n"
          ]
        }
      ],
      "source": [
        "dados = fetch_openml(data_id=42731)"
      ]
    },
    {
      "cell_type": "code",
      "execution_count": null,
      "id": "215182ab",
      "metadata": {
        "id": "215182ab"
      },
      "outputs": [],
      "source": [
        "dados"
      ]
    },
    {
      "cell_type": "code",
      "execution_count": 4,
      "id": "5d3c0970",
      "metadata": {
        "id": "5d3c0970"
      },
      "outputs": [],
      "source": [
        "df_casas = pd.DataFrame(data = dados.data, columns=dados.feature_names) # Transformando em dataframe"
      ]
    },
    {
      "cell_type": "code",
      "execution_count": 5,
      "id": "6c946ad2",
      "metadata": {
        "id": "6c946ad2"
      },
      "outputs": [],
      "source": [
        "df_casas['price'] = dados.target # Colocando a coluna de preços"
      ]
    },
    {
      "cell_type": "code",
      "execution_count": 6,
      "id": "99db2f93",
      "metadata": {
        "id": "99db2f93",
        "outputId": "ac25a714-39d6-4c17-893e-1d4b95e8f886",
        "colab": {
          "base_uri": "https://localhost:8080/",
          "height": 256
        }
      },
      "outputs": [
        {
          "output_type": "execute_result",
          "data": {
            "text/plain": [
              "   bedrooms  bathrooms  sqft_living  sqft_lot  floors  waterfront  view  \\\n",
              "0         3       1.00         1180      5650     1.0           0     0   \n",
              "1         3       2.25         2570      7242     2.0           0     0   \n",
              "2         2       1.00          770     10000     1.0           0     0   \n",
              "3         4       3.00         1960      5000     1.0           0     0   \n",
              "4         3       2.00         1680      8080     1.0           0     0   \n",
              "\n",
              "   condition  grade  sqft_above  ...  yr_renovated  zipcode      lat     long  \\\n",
              "0          3      7        1180  ...             0    98178  47.5112 -122.257   \n",
              "1          3      7        2170  ...          1991    98125  47.7210 -122.319   \n",
              "2          3      6         770  ...             0    98028  47.7379 -122.233   \n",
              "3          5      7        1050  ...             0    98136  47.5208 -122.393   \n",
              "4          3      8        1680  ...             0    98074  47.6168 -122.045   \n",
              "\n",
              "   sqft_living15  sqft_lot15  date_year  date_month  date_day     price  \n",
              "0           1340        5650       2014          10        13  221900.0  \n",
              "1           1690        7639       2014          12         9  538000.0  \n",
              "2           2720        8062       2015           2        25  180000.0  \n",
              "3           1360        5000       2014          12         9  604000.0  \n",
              "4           1800        7503       2015           2        18  510000.0  \n",
              "\n",
              "[5 rows x 22 columns]"
            ],
            "text/html": [
              "\n",
              "  <div id=\"df-dd16db2a-8369-45c4-945e-f370578cf8cb\" class=\"colab-df-container\">\n",
              "    <div>\n",
              "<style scoped>\n",
              "    .dataframe tbody tr th:only-of-type {\n",
              "        vertical-align: middle;\n",
              "    }\n",
              "\n",
              "    .dataframe tbody tr th {\n",
              "        vertical-align: top;\n",
              "    }\n",
              "\n",
              "    .dataframe thead th {\n",
              "        text-align: right;\n",
              "    }\n",
              "</style>\n",
              "<table border=\"1\" class=\"dataframe\">\n",
              "  <thead>\n",
              "    <tr style=\"text-align: right;\">\n",
              "      <th></th>\n",
              "      <th>bedrooms</th>\n",
              "      <th>bathrooms</th>\n",
              "      <th>sqft_living</th>\n",
              "      <th>sqft_lot</th>\n",
              "      <th>floors</th>\n",
              "      <th>waterfront</th>\n",
              "      <th>view</th>\n",
              "      <th>condition</th>\n",
              "      <th>grade</th>\n",
              "      <th>sqft_above</th>\n",
              "      <th>...</th>\n",
              "      <th>yr_renovated</th>\n",
              "      <th>zipcode</th>\n",
              "      <th>lat</th>\n",
              "      <th>long</th>\n",
              "      <th>sqft_living15</th>\n",
              "      <th>sqft_lot15</th>\n",
              "      <th>date_year</th>\n",
              "      <th>date_month</th>\n",
              "      <th>date_day</th>\n",
              "      <th>price</th>\n",
              "    </tr>\n",
              "  </thead>\n",
              "  <tbody>\n",
              "    <tr>\n",
              "      <th>0</th>\n",
              "      <td>3</td>\n",
              "      <td>1.00</td>\n",
              "      <td>1180</td>\n",
              "      <td>5650</td>\n",
              "      <td>1.0</td>\n",
              "      <td>0</td>\n",
              "      <td>0</td>\n",
              "      <td>3</td>\n",
              "      <td>7</td>\n",
              "      <td>1180</td>\n",
              "      <td>...</td>\n",
              "      <td>0</td>\n",
              "      <td>98178</td>\n",
              "      <td>47.5112</td>\n",
              "      <td>-122.257</td>\n",
              "      <td>1340</td>\n",
              "      <td>5650</td>\n",
              "      <td>2014</td>\n",
              "      <td>10</td>\n",
              "      <td>13</td>\n",
              "      <td>221900.0</td>\n",
              "    </tr>\n",
              "    <tr>\n",
              "      <th>1</th>\n",
              "      <td>3</td>\n",
              "      <td>2.25</td>\n",
              "      <td>2570</td>\n",
              "      <td>7242</td>\n",
              "      <td>2.0</td>\n",
              "      <td>0</td>\n",
              "      <td>0</td>\n",
              "      <td>3</td>\n",
              "      <td>7</td>\n",
              "      <td>2170</td>\n",
              "      <td>...</td>\n",
              "      <td>1991</td>\n",
              "      <td>98125</td>\n",
              "      <td>47.7210</td>\n",
              "      <td>-122.319</td>\n",
              "      <td>1690</td>\n",
              "      <td>7639</td>\n",
              "      <td>2014</td>\n",
              "      <td>12</td>\n",
              "      <td>9</td>\n",
              "      <td>538000.0</td>\n",
              "    </tr>\n",
              "    <tr>\n",
              "      <th>2</th>\n",
              "      <td>2</td>\n",
              "      <td>1.00</td>\n",
              "      <td>770</td>\n",
              "      <td>10000</td>\n",
              "      <td>1.0</td>\n",
              "      <td>0</td>\n",
              "      <td>0</td>\n",
              "      <td>3</td>\n",
              "      <td>6</td>\n",
              "      <td>770</td>\n",
              "      <td>...</td>\n",
              "      <td>0</td>\n",
              "      <td>98028</td>\n",
              "      <td>47.7379</td>\n",
              "      <td>-122.233</td>\n",
              "      <td>2720</td>\n",
              "      <td>8062</td>\n",
              "      <td>2015</td>\n",
              "      <td>2</td>\n",
              "      <td>25</td>\n",
              "      <td>180000.0</td>\n",
              "    </tr>\n",
              "    <tr>\n",
              "      <th>3</th>\n",
              "      <td>4</td>\n",
              "      <td>3.00</td>\n",
              "      <td>1960</td>\n",
              "      <td>5000</td>\n",
              "      <td>1.0</td>\n",
              "      <td>0</td>\n",
              "      <td>0</td>\n",
              "      <td>5</td>\n",
              "      <td>7</td>\n",
              "      <td>1050</td>\n",
              "      <td>...</td>\n",
              "      <td>0</td>\n",
              "      <td>98136</td>\n",
              "      <td>47.5208</td>\n",
              "      <td>-122.393</td>\n",
              "      <td>1360</td>\n",
              "      <td>5000</td>\n",
              "      <td>2014</td>\n",
              "      <td>12</td>\n",
              "      <td>9</td>\n",
              "      <td>604000.0</td>\n",
              "    </tr>\n",
              "    <tr>\n",
              "      <th>4</th>\n",
              "      <td>3</td>\n",
              "      <td>2.00</td>\n",
              "      <td>1680</td>\n",
              "      <td>8080</td>\n",
              "      <td>1.0</td>\n",
              "      <td>0</td>\n",
              "      <td>0</td>\n",
              "      <td>3</td>\n",
              "      <td>8</td>\n",
              "      <td>1680</td>\n",
              "      <td>...</td>\n",
              "      <td>0</td>\n",
              "      <td>98074</td>\n",
              "      <td>47.6168</td>\n",
              "      <td>-122.045</td>\n",
              "      <td>1800</td>\n",
              "      <td>7503</td>\n",
              "      <td>2015</td>\n",
              "      <td>2</td>\n",
              "      <td>18</td>\n",
              "      <td>510000.0</td>\n",
              "    </tr>\n",
              "  </tbody>\n",
              "</table>\n",
              "<p>5 rows × 22 columns</p>\n",
              "</div>\n",
              "    <div class=\"colab-df-buttons\">\n",
              "\n",
              "  <div class=\"colab-df-container\">\n",
              "    <button class=\"colab-df-convert\" onclick=\"convertToInteractive('df-dd16db2a-8369-45c4-945e-f370578cf8cb')\"\n",
              "            title=\"Convert this dataframe to an interactive table.\"\n",
              "            style=\"display:none;\">\n",
              "\n",
              "  <svg xmlns=\"http://www.w3.org/2000/svg\" height=\"24px\" viewBox=\"0 -960 960 960\">\n",
              "    <path d=\"M120-120v-720h720v720H120Zm60-500h600v-160H180v160Zm220 220h160v-160H400v160Zm0 220h160v-160H400v160ZM180-400h160v-160H180v160Zm440 0h160v-160H620v160ZM180-180h160v-160H180v160Zm440 0h160v-160H620v160Z\"/>\n",
              "  </svg>\n",
              "    </button>\n",
              "\n",
              "  <style>\n",
              "    .colab-df-container {\n",
              "      display:flex;\n",
              "      gap: 12px;\n",
              "    }\n",
              "\n",
              "    .colab-df-convert {\n",
              "      background-color: #E8F0FE;\n",
              "      border: none;\n",
              "      border-radius: 50%;\n",
              "      cursor: pointer;\n",
              "      display: none;\n",
              "      fill: #1967D2;\n",
              "      height: 32px;\n",
              "      padding: 0 0 0 0;\n",
              "      width: 32px;\n",
              "    }\n",
              "\n",
              "    .colab-df-convert:hover {\n",
              "      background-color: #E2EBFA;\n",
              "      box-shadow: 0px 1px 2px rgba(60, 64, 67, 0.3), 0px 1px 3px 1px rgba(60, 64, 67, 0.15);\n",
              "      fill: #174EA6;\n",
              "    }\n",
              "\n",
              "    .colab-df-buttons div {\n",
              "      margin-bottom: 4px;\n",
              "    }\n",
              "\n",
              "    [theme=dark] .colab-df-convert {\n",
              "      background-color: #3B4455;\n",
              "      fill: #D2E3FC;\n",
              "    }\n",
              "\n",
              "    [theme=dark] .colab-df-convert:hover {\n",
              "      background-color: #434B5C;\n",
              "      box-shadow: 0px 1px 3px 1px rgba(0, 0, 0, 0.15);\n",
              "      filter: drop-shadow(0px 1px 2px rgba(0, 0, 0, 0.3));\n",
              "      fill: #FFFFFF;\n",
              "    }\n",
              "  </style>\n",
              "\n",
              "    <script>\n",
              "      const buttonEl =\n",
              "        document.querySelector('#df-dd16db2a-8369-45c4-945e-f370578cf8cb button.colab-df-convert');\n",
              "      buttonEl.style.display =\n",
              "        google.colab.kernel.accessAllowed ? 'block' : 'none';\n",
              "\n",
              "      async function convertToInteractive(key) {\n",
              "        const element = document.querySelector('#df-dd16db2a-8369-45c4-945e-f370578cf8cb');\n",
              "        const dataTable =\n",
              "          await google.colab.kernel.invokeFunction('convertToInteractive',\n",
              "                                                    [key], {});\n",
              "        if (!dataTable) return;\n",
              "\n",
              "        const docLinkHtml = 'Like what you see? Visit the ' +\n",
              "          '<a target=\"_blank\" href=https://colab.research.google.com/notebooks/data_table.ipynb>data table notebook</a>'\n",
              "          + ' to learn more about interactive tables.';\n",
              "        element.innerHTML = '';\n",
              "        dataTable['output_type'] = 'display_data';\n",
              "        await google.colab.output.renderOutput(dataTable, element);\n",
              "        const docLink = document.createElement('div');\n",
              "        docLink.innerHTML = docLinkHtml;\n",
              "        element.appendChild(docLink);\n",
              "      }\n",
              "    </script>\n",
              "  </div>\n",
              "\n",
              "\n",
              "<div id=\"df-82233c79-fda3-4030-a24b-53f4d6ad12f3\">\n",
              "  <button class=\"colab-df-quickchart\" onclick=\"quickchart('df-82233c79-fda3-4030-a24b-53f4d6ad12f3')\"\n",
              "            title=\"Suggest charts.\"\n",
              "            style=\"display:none;\">\n",
              "\n",
              "<svg xmlns=\"http://www.w3.org/2000/svg\" height=\"24px\"viewBox=\"0 0 24 24\"\n",
              "     width=\"24px\">\n",
              "    <g>\n",
              "        <path d=\"M19 3H5c-1.1 0-2 .9-2 2v14c0 1.1.9 2 2 2h14c1.1 0 2-.9 2-2V5c0-1.1-.9-2-2-2zM9 17H7v-7h2v7zm4 0h-2V7h2v10zm4 0h-2v-4h2v4z\"/>\n",
              "    </g>\n",
              "</svg>\n",
              "  </button>\n",
              "\n",
              "<style>\n",
              "  .colab-df-quickchart {\n",
              "      --bg-color: #E8F0FE;\n",
              "      --fill-color: #1967D2;\n",
              "      --hover-bg-color: #E2EBFA;\n",
              "      --hover-fill-color: #174EA6;\n",
              "      --disabled-fill-color: #AAA;\n",
              "      --disabled-bg-color: #DDD;\n",
              "  }\n",
              "\n",
              "  [theme=dark] .colab-df-quickchart {\n",
              "      --bg-color: #3B4455;\n",
              "      --fill-color: #D2E3FC;\n",
              "      --hover-bg-color: #434B5C;\n",
              "      --hover-fill-color: #FFFFFF;\n",
              "      --disabled-bg-color: #3B4455;\n",
              "      --disabled-fill-color: #666;\n",
              "  }\n",
              "\n",
              "  .colab-df-quickchart {\n",
              "    background-color: var(--bg-color);\n",
              "    border: none;\n",
              "    border-radius: 50%;\n",
              "    cursor: pointer;\n",
              "    display: none;\n",
              "    fill: var(--fill-color);\n",
              "    height: 32px;\n",
              "    padding: 0;\n",
              "    width: 32px;\n",
              "  }\n",
              "\n",
              "  .colab-df-quickchart:hover {\n",
              "    background-color: var(--hover-bg-color);\n",
              "    box-shadow: 0 1px 2px rgba(60, 64, 67, 0.3), 0 1px 3px 1px rgba(60, 64, 67, 0.15);\n",
              "    fill: var(--button-hover-fill-color);\n",
              "  }\n",
              "\n",
              "  .colab-df-quickchart-complete:disabled,\n",
              "  .colab-df-quickchart-complete:disabled:hover {\n",
              "    background-color: var(--disabled-bg-color);\n",
              "    fill: var(--disabled-fill-color);\n",
              "    box-shadow: none;\n",
              "  }\n",
              "\n",
              "  .colab-df-spinner {\n",
              "    border: 2px solid var(--fill-color);\n",
              "    border-color: transparent;\n",
              "    border-bottom-color: var(--fill-color);\n",
              "    animation:\n",
              "      spin 1s steps(1) infinite;\n",
              "  }\n",
              "\n",
              "  @keyframes spin {\n",
              "    0% {\n",
              "      border-color: transparent;\n",
              "      border-bottom-color: var(--fill-color);\n",
              "      border-left-color: var(--fill-color);\n",
              "    }\n",
              "    20% {\n",
              "      border-color: transparent;\n",
              "      border-left-color: var(--fill-color);\n",
              "      border-top-color: var(--fill-color);\n",
              "    }\n",
              "    30% {\n",
              "      border-color: transparent;\n",
              "      border-left-color: var(--fill-color);\n",
              "      border-top-color: var(--fill-color);\n",
              "      border-right-color: var(--fill-color);\n",
              "    }\n",
              "    40% {\n",
              "      border-color: transparent;\n",
              "      border-right-color: var(--fill-color);\n",
              "      border-top-color: var(--fill-color);\n",
              "    }\n",
              "    60% {\n",
              "      border-color: transparent;\n",
              "      border-right-color: var(--fill-color);\n",
              "    }\n",
              "    80% {\n",
              "      border-color: transparent;\n",
              "      border-right-color: var(--fill-color);\n",
              "      border-bottom-color: var(--fill-color);\n",
              "    }\n",
              "    90% {\n",
              "      border-color: transparent;\n",
              "      border-bottom-color: var(--fill-color);\n",
              "    }\n",
              "  }\n",
              "</style>\n",
              "\n",
              "  <script>\n",
              "    async function quickchart(key) {\n",
              "      const quickchartButtonEl =\n",
              "        document.querySelector('#' + key + ' button');\n",
              "      quickchartButtonEl.disabled = true;  // To prevent multiple clicks.\n",
              "      quickchartButtonEl.classList.add('colab-df-spinner');\n",
              "      try {\n",
              "        const charts = await google.colab.kernel.invokeFunction(\n",
              "            'suggestCharts', [key], {});\n",
              "      } catch (error) {\n",
              "        console.error('Error during call to suggestCharts:', error);\n",
              "      }\n",
              "      quickchartButtonEl.classList.remove('colab-df-spinner');\n",
              "      quickchartButtonEl.classList.add('colab-df-quickchart-complete');\n",
              "    }\n",
              "    (() => {\n",
              "      let quickchartButtonEl =\n",
              "        document.querySelector('#df-82233c79-fda3-4030-a24b-53f4d6ad12f3 button');\n",
              "      quickchartButtonEl.style.display =\n",
              "        google.colab.kernel.accessAllowed ? 'block' : 'none';\n",
              "    })();\n",
              "  </script>\n",
              "</div>\n",
              "    </div>\n",
              "  </div>\n"
            ]
          },
          "metadata": {},
          "execution_count": 6
        }
      ],
      "source": [
        "df_casas.head()"
      ]
    },
    {
      "cell_type": "code",
      "execution_count": null,
      "id": "c8687862",
      "metadata": {
        "id": "c8687862"
      },
      "outputs": [],
      "source": [
        "df_casas.info() # Observe que não temos nenhum dado faltando para as colunas de informação"
      ]
    },
    {
      "cell_type": "code",
      "execution_count": 8,
      "id": "c32cc6c8",
      "metadata": {
        "id": "c32cc6c8",
        "outputId": "2c947d9c-4ddd-4e71-fe8f-6816691e6350",
        "colab": {
          "base_uri": "https://localhost:8080/",
          "height": 596
        }
      },
      "outputs": [
        {
          "output_type": "stream",
          "name": "stderr",
          "text": [
            "<ipython-input-8-8611df63efe8>:1: FutureWarning: The default value of numeric_only in DataFrame.corr is deprecated. In a future version, it will default to False. Select only valid columns or specify the value of numeric_only to silence this warning.\n",
            "  sns.heatmap(df_casas.corr())\n"
          ]
        },
        {
          "output_type": "execute_result",
          "data": {
            "text/plain": [
              "<Axes: >"
            ]
          },
          "metadata": {},
          "execution_count": 8
        },
        {
          "output_type": "display_data",
          "data": {
            "text/plain": [
              "<Figure size 640x480 with 2 Axes>"
            ],
            "image/png": "[encoded data removed]"
          },
          "metadata": {}
        }
      ],
      "source": [
        "sns.heatmap(df_casas.corr())"
      ]
    },
    {
      "cell_type": "markdown",
      "id": "9e611aeb",
      "metadata": {
        "id": "9e611aeb"
      },
      "source": [
        "### Exemplo 1 - Segundo passo: separar os dados\n",
        "\n",
        "Precisamos ter claro em nossas mentes quais são os atributos (colunas) preditivas, isto é, aquelas que usaremos para predizer um atributo alvo (coluna alvo).\n",
        "\n",
        "Quando se trabalhar com Aprendizado de Máquina Supervisionado, além disso precisamos separar nossos dados em dois conjuntos: um **conjunto de treinamento** e um **conjunto de teste**. Fazemos isso para evitar overfitting do algoritmo.\n",
        "\n",
        "Existem várias estratégias para se separar dados. Vamos aplicar as principais:\n",
        "\n",
        "(a) Escolher o tamanho dos conjuntos - 80% para treinamento e 20% para teste;\n",
        "\n",
        "(b) Selecionar aleatoriamente os dados que irão compor o conjunto de treinamento e teste (usando um seed para garantir reprodutibilidade);"
      ]
    },
    {
      "cell_type": "code",
      "execution_count": 9,
      "id": "c88cd724",
      "metadata": {
        "id": "c88cd724"
      },
      "outputs": [],
      "source": [
        "from sklearn.model_selection import train_test_split"
      ]
    },
    {
      "cell_type": "code",
      "execution_count": 10,
      "id": "6d3c6319",
      "metadata": {
        "id": "6d3c6319",
        "outputId": "e0d94a2c-2b84-43b8-b87a-705204e96bd8",
        "colab": {
          "base_uri": "https://localhost:8080/"
        }
      },
      "outputs": [
        {
          "output_type": "execute_result",
          "data": {
            "text/plain": [
              "21613"
            ]
          },
          "metadata": {},
          "execution_count": 10
        }
      ],
      "source": [
        "len(df_casas)"
      ]
    },
    {
      "cell_type": "code",
      "execution_count": 11,
      "id": "c3322005",
      "metadata": {
        "id": "c3322005"
      },
      "outputs": [],
      "source": [
        "# Escolhendo as colunas preditivas e alvo\n",
        "x = df_casas.drop(columns=['zipcode', 'price', 'date_year', 'date_month', 'date_day'])\n",
        "y = df_casas['price']\n",
        "\n",
        "# Dividindo conjunto de treinamento e conjunto de teste\n",
        "x_train, x_test, y_train, y_test = train_test_split(x, y, test_size = 0.2, random_state = 42)"
      ]
    },
    {
      "cell_type": "code",
      "execution_count": 12,
      "id": "33796151",
      "metadata": {
        "id": "33796151",
        "outputId": "765c7c35-3b61-44cc-8ad8-06689f43fd5a",
        "colab": {
          "base_uri": "https://localhost:8080/"
        }
      },
      "outputs": [
        {
          "output_type": "execute_result",
          "data": {
            "text/plain": [
              "(17290, 4323, 17290, 4323)"
            ]
          },
          "metadata": {},
          "execution_count": 12
        }
      ],
      "source": [
        "len(x_train), len(x_test), len(y_train), len(y_test)"
      ]
    },
    {
      "cell_type": "markdown",
      "id": "a79c831e",
      "metadata": {
        "id": "a79c831e"
      },
      "source": [
        "### Exemplo 1 - Terceiro passo: escalonar os dados"
      ]
    },
    {
      "cell_type": "code",
      "execution_count": null,
      "id": "61121aec",
      "metadata": {
        "id": "61121aec"
      },
      "outputs": [],
      "source": [
        "# vamos pular essa etapa"
      ]
    },
    {
      "cell_type": "markdown",
      "id": "75bcf368",
      "metadata": {
        "id": "75bcf368"
      },
      "source": [
        "### Exemplo 1 - Quarto passo: treinar o algoritmo\n",
        "\n",
        "Vamos usar o conjunto de treinamento para treinar o algoritmo escolhido.\n",
        "\n",
        "Existem vários algoritmos possíveis. Cada algoritmo tem seus **hiperparâmetros** (parâmetros que devem ser escolhidos para melhorar a performance do algoritmo). Para entender os hiperparâmetros de cada algoritmo é necessário entender a fundo como aquele algoritmo funciona.\n",
        "\n",
        "Aqui vamos usar um dos algoritmos mais simples existentes, a Regressão Linear:"
      ]
    },
    {
      "cell_type": "code",
      "execution_count": 13,
      "id": "02551906",
      "metadata": {
        "id": "02551906"
      },
      "outputs": [],
      "source": [
        "from sklearn.linear_model import LinearRegression"
      ]
    },
    {
      "cell_type": "code",
      "execution_count": 14,
      "id": "85865492",
      "metadata": {
        "id": "85865492",
        "outputId": "014983b2-3c81-4bd1-d363-34737f4ae266",
        "colab": {
          "base_uri": "https://localhost:8080/",
          "height": 52
        }
      },
      "outputs": [
        {
          "output_type": "execute_result",
          "data": {
            "text/plain": [
              "LinearRegression()"
            ],
            "text/html": [
              "<style>#sk-container-id-1 {color: black;background-color: white;}#sk-container-id-1 pre{padding: 0;}#sk-container-id-1 div.sk-toggleable {background-color: white;}#sk-container-id-1 label.sk-toggleable__label {cursor: pointer;display: block;width: 100%;margin-bottom: 0;padding: 0.3em;box-sizing: border-box;text-align: center;}#sk-container-id-1 label.sk-toggleable__label-arrow:before {content: \"▸\";float: left;margin-right: 0.25em;color: #696969;}#sk-container-id-1 label.sk-toggleable__label-arrow:hover:before {color: black;}#sk-container-id-1 div.sk-estimator:hover label.sk-toggleable__label-arrow:before {color: black;}#sk-container-id-1 div.sk-toggleable__content {max-height: 0;max-width: 0;overflow: hidden;text-align: left;background-color: #f0f8ff;}#sk-container-id-1 div.sk-toggleable__content pre {margin: 0.2em;color: black;border-radius: 0.25em;background-color: #f0f8ff;}#sk-container-id-1 input.sk-toggleable__control:checked~div.sk-toggleable__content {max-height: 200px;max-width: 100%;overflow: auto;}#sk-container-id-1 input.sk-toggleable__control:checked~label.sk-toggleable__label-arrow:before {content: \"▾\";}#sk-container-id-1 div.sk-estimator input.sk-toggleable__control:checked~label.sk-toggleable__label {background-color: #d4ebff;}#sk-container-id-1 div.sk-label input.sk-toggleable__control:checked~label.sk-toggleable__label {background-color: #d4ebff;}#sk-container-id-1 input.sk-hidden--visually {border: 0;clip: rect(1px 1px 1px 1px);clip: rect(1px, 1px, 1px, 1px);height: 1px;margin: -1px;overflow: hidden;padding: 0;position: absolute;width: 1px;}#sk-container-id-1 div.sk-estimator {font-family: monospace;background-color: #f0f8ff;border: 1px dotted black;border-radius: 0.25em;box-sizing: border-box;margin-bottom: 0.5em;}#sk-container-id-1 div.sk-estimator:hover {background-color: #d4ebff;}#sk-container-id-1 div.sk-parallel-item::after {content: \"\";width: 100%;border-bottom: 1px solid gray;flex-grow: 1;}#sk-container-id-1 div.sk-label:hover label.sk-toggleable__label {background-color: #d4ebff;}#sk-container-id-1 div.sk-serial::before {content: \"\";position: absolute;border-left: 1px solid gray;box-sizing: border-box;top: 0;bottom: 0;left: 50%;z-index: 0;}#sk-container-id-1 div.sk-serial {display: flex;flex-direction: column;align-items: center;background-color: white;padding-right: 0.2em;padding-left: 0.2em;position: relative;}#sk-container-id-1 div.sk-item {position: relative;z-index: 1;}#sk-container-id-1 div.sk-parallel {display: flex;align-items: stretch;justify-content: center;background-color: white;position: relative;}#sk-container-id-1 div.sk-item::before, #sk-container-id-1 div.sk-parallel-item::before {content: \"\";position: absolute;border-left: 1px solid gray;box-sizing: border-box;top: 0;bottom: 0;left: 50%;z-index: -1;}#sk-container-id-1 div.sk-parallel-item {display: flex;flex-direction: column;z-index: 1;position: relative;background-color: white;}#sk-container-id-1 div.sk-parallel-item:first-child::after {align-self: flex-end;width: 50%;}#sk-container-id-1 div.sk-parallel-item:last-child::after {align-self: flex-start;width: 50%;}#sk-container-id-1 div.sk-parallel-item:only-child::after {width: 0;}#sk-container-id-1 div.sk-dashed-wrapped {border: 1px dashed gray;margin: 0 0.4em 0.5em 0.4em;box-sizing: border-box;padding-bottom: 0.4em;background-color: white;}#sk-container-id-1 div.sk-label label {font-family: monospace;font-weight: bold;display: inline-block;line-height: 1.2em;}#sk-container-id-1 div.sk-label-container {text-align: center;}#sk-container-id-1 div.sk-container {/* jupyter's `normalize.less` sets `[hidden] { display: none; }` but bootstrap.min.css set `[hidden] { display: none !important; }` so we also need the `!important` here to be able to override the default hidden behavior on the sphinx rendered scikit-learn.org. See: https://github.com/scikit-learn/scikit-learn/issues/21755 */display: inline-block !important;position: relative;}#sk-container-id-1 div.sk-text-repr-fallback {display: none;}</style><div id=\"sk-container-id-1\" class=\"sk-top-container\"><div class=\"sk-text-repr-fallback\"><pre>LinearRegression()</pre><b>In a Jupyter environment, please rerun this cell to show the HTML representation or trust the notebook. <br />On GitHub, the HTML representation is unable to render, please try loading this page with nbviewer.org.</b></div><div class=\"sk-container\" hidden><div class=\"sk-item\"><div class=\"sk-estimator sk-toggleable\"><input class=\"sk-toggleable__control sk-hidden--visually\" id=\"sk-estimator-id-1\" type=\"checkbox\" checked><label for=\"sk-estimator-id-1\" class=\"sk-toggleable__label sk-toggleable__label-arrow\">LinearRegression</label><div class=\"sk-toggleable__content\"><pre>LinearRegression()</pre></div></div></div></div></div>"
            ]
          },
          "metadata": {},
          "execution_count": 14
        }
      ],
      "source": [
        "lr = LinearRegression()  # Criamos o objeto do regressor (não mudamos nenhum hiperpârametro)\n",
        "\n",
        "lr.fit(x_train,y_train) # Treinamos o regressor passando apenas o conjunto de dados de treinamento"
      ]
    },
    {
      "cell_type": "markdown",
      "id": "f5ccd0f3",
      "metadata": {
        "id": "f5ccd0f3"
      },
      "source": [
        "### Exemplo 1 - Quinto passo: testar e avaliar\n",
        "\n",
        "Usando agora o conjunto de teste, iremos testar o classificador criado e treinando no passo anterior.\n",
        "\n",
        "Uma vez que realizamos um teste, precisamos avaliar o desempenho do nosso método. Diferentes hiperparâmetros e diferentes algoritmos podem ter um desempenho diferente. Apesar de sempre buscarmos o melhor desempenho, devemos levar em consideração outros aspectos para decidir o que é um desempenho aceitável. A primeira coisa a definir são as métricas de desempenho que podem ser comparadas entre diferentes algoritmos.\n",
        "\n",
        "Existem várias métricas para se medir o desempenho de um regressor: métricas de performance, métricas de tempo consumido, métricas de memória consumida, etc. Vamos calcular algumas delas:\n",
        "- MAE\n",
        "- MSE\n",
        "- Correlação de Pearson\n",
        "- $R^2$"
      ]
    },
    {
      "cell_type": "code",
      "execution_count": 15,
      "id": "f0b92681",
      "metadata": {
        "id": "f0b92681"
      },
      "outputs": [],
      "source": [
        "from sklearn.metrics import mean_squared_error, mean_absolute_error, r2_score\n",
        "from scipy.stats import pearsonr"
      ]
    },
    {
      "cell_type": "code",
      "execution_count": 16,
      "id": "c57468d9",
      "metadata": {
        "id": "c57468d9"
      },
      "outputs": [],
      "source": [
        "# Perceba que estamos passando apenas o x de teste, afinal o algoritmo é que nos dira qual é o y\n",
        "y_predicoes = lr.predict(x_test)"
      ]
    },
    {
      "cell_type": "code",
      "execution_count": 17,
      "id": "95bd0531",
      "metadata": {
        "id": "95bd0531",
        "outputId": "66bb2d5f-f108-4d28-f99e-d186bc3f5ea5",
        "colab": {
          "base_uri": "https://localhost:8080/"
        }
      },
      "outputs": [
        {
          "output_type": "stream",
          "name": "stdout",
          "text": [
            "MAE:  128157.32046186464\n"
          ]
        }
      ],
      "source": [
        "MAE = mean_absolute_error(y_true = y_test,      # Gabarito\n",
        "                          y_pred = y_predicoes) # Respostas do algoritmo ao teste realizado\n",
        "print('MAE: ', MAE)"
      ]
    },
    {
      "cell_type": "code",
      "execution_count": 18,
      "id": "3c1ce357",
      "metadata": {
        "id": "3c1ce357",
        "outputId": "de3c6dd6-4a79-44e8-fe29-ed93b8129eff",
        "colab": {
          "base_uri": "https://localhost:8080/"
        }
      },
      "outputs": [
        {
          "output_type": "stream",
          "name": "stdout",
          "text": [
            "MSE:  45998562877.06358\n",
            "raiz MSE:  214472.7555589837\n"
          ]
        }
      ],
      "source": [
        "MSE = mean_squared_error(y_true = y_test,      # Gabarito\n",
        "                         y_pred = y_predicoes) # Respostas do algoritmo ao teste realizado\n",
        "print('MSE: ', MSE)\n",
        "print('raiz MSE: ', MSE**0.5)"
      ]
    },
    {
      "cell_type": "markdown",
      "id": "4cf808df",
      "metadata": {
        "id": "4cf808df"
      },
      "source": [
        "A **MAE** e a **MSE** são formas bem simples de avaliar o erro. O problema é como saber se um determinado valor de MAE ou MSE é muito grande? Intuitivamente sabemos que quanto maior esse valor, pior. Entretanto, o valor calculado se refere a escala dos dados, e por isso, pode ser de dificil avaliação. Em geral, devemos comparar duas MAEs ou duas MSEs para dois modelos de regressão diferentes, usando os mesmos dados. Aqueles que tiverem uma MAE ou MSE menores, serão, portanto, melhores.\n",
        "\n",
        "Neste exemplo, uma MAE de 128157 significa que em média, estamos errando o preço de casa em $128 mil para mais ou para menos.\n",
        "\n",
        "\n",
        "A escala **R²**, por outro lado, não tem esse problema de comparação. Esse valor já está em uma escala, de forma que sabemos que quanto mais próximo de 1, melhor! Mas atenção, dificilmente um modelo terá R²=1. Então se você obter isso, provavelmente seu modelo está sofrendo de overfitting (ele é muito bom para seus dados, mas não será tão bom para novas entradas). Sempre que você obtiver um valor de R²=1, verifique se não cometeu nenhum erro nos passos anteriores."
      ]
    },
    {
      "cell_type": "code",
      "execution_count": 19,
      "id": "0c6293d8",
      "metadata": {
        "id": "0c6293d8",
        "outputId": "d5cb2505-75c8-4b29-e48b-d2843c496168",
        "colab": {
          "base_uri": "https://localhost:8080/"
        }
      },
      "outputs": [
        {
          "output_type": "stream",
          "name": "stdout",
          "text": [
            "R2:  0.6957298370207325\n"
          ]
        }
      ],
      "source": [
        "R2 = r2_score(y_true = y_test,      # Gabarito\n",
        "              y_pred = y_predicoes) # Respostas do algoritmo ao teste realizado\n",
        "print('R2: ', R2)  # Quanto mais próximos de 1 melhor"
      ]
    },
    {
      "cell_type": "markdown",
      "id": "98bf32c8",
      "metadata": {
        "id": "98bf32c8"
      },
      "source": [
        "O **coeficiente de correlação de Pearson $\\rho$** também é mais fácil de interpretar o resultado já que eles está em uma escala de -1 a 1. Quando estamos avaliando o desempenho do modelo, queremos $\\rho=1$."
      ]
    },
    {
      "cell_type": "code",
      "execution_count": 20,
      "id": "31ba5148",
      "metadata": {
        "id": "31ba5148",
        "outputId": "650c95b6-5b65-470e-e9c4-dce2c22ad1d5",
        "colab": {
          "base_uri": "https://localhost:8080/"
        }
      },
      "outputs": [
        {
          "output_type": "stream",
          "name": "stdout",
          "text": [
            "ρ: 0.8343415181688476\n"
          ]
        }
      ],
      "source": [
        "rho = pearsonr(y_test, y_predicoes)\n",
        "print('\\u03C1:', rho[0]) # Quanto mais próximo de 1, melhor (OBS: apneas neste caso de utilização)"
      ]
    },
    {
      "cell_type": "markdown",
      "id": "9d290d10",
      "metadata": {
        "id": "9d290d10"
      },
      "source": [
        "### Exemplo 1 - O modelo obtido\n",
        "\n",
        "Nos modelos de Regressão Linear, temos uma função linear de múltiplos coeficientes. Essa função é exatamente o modelo encontrado pelo algoritmo. Para obter os coeficientes, basta fazer:"
      ]
    },
    {
      "cell_type": "code",
      "execution_count": 21,
      "id": "56a7589f",
      "metadata": {
        "id": "56a7589f"
      },
      "outputs": [],
      "source": [
        "a_modelo = lr.coef_      # Coeficientes angulares do modelo (cada um mede a influência de cada coluna)\n",
        "b_modelo = lr.intercept_ # Coeficiente linear do model"
      ]
    },
    {
      "cell_type": "code",
      "execution_count": 22,
      "id": "3382896b",
      "metadata": {
        "id": "3382896b",
        "outputId": "145c20fc-a852-4d2a-f1e8-cf4990c9c859",
        "colab": {
          "base_uri": "https://localhost:8080/"
        }
      },
      "outputs": [
        {
          "output_type": "stream",
          "name": "stdout",
          "text": [
            "[-3.28089883e+04  4.55327150e+04  1.07507563e+02  8.46757999e-02\n",
            "  1.47880164e+03  5.68137383e+05  5.04991846e+04  2.87862784e+04\n",
            "  9.57023626e+04  7.00561447e+01  3.74514182e+01 -2.53197387e+03\n",
            "  2.20667659e+01  5.56748027e+05 -1.01603032e+05  2.66806211e+01\n",
            " -3.30561089e-01] -34612911.36473657\n"
          ]
        }
      ],
      "source": [
        "print(a_modelo, b_modelo)"
      ]
    },
    {
      "cell_type": "markdown",
      "id": "f022a460",
      "metadata": {
        "id": "f022a460"
      },
      "source": [
        "Durante a etapa de treinamento, métricas de desempenho também são calculadas com o objetivo de se minimizar o erro. Perceba que o R² de treinamento e de teste são diferentes, o que é esperado e desejado. Podemos obter o R² de treinamento, fazendo:"
      ]
    },
    {
      "cell_type": "code",
      "execution_count": 23,
      "id": "cab05ef4",
      "metadata": {
        "id": "cab05ef4",
        "outputId": "90090621-1188-465e-bf19-4fc15cf8b4f7",
        "colab": {
          "base_uri": "https://localhost:8080/"
        }
      },
      "outputs": [
        {
          "output_type": "stream",
          "name": "stdout",
          "text": [
            "0.6951038946870624\n"
          ]
        }
      ],
      "source": [
        "R2_treinamento = lr.score(x_train, y_train)\n",
        "print(R2_treinamento)"
      ]
    },
    {
      "cell_type": "markdown",
      "id": "29859bc5",
      "metadata": {
        "id": "29859bc5"
      },
      "source": [
        "Se o R² de treinamento der muito próximo e 1 e o R² de teste der muito abaixo (0.7, por exemplo), então o modelo está com overfitting."
      ]
    },
    {
      "cell_type": "code",
      "execution_count": 24,
      "id": "a1802396",
      "metadata": {
        "id": "a1802396"
      },
      "outputs": [],
      "source": [
        "y_pred_linear = y_predicoes # Salvando as informações do Modelo Reg Linear para comparar depois"
      ]
    },
    {
      "cell_type": "markdown",
      "id": "b83abc10",
      "metadata": {
        "id": "b83abc10"
      },
      "source": [
        "### Voltando no passo 4 e trocando o algoritmo para uma Rede Neural Perceptron Multicamada\n",
        "\n",
        "Redes Neurais Artificiais como o MLP (Multilayer Perceptron) podem ser altamente sensiveis a escala dos dados (assim como as SVM e o KNN).\n",
        "\n",
        "Vamos primeiro realizar o passo 3 de transformação dos dados:"
      ]
    },
    {
      "cell_type": "code",
      "execution_count": 25,
      "id": "502b7cac",
      "metadata": {
        "id": "502b7cac"
      },
      "outputs": [],
      "source": [
        "from sklearn.preprocessing import StandardScaler # Importando o Escalonador de Normalização"
      ]
    },
    {
      "cell_type": "code",
      "execution_count": 26,
      "id": "07c93bef",
      "metadata": {
        "id": "07c93bef"
      },
      "outputs": [],
      "source": [
        "# 3 - Escalonamento\n",
        "scaler = StandardScaler() # Criando o objeto de escalonamento\n",
        "scaler.fit(x_train) # Passando os dados de treinamento para encontrar a escala\n",
        "\n",
        "x_train_escalonado = scaler.transform(x_train)\n",
        "x_test_escalonado = scaler.transform(x_test)"
      ]
    },
    {
      "cell_type": "markdown",
      "id": "9378589e",
      "metadata": {
        "id": "9378589e"
      },
      "source": [
        "Agora vamos criar a rede neural e treinar ela:"
      ]
    },
    {
      "cell_type": "code",
      "execution_count": 27,
      "id": "5b057209",
      "metadata": {
        "id": "5b057209"
      },
      "outputs": [],
      "source": [
        "from sklearn.neural_network import MLPRegressor # Importando a Rede Neural MLP para Regressão"
      ]
    },
    {
      "cell_type": "code",
      "execution_count": 28,
      "id": "4bd74ef6",
      "metadata": {
        "id": "4bd74ef6",
        "outputId": "7f647bc9-eecc-4e6a-fab0-74c6dc07e427",
        "colab": {
          "base_uri": "https://localhost:8080/",
          "height": 216
        }
      },
      "outputs": [
        {
          "output_type": "stream",
          "name": "stderr",
          "text": [
            "/usr/local/lib/python3.10/dist-packages/sklearn/neural_network/_multilayer_perceptron.py:541: ConvergenceWarning: lbfgs failed to converge (status=1):\n",
            "STOP: TOTAL NO. of ITERATIONS REACHED LIMIT.\n",
            "\n",
            "Increase the number of iterations (max_iter) or scale the data as shown in:\n",
            "    https://scikit-learn.org/stable/modules/preprocessing.html\n",
            "  self.n_iter_ = _check_optimize_result(\"lbfgs\", opt_res, self.max_iter)\n"
          ]
        },
        {
          "output_type": "execute_result",
          "data": {
            "text/plain": [
              "MLPRegressor(hidden_layer_sizes=(10, 4), max_iter=1500, random_state=42,\n",
              "             solver='lbfgs', tol=1e-05)"
            ],
            "text/html": [
              "<style>#sk-container-id-2 {color: black;background-color: white;}#sk-container-id-2 pre{padding: 0;}#sk-container-id-2 div.sk-toggleable {background-color: white;}#sk-container-id-2 label.sk-toggleable__label {cursor: pointer;display: block;width: 100%;margin-bottom: 0;padding: 0.3em;box-sizing: border-box;text-align: center;}#sk-container-id-2 label.sk-toggleable__label-arrow:before {content: \"▸\";float: left;margin-right: 0.25em;color: #696969;}#sk-container-id-2 label.sk-toggleable__label-arrow:hover:before {color: black;}#sk-container-id-2 div.sk-estimator:hover label.sk-toggleable__label-arrow:before {color: black;}#sk-container-id-2 div.sk-toggleable__content {max-height: 0;max-width: 0;overflow: hidden;text-align: left;background-color: #f0f8ff;}#sk-container-id-2 div.sk-toggleable__content pre {margin: 0.2em;color: black;border-radius: 0.25em;background-color: #f0f8ff;}#sk-container-id-2 input.sk-toggleable__control:checked~div.sk-toggleable__content {max-height: 200px;max-width: 100%;overflow: auto;}#sk-container-id-2 input.sk-toggleable__control:checked~label.sk-toggleable__label-arrow:before {content: \"▾\";}#sk-container-id-2 div.sk-estimator input.sk-toggleable__control:checked~label.sk-toggleable__label {background-color: #d4ebff;}#sk-container-id-2 div.sk-label input.sk-toggleable__control:checked~label.sk-toggleable__label {background-color: #d4ebff;}#sk-container-id-2 input.sk-hidden--visually {border: 0;clip: rect(1px 1px 1px 1px);clip: rect(1px, 1px, 1px, 1px);height: 1px;margin: -1px;overflow: hidden;padding: 0;position: absolute;width: 1px;}#sk-container-id-2 div.sk-estimator {font-family: monospace;background-color: #f0f8ff;border: 1px dotted black;border-radius: 0.25em;box-sizing: border-box;margin-bottom: 0.5em;}#sk-container-id-2 div.sk-estimator:hover {background-color: #d4ebff;}#sk-container-id-2 div.sk-parallel-item::after {content: \"\";width: 100%;border-bottom: 1px solid gray;flex-grow: 1;}#sk-container-id-2 div.sk-label:hover label.sk-toggleable__label {background-color: #d4ebff;}#sk-container-id-2 div.sk-serial::before {content: \"\";position: absolute;border-left: 1px solid gray;box-sizing: border-box;top: 0;bottom: 0;left: 50%;z-index: 0;}#sk-container-id-2 div.sk-serial {display: flex;flex-direction: column;align-items: center;background-color: white;padding-right: 0.2em;padding-left: 0.2em;position: relative;}#sk-container-id-2 div.sk-item {position: relative;z-index: 1;}#sk-container-id-2 div.sk-parallel {display: flex;align-items: stretch;justify-content: center;background-color: white;position: relative;}#sk-container-id-2 div.sk-item::before, #sk-container-id-2 div.sk-parallel-item::before {content: \"\";position: absolute;border-left: 1px solid gray;box-sizing: border-box;top: 0;bottom: 0;left: 50%;z-index: -1;}#sk-container-id-2 div.sk-parallel-item {display: flex;flex-direction: column;z-index: 1;position: relative;background-color: white;}#sk-container-id-2 div.sk-parallel-item:first-child::after {align-self: flex-end;width: 50%;}#sk-container-id-2 div.sk-parallel-item:last-child::after {align-self: flex-start;width: 50%;}#sk-container-id-2 div.sk-parallel-item:only-child::after {width: 0;}#sk-container-id-2 div.sk-dashed-wrapped {border: 1px dashed gray;margin: 0 0.4em 0.5em 0.4em;box-sizing: border-box;padding-bottom: 0.4em;background-color: white;}#sk-container-id-2 div.sk-label label {font-family: monospace;font-weight: bold;display: inline-block;line-height: 1.2em;}#sk-container-id-2 div.sk-label-container {text-align: center;}#sk-container-id-2 div.sk-container {/* jupyter's `normalize.less` sets `[hidden] { display: none; }` but bootstrap.min.css set `[hidden] { display: none !important; }` so we also need the `!important` here to be able to override the default hidden behavior on the sphinx rendered scikit-learn.org. See: https://github.com/scikit-learn/scikit-learn/issues/21755 */display: inline-block !important;position: relative;}#sk-container-id-2 div.sk-text-repr-fallback {display: none;}</style><div id=\"sk-container-id-2\" class=\"sk-top-container\"><div class=\"sk-text-repr-fallback\"><pre>MLPRegressor(hidden_layer_sizes=(10, 4), max_iter=1500, random_state=42,\n",
              "             solver=&#x27;lbfgs&#x27;, tol=1e-05)</pre><b>In a Jupyter environment, please rerun this cell to show the HTML representation or trust the notebook. <br />On GitHub, the HTML representation is unable to render, please try loading this page with nbviewer.org.</b></div><div class=\"sk-container\" hidden><div class=\"sk-item\"><div class=\"sk-estimator sk-toggleable\"><input class=\"sk-toggleable__control sk-hidden--visually\" id=\"sk-estimator-id-2\" type=\"checkbox\" checked><label for=\"sk-estimator-id-2\" class=\"sk-toggleable__label sk-toggleable__label-arrow\">MLPRegressor</label><div class=\"sk-toggleable__content\"><pre>MLPRegressor(hidden_layer_sizes=(10, 4), max_iter=1500, random_state=42,\n",
              "             solver=&#x27;lbfgs&#x27;, tol=1e-05)</pre></div></div></div></div></div>"
            ]
          },
          "metadata": {},
          "execution_count": 28
        }
      ],
      "source": [
        "# 4 - Treino\n",
        "# Instanciando o objeto\n",
        "ml_perceptron = MLPRegressor(solver='lbfgs', # otimizador por métodos quasi-Newton\n",
        "                             tol=1e-5, # Limiar para a otimização (treinamento)\n",
        "                             max_iter=1500, # Limite de iterações durante a otimização (treinamento)\n",
        "                             random_state=42, # (seed) pesos da rede são inicializados aleatoriamente\n",
        "                             hidden_layer_sizes=(10,4), # Quantidade de neuronios por camada oculta #(12,7,3)\n",
        "                             activation='relu') # Função de ativação dos neuronios\n",
        "\n",
        "ml_perceptron.fit(x_train_escalonado, y_train)  # Treinando (perceba que estamos passando o x_train escalonado)"
      ]
    },
    {
      "cell_type": "code",
      "execution_count": 29,
      "id": "6394330e",
      "metadata": {
        "id": "6394330e",
        "outputId": "b5cb61e4-9bea-49eb-8ce1-2291f8f88ebc",
        "colab": {
          "base_uri": "https://localhost:8080/"
        }
      },
      "outputs": [
        {
          "output_type": "stream",
          "name": "stdout",
          "text": [
            "R2:  0.84244880487425\n",
            "ρ: 0.9197232497327121\n",
            "MAE:  81816.13871664353\n",
            "MSE:  23818071691.24938\n"
          ]
        }
      ],
      "source": [
        "# 5 - Teste\n",
        "y_predicoes = ml_perceptron.predict(x_test_escalonado) # Perceba que estamos passando o x_test escalonado\n",
        "\n",
        "R2 = r2_score(y_true = y_test,      # Gabarito\n",
        "              y_pred = y_predicoes) # Respostas do algoritmo ao teste realizado\n",
        "print('R2: ', R2)  # Quanto mais próximos de 1 melhor\n",
        "\n",
        "rho = pearsonr(y_test, y_predicoes)\n",
        "print('\\u03C1:', rho[0]) # Quanto mais próximo de 1, melhor (OBS: apneas neste caso de utilização)\n",
        "\n",
        "MAE = mean_absolute_error(y_true = y_test,      # Gabarito\n",
        "                          y_pred = y_predicoes) # Respostas do algoritmo ao teste realizado\n",
        "print('MAE: ', MAE)\n",
        "\n",
        "MSE = mean_squared_error(y_true = y_test,      # Gabarito\n",
        "                         y_pred = y_predicoes) # Respostas do algoritmo ao teste realizado\n",
        "print('MSE: ', MSE)"
      ]
    },
    {
      "cell_type": "code",
      "execution_count": 30,
      "id": "26722b67",
      "metadata": {
        "id": "26722b67"
      },
      "outputs": [],
      "source": [
        "y_predicoes_mlp = y_predicoes"
      ]
    },
    {
      "cell_type": "markdown",
      "id": "7c7b526f",
      "metadata": {
        "id": "7c7b526f"
      },
      "source": [
        "#### Gráfico de acerto\n",
        "\n",
        "Podemos visualizar nossos acertos através de um gráfico de dispersão entre y_test e y_pred. Perceba que se nosso modelo acerta tudo, y_test=y_pred. Dessa forma, teriamos uma reta perfeita com ângulo de inclinação de 45°. Entretanto, se nosso modelo não acertar tudo, então teremos uma outra reta, com outro ângulo de inclinação."
      ]
    },
    {
      "cell_type": "code",
      "execution_count": 31,
      "id": "c8d813f8",
      "metadata": {
        "id": "c8d813f8"
      },
      "outputs": [],
      "source": [
        "import seaborn as sns"
      ]
    },
    {
      "cell_type": "code",
      "execution_count": 32,
      "id": "6860373d",
      "metadata": {
        "id": "6860373d",
        "outputId": "84247e89-40f3-47c5-e6fb-0c1f7e1a3e57",
        "colab": {
          "base_uri": "https://localhost:8080/",
          "height": 482
        }
      },
      "outputs": [
        {
          "output_type": "execute_result",
          "data": {
            "text/plain": [
              "<matplotlib.legend.Legend at 0x78b1c44c3190>"
            ]
          },
          "metadata": {},
          "execution_count": 32
        },
        {
          "output_type": "display_data",
          "data": {
            "text/plain": [
              "<Figure size 640x480 with 1 Axes>"
            ],
            "image/png": "[encoded data removed]"
          },
          "metadata": {}
        }
      ],
      "source": [
        "ax = sns.regplot(x=y_test,y=y_pred_linear,\n",
        "                 color=\"b\", scatter_kws={'alpha':0.3}, label='RegLinear') # Regressão Linear\n",
        "ax = sns.regplot(x=y_test,y=y_predicoes_mlp,\n",
        "                 color=\"g\", scatter_kws={'alpha':0.3}, label='MLP') # Rede Neural\n",
        "ax.plot(y_test, y_test, 'r--', linewidth = 2, label='Correto') # Reta 100% correto\n",
        "ax.set(xlabel='y_test (gabarito)', ylabel='y_pred (respostas do teste)')\n",
        "ax.legend()\n",
        "#ax.set_xscale('log'), ax.set_yscale('log')"
      ]
    },
    {
      "cell_type": "markdown",
      "id": "1fcf9457",
      "metadata": {
        "id": "1fcf9457"
      },
      "source": [
        "E se tivessemos escalonado os dados para passar pela Regressão Linear? Qual seria o resultado?"
      ]
    },
    {
      "cell_type": "code",
      "source": [
        "# 3 - Escalonamento\n",
        "scaler = StandardScaler() # Criando o objeto de escalonamento\n",
        "scaler.fit(x_train) # Passando os dados de treinamento para encontrar a escala\n",
        "\n",
        "x_train_escalonado = scaler.transform(x_train)\n",
        "x_test_escalonado = scaler.transform(x_test)\n",
        "\n",
        "lr = LinearRegression()  # Criamos o objeto do regressor (não mudamos nenhum hiperpârametro)\n",
        "\n",
        "lr.fit(x_train_escalonado ,y_train) # Treinamos o regressor passando apenas o conjunto de dados de treinamento"
      ],
      "metadata": {
        "id": "FnqRqZHJoXKX",
        "outputId": "1ae027df-e0e1-4eea-b92d-e7fd21ea3b12",
        "colab": {
          "base_uri": "https://localhost:8080/",
          "height": 75
        }
      },
      "id": "FnqRqZHJoXKX",
      "execution_count": 39,
      "outputs": [
        {
          "output_type": "execute_result",
          "data": {
            "text/plain": [
              "LinearRegression()"
            ],
            "text/html": [
              "<style>#sk-container-id-4 {color: black;background-color: white;}#sk-container-id-4 pre{padding: 0;}#sk-container-id-4 div.sk-toggleable {background-color: white;}#sk-container-id-4 label.sk-toggleable__label {cursor: pointer;display: block;width: 100%;margin-bottom: 0;padding: 0.3em;box-sizing: border-box;text-align: center;}#sk-container-id-4 label.sk-toggleable__label-arrow:before {content: \"▸\";float: left;margin-right: 0.25em;color: #696969;}#sk-container-id-4 label.sk-toggleable__label-arrow:hover:before {color: black;}#sk-container-id-4 div.sk-estimator:hover label.sk-toggleable__label-arrow:before {color: black;}#sk-container-id-4 div.sk-toggleable__content {max-height: 0;max-width: 0;overflow: hidden;text-align: left;background-color: #f0f8ff;}#sk-container-id-4 div.sk-toggleable__content pre {margin: 0.2em;color: black;border-radius: 0.25em;background-color: #f0f8ff;}#sk-container-id-4 input.sk-toggleable__control:checked~div.sk-toggleable__content {max-height: 200px;max-width: 100%;overflow: auto;}#sk-container-id-4 input.sk-toggleable__control:checked~label.sk-toggleable__label-arrow:before {content: \"▾\";}#sk-container-id-4 div.sk-estimator input.sk-toggleable__control:checked~label.sk-toggleable__label {background-color: #d4ebff;}#sk-container-id-4 div.sk-label input.sk-toggleable__control:checked~label.sk-toggleable__label {background-color: #d4ebff;}#sk-container-id-4 input.sk-hidden--visually {border: 0;clip: rect(1px 1px 1px 1px);clip: rect(1px, 1px, 1px, 1px);height: 1px;margin: -1px;overflow: hidden;padding: 0;position: absolute;width: 1px;}#sk-container-id-4 div.sk-estimator {font-family: monospace;background-color: #f0f8ff;border: 1px dotted black;border-radius: 0.25em;box-sizing: border-box;margin-bottom: 0.5em;}#sk-container-id-4 div.sk-estimator:hover {background-color: #d4ebff;}#sk-container-id-4 div.sk-parallel-item::after {content: \"\";width: 100%;border-bottom: 1px solid gray;flex-grow: 1;}#sk-container-id-4 div.sk-label:hover label.sk-toggleable__label {background-color: #d4ebff;}#sk-container-id-4 div.sk-serial::before {content: \"\";position: absolute;border-left: 1px solid gray;box-sizing: border-box;top: 0;bottom: 0;left: 50%;z-index: 0;}#sk-container-id-4 div.sk-serial {display: flex;flex-direction: column;align-items: center;background-color: white;padding-right: 0.2em;padding-left: 0.2em;position: relative;}#sk-container-id-4 div.sk-item {position: relative;z-index: 1;}#sk-container-id-4 div.sk-parallel {display: flex;align-items: stretch;justify-content: center;background-color: white;position: relative;}#sk-container-id-4 div.sk-item::before, #sk-container-id-4 div.sk-parallel-item::before {content: \"\";position: absolute;border-left: 1px solid gray;box-sizing: border-box;top: 0;bottom: 0;left: 50%;z-index: -1;}#sk-container-id-4 div.sk-parallel-item {display: flex;flex-direction: column;z-index: 1;position: relative;background-color: white;}#sk-container-id-4 div.sk-parallel-item:first-child::after {align-self: flex-end;width: 50%;}#sk-container-id-4 div.sk-parallel-item:last-child::after {align-self: flex-start;width: 50%;}#sk-container-id-4 div.sk-parallel-item:only-child::after {width: 0;}#sk-container-id-4 div.sk-dashed-wrapped {border: 1px dashed gray;margin: 0 0.4em 0.5em 0.4em;box-sizing: border-box;padding-bottom: 0.4em;background-color: white;}#sk-container-id-4 div.sk-label label {font-family: monospace;font-weight: bold;display: inline-block;line-height: 1.2em;}#sk-container-id-4 div.sk-label-container {text-align: center;}#sk-container-id-4 div.sk-container {/* jupyter's `normalize.less` sets `[hidden] { display: none; }` but bootstrap.min.css set `[hidden] { display: none !important; }` so we also need the `!important` here to be able to override the default hidden behavior on the sphinx rendered scikit-learn.org. See: https://github.com/scikit-learn/scikit-learn/issues/21755 */display: inline-block !important;position: relative;}#sk-container-id-4 div.sk-text-repr-fallback {display: none;}</style><div id=\"sk-container-id-4\" class=\"sk-top-container\"><div class=\"sk-text-repr-fallback\"><pre>LinearRegression()</pre><b>In a Jupyter environment, please rerun this cell to show the HTML representation or trust the notebook. <br />On GitHub, the HTML representation is unable to render, please try loading this page with nbviewer.org.</b></div><div class=\"sk-container\" hidden><div class=\"sk-item\"><div class=\"sk-estimator sk-toggleable\"><input class=\"sk-toggleable__control sk-hidden--visually\" id=\"sk-estimator-id-4\" type=\"checkbox\" checked><label for=\"sk-estimator-id-4\" class=\"sk-toggleable__label sk-toggleable__label-arrow\">LinearRegression</label><div class=\"sk-toggleable__content\"><pre>LinearRegression()</pre></div></div></div></div></div>"
            ]
          },
          "metadata": {},
          "execution_count": 39
        }
      ]
    },
    {
      "cell_type": "code",
      "source": [
        "# 5 - Teste\n",
        "y_predicoes = lr.predict(x_test_escalonado) # Perceba que estamos passando o x_test escalonado\n",
        "\n",
        "R2 = r2_score(y_true = y_test,      # Gabarito\n",
        "              y_pred = y_predicoes) # Respostas do algoritmo ao teste realizado\n",
        "print('R2: ', R2)  # Quanto mais próximos de 1 melhor\n",
        "\n",
        "rho = pearsonr(y_test, y_predicoes)\n",
        "print('\\u03C1:', rho[0]) # Quanto mais próximo de 1, melhor (OBS: apneas neste caso de utilização)\n",
        "\n",
        "MAE = mean_absolute_error(y_true = y_test,      # Gabarito\n",
        "                          y_pred = y_predicoes) # Respostas do algoritmo ao teste realizado\n",
        "print('MAE: ', MAE)\n",
        "\n",
        "MSE = mean_squared_error(y_true = y_test,      # Gabarito\n",
        "                         y_pred = y_predicoes) # Respostas do algoritmo ao teste realizado\n",
        "print('MSE: ', MSE)"
      ],
      "metadata": {
        "id": "FCdtRvK5otjg",
        "outputId": "8ca5c6b0-9472-4612-de0c-c82dcf369e8d",
        "colab": {
          "base_uri": "https://localhost:8080/"
        }
      },
      "id": "FCdtRvK5otjg",
      "execution_count": 40,
      "outputs": [
        {
          "output_type": "stream",
          "name": "stdout",
          "text": [
            "R2:  0.6957298370207375\n",
            "ρ: 0.8343415181688522\n",
            "MAE:  128157.32046185233\n",
            "MSE:  45998562877.06282\n"
          ]
        }
      ]
    },
    {
      "cell_type": "markdown",
      "id": "e501f4fb",
      "metadata": {
        "id": "e501f4fb"
      },
      "source": [
        "------------------------------\n",
        "## Exemplo 2 - Fifa 2019\n",
        "\n",
        "Contém dados de diversos jogadores de futebol presentes no Jogo FiFa 2019 da EAGames.\n",
        "\n",
        "Os dados são públicos no Kaggle em https://www.kaggle.com/karangadiya/fifa19\n",
        "\n",
        "\n",
        "Queremos prever a performance total do jogador dada pela coluna Overall, usando a idade do jogador (coluna Age), o valor do jogador (coluna Value) e o seu salário (coluna Wage)."
      ]
    },
    {
      "cell_type": "markdown",
      "id": "d1f9286a",
      "metadata": {
        "id": "d1f9286a"
      },
      "source": [
        "### Exemplo 2 - Primeiro passo: carregar os dados e fazer a análise exploratória"
      ]
    },
    {
      "cell_type": "code",
      "execution_count": 41,
      "id": "9931ca6c",
      "metadata": {
        "id": "9931ca6c"
      },
      "outputs": [],
      "source": [
        "import pandas as pd\n",
        "import matplotlib.pyplot as plt"
      ]
    },
    {
      "cell_type": "code",
      "execution_count": 45,
      "id": "d66bf877",
      "metadata": {
        "id": "d66bf877"
      },
      "outputs": [],
      "source": [
        "# Carregando os dados\n",
        "dados_fifa = pd.read_csv('/content/fifa_eda.csv', index_col = 0)"
      ]
    },
    {
      "cell_type": "code",
      "execution_count": 46,
      "id": "b4a97735",
      "metadata": {
        "id": "b4a97735",
        "outputId": "3bb994ec-7f9b-4593-e499-2a499be83e38",
        "colab": {
          "base_uri": "https://localhost:8080/",
          "height": 299
        }
      },
      "outputs": [
        {
          "output_type": "execute_result",
          "data": {
            "text/plain": [
              "                     Name  Age Nationality  Overall  Potential  \\\n",
              "ID                                                               \n",
              "158023           L. Messi   31   Argentina       94         94   \n",
              "20801   Cristiano Ronaldo   33    Portugal       94         94   \n",
              "190871          Neymar Jr   26      Brazil       92         93   \n",
              "\n",
              "                       Club     Value   Wage Preferred Foot  \\\n",
              "ID                                                            \n",
              "158023         FC Barcelona  110500.0  565.0           Left   \n",
              "20801              Juventus   77000.0  405.0          Right   \n",
              "190871  Paris Saint-Germain  118500.0  290.0          Right   \n",
              "\n",
              "        International Reputation  Skill Moves Position  Joined  \\\n",
              "ID                                                               \n",
              "158023                       5.0          4.0       RF    2004   \n",
              "20801                        5.0          5.0       ST    2018   \n",
              "190871                       5.0          5.0       LW    2017   \n",
              "\n",
              "       Contract Valid Until    Height  Weight  Release Clause  \n",
              "ID                                                             \n",
              "158023           2021-01-01  5.583333   159.0        226500.0  \n",
              "20801            2022-01-01  6.166667   183.0        127100.0  \n",
              "190871           2022-01-01  5.750000   150.0        228100.0  "
            ],
            "text/html": [
              "\n",
              "  <div id=\"df-8589cbc0-13bb-4440-a9ba-471921057cff\" class=\"colab-df-container\">\n",
              "    <div>\n",
              "<style scoped>\n",
              "    .dataframe tbody tr th:only-of-type {\n",
              "        vertical-align: middle;\n",
              "    }\n",
              "\n",
              "    .dataframe tbody tr th {\n",
              "        vertical-align: top;\n",
              "    }\n",
              "\n",
              "    .dataframe thead th {\n",
              "        text-align: right;\n",
              "    }\n",
              "</style>\n",
              "<table border=\"1\" class=\"dataframe\">\n",
              "  <thead>\n",
              "    <tr style=\"text-align: right;\">\n",
              "      <th></th>\n",
              "      <th>Name</th>\n",
              "      <th>Age</th>\n",
              "      <th>Nationality</th>\n",
              "      <th>Overall</th>\n",
              "      <th>Potential</th>\n",
              "      <th>Club</th>\n",
              "      <th>Value</th>\n",
              "      <th>Wage</th>\n",
              "      <th>Preferred Foot</th>\n",
              "      <th>International Reputation</th>\n",
              "      <th>Skill Moves</th>\n",
              "      <th>Position</th>\n",
              "      <th>Joined</th>\n",
              "      <th>Contract Valid Until</th>\n",
              "      <th>Height</th>\n",
              "      <th>Weight</th>\n",
              "      <th>Release Clause</th>\n",
              "    </tr>\n",
              "    <tr>\n",
              "      <th>ID</th>\n",
              "      <th></th>\n",
              "      <th></th>\n",
              "      <th></th>\n",
              "      <th></th>\n",
              "      <th></th>\n",
              "      <th></th>\n",
              "      <th></th>\n",
              "      <th></th>\n",
              "      <th></th>\n",
              "      <th></th>\n",
              "      <th></th>\n",
              "      <th></th>\n",
              "      <th></th>\n",
              "      <th></th>\n",
              "      <th></th>\n",
              "      <th></th>\n",
              "      <th></th>\n",
              "    </tr>\n",
              "  </thead>\n",
              "  <tbody>\n",
              "    <tr>\n",
              "      <th>158023</th>\n",
              "      <td>L. Messi</td>\n",
              "      <td>31</td>\n",
              "      <td>Argentina</td>\n",
              "      <td>94</td>\n",
              "      <td>94</td>\n",
              "      <td>FC Barcelona</td>\n",
              "      <td>110500.0</td>\n",
              "      <td>565.0</td>\n",
              "      <td>Left</td>\n",
              "      <td>5.0</td>\n",
              "      <td>4.0</td>\n",
              "      <td>RF</td>\n",
              "      <td>2004</td>\n",
              "      <td>2021-01-01</td>\n",
              "      <td>5.583333</td>\n",
              "      <td>159.0</td>\n",
              "      <td>226500.0</td>\n",
              "    </tr>\n",
              "    <tr>\n",
              "      <th>20801</th>\n",
              "      <td>Cristiano Ronaldo</td>\n",
              "      <td>33</td>\n",
              "      <td>Portugal</td>\n",
              "      <td>94</td>\n",
              "      <td>94</td>\n",
              "      <td>Juventus</td>\n",
              "      <td>77000.0</td>\n",
              "      <td>405.0</td>\n",
              "      <td>Right</td>\n",
              "      <td>5.0</td>\n",
              "      <td>5.0</td>\n",
              "      <td>ST</td>\n",
              "      <td>2018</td>\n",
              "      <td>2022-01-01</td>\n",
              "      <td>6.166667</td>\n",
              "      <td>183.0</td>\n",
              "      <td>127100.0</td>\n",
              "    </tr>\n",
              "    <tr>\n",
              "      <th>190871</th>\n",
              "      <td>Neymar Jr</td>\n",
              "      <td>26</td>\n",
              "      <td>Brazil</td>\n",
              "      <td>92</td>\n",
              "      <td>93</td>\n",
              "      <td>Paris Saint-Germain</td>\n",
              "      <td>118500.0</td>\n",
              "      <td>290.0</td>\n",
              "      <td>Right</td>\n",
              "      <td>5.0</td>\n",
              "      <td>5.0</td>\n",
              "      <td>LW</td>\n",
              "      <td>2017</td>\n",
              "      <td>2022-01-01</td>\n",
              "      <td>5.750000</td>\n",
              "      <td>150.0</td>\n",
              "      <td>228100.0</td>\n",
              "    </tr>\n",
              "  </tbody>\n",
              "</table>\n",
              "</div>\n",
              "    <div class=\"colab-df-buttons\">\n",
              "\n",
              "  <div class=\"colab-df-container\">\n",
              "    <button class=\"colab-df-convert\" onclick=\"convertToInteractive('df-8589cbc0-13bb-4440-a9ba-471921057cff')\"\n",
              "            title=\"Convert this dataframe to an interactive table.\"\n",
              "            style=\"display:none;\">\n",
              "\n",
              "  <svg xmlns=\"http://www.w3.org/2000/svg\" height=\"24px\" viewBox=\"0 -960 960 960\">\n",
              "    <path d=\"M120-120v-720h720v720H120Zm60-500h600v-160H180v160Zm220 220h160v-160H400v160Zm0 220h160v-160H400v160ZM180-400h160v-160H180v160Zm440 0h160v-160H620v160ZM180-180h160v-160H180v160Zm440 0h160v-160H620v160Z\"/>\n",
              "  </svg>\n",
              "    </button>\n",
              "\n",
              "  <style>\n",
              "    .colab-df-container {\n",
              "      display:flex;\n",
              "      gap: 12px;\n",
              "    }\n",
              "\n",
              "    .colab-df-convert {\n",
              "      background-color: #E8F0FE;\n",
              "      border: none;\n",
              "      border-radius: 50%;\n",
              "      cursor: pointer;\n",
              "      display: none;\n",
              "      fill: #1967D2;\n",
              "      height: 32px;\n",
              "      padding: 0 0 0 0;\n",
              "      width: 32px;\n",
              "    }\n",
              "\n",
              "    .colab-df-convert:hover {\n",
              "      background-color: #E2EBFA;\n",
              "      box-shadow: 0px 1px 2px rgba(60, 64, 67, 0.3), 0px 1px 3px 1px rgba(60, 64, 67, 0.15);\n",
              "      fill: #174EA6;\n",
              "    }\n",
              "\n",
              "    .colab-df-buttons div {\n",
              "      margin-bottom: 4px;\n",
              "    }\n",
              "\n",
              "    [theme=dark] .colab-df-convert {\n",
              "      background-color: #3B4455;\n",
              "      fill: #D2E3FC;\n",
              "    }\n",
              "\n",
              "    [theme=dark] .colab-df-convert:hover {\n",
              "      background-color: #434B5C;\n",
              "      box-shadow: 0px 1px 3px 1px rgba(0, 0, 0, 0.15);\n",
              "      filter: drop-shadow(0px 1px 2px rgba(0, 0, 0, 0.3));\n",
              "      fill: #FFFFFF;\n",
              "    }\n",
              "  </style>\n",
              "\n",
              "    <script>\n",
              "      const buttonEl =\n",
              "        document.querySelector('#df-8589cbc0-13bb-4440-a9ba-471921057cff button.colab-df-convert');\n",
              "      buttonEl.style.display =\n",
              "        google.colab.kernel.accessAllowed ? 'block' : 'none';\n",
              "\n",
              "      async function convertToInteractive(key) {\n",
              "        const element = document.querySelector('#df-8589cbc0-13bb-4440-a9ba-471921057cff');\n",
              "        const dataTable =\n",
              "          await google.colab.kernel.invokeFunction('convertToInteractive',\n",
              "                                                    [key], {});\n",
              "        if (!dataTable) return;\n",
              "\n",
              "        const docLinkHtml = 'Like what you see? Visit the ' +\n",
              "          '<a target=\"_blank\" href=https://colab.research.google.com/notebooks/data_table.ipynb>data table notebook</a>'\n",
              "          + ' to learn more about interactive tables.';\n",
              "        element.innerHTML = '';\n",
              "        dataTable['output_type'] = 'display_data';\n",
              "        await google.colab.output.renderOutput(dataTable, element);\n",
              "        const docLink = document.createElement('div');\n",
              "        docLink.innerHTML = docLinkHtml;\n",
              "        element.appendChild(docLink);\n",
              "      }\n",
              "    </script>\n",
              "  </div>\n",
              "\n",
              "\n",
              "<div id=\"df-3e351ef7-0571-4237-a8a4-76202292c8ca\">\n",
              "  <button class=\"colab-df-quickchart\" onclick=\"quickchart('df-3e351ef7-0571-4237-a8a4-76202292c8ca')\"\n",
              "            title=\"Suggest charts.\"\n",
              "            style=\"display:none;\">\n",
              "\n",
              "<svg xmlns=\"http://www.w3.org/2000/svg\" height=\"24px\"viewBox=\"0 0 24 24\"\n",
              "     width=\"24px\">\n",
              "    <g>\n",
              "        <path d=\"M19 3H5c-1.1 0-2 .9-2 2v14c0 1.1.9 2 2 2h14c1.1 0 2-.9 2-2V5c0-1.1-.9-2-2-2zM9 17H7v-7h2v7zm4 0h-2V7h2v10zm4 0h-2v-4h2v4z\"/>\n",
              "    </g>\n",
              "</svg>\n",
              "  </button>\n",
              "\n",
              "<style>\n",
              "  .colab-df-quickchart {\n",
              "      --bg-color: #E8F0FE;\n",
              "      --fill-color: #1967D2;\n",
              "      --hover-bg-color: #E2EBFA;\n",
              "      --hover-fill-color: #174EA6;\n",
              "      --disabled-fill-color: #AAA;\n",
              "      --disabled-bg-color: #DDD;\n",
              "  }\n",
              "\n",
              "  [theme=dark] .colab-df-quickchart {\n",
              "      --bg-color: #3B4455;\n",
              "      --fill-color: #D2E3FC;\n",
              "      --hover-bg-color: #434B5C;\n",
              "      --hover-fill-color: #FFFFFF;\n",
              "      --disabled-bg-color: #3B4455;\n",
              "      --disabled-fill-color: #666;\n",
              "  }\n",
              "\n",
              "  .colab-df-quickchart {\n",
              "    background-color: var(--bg-color);\n",
              "    border: none;\n",
              "    border-radius: 50%;\n",
              "    cursor: pointer;\n",
              "    display: none;\n",
              "    fill: var(--fill-color);\n",
              "    height: 32px;\n",
              "    padding: 0;\n",
              "    width: 32px;\n",
              "  }\n",
              "\n",
              "  .colab-df-quickchart:hover {\n",
              "    background-color: var(--hover-bg-color);\n",
              "    box-shadow: 0 1px 2px rgba(60, 64, 67, 0.3), 0 1px 3px 1px rgba(60, 64, 67, 0.15);\n",
              "    fill: var(--button-hover-fill-color);\n",
              "  }\n",
              "\n",
              "  .colab-df-quickchart-complete:disabled,\n",
              "  .colab-df-quickchart-complete:disabled:hover {\n",
              "    background-color: var(--disabled-bg-color);\n",
              "    fill: var(--disabled-fill-color);\n",
              "    box-shadow: none;\n",
              "  }\n",
              "\n",
              "  .colab-df-spinner {\n",
              "    border: 2px solid var(--fill-color);\n",
              "    border-color: transparent;\n",
              "    border-bottom-color: var(--fill-color);\n",
              "    animation:\n",
              "      spin 1s steps(1) infinite;\n",
              "  }\n",
              "\n",
              "  @keyframes spin {\n",
              "    0% {\n",
              "      border-color: transparent;\n",
              "      border-bottom-color: var(--fill-color);\n",
              "      border-left-color: var(--fill-color);\n",
              "    }\n",
              "    20% {\n",
              "      border-color: transparent;\n",
              "      border-left-color: var(--fill-color);\n",
              "      border-top-color: var(--fill-color);\n",
              "    }\n",
              "    30% {\n",
              "      border-color: transparent;\n",
              "      border-left-color: var(--fill-color);\n",
              "      border-top-color: var(--fill-color);\n",
              "      border-right-color: var(--fill-color);\n",
              "    }\n",
              "    40% {\n",
              "      border-color: transparent;\n",
              "      border-right-color: var(--fill-color);\n",
              "      border-top-color: var(--fill-color);\n",
              "    }\n",
              "    60% {\n",
              "      border-color: transparent;\n",
              "      border-right-color: var(--fill-color);\n",
              "    }\n",
              "    80% {\n",
              "      border-color: transparent;\n",
              "      border-right-color: var(--fill-color);\n",
              "      border-bottom-color: var(--fill-color);\n",
              "    }\n",
              "    90% {\n",
              "      border-color: transparent;\n",
              "      border-bottom-color: var(--fill-color);\n",
              "    }\n",
              "  }\n",
              "</style>\n",
              "\n",
              "  <script>\n",
              "    async function quickchart(key) {\n",
              "      const quickchartButtonEl =\n",
              "        document.querySelector('#' + key + ' button');\n",
              "      quickchartButtonEl.disabled = true;  // To prevent multiple clicks.\n",
              "      quickchartButtonEl.classList.add('colab-df-spinner');\n",
              "      try {\n",
              "        const charts = await google.colab.kernel.invokeFunction(\n",
              "            'suggestCharts', [key], {});\n",
              "      } catch (error) {\n",
              "        console.error('Error during call to suggestCharts:', error);\n",
              "      }\n",
              "      quickchartButtonEl.classList.remove('colab-df-spinner');\n",
              "      quickchartButtonEl.classList.add('colab-df-quickchart-complete');\n",
              "    }\n",
              "    (() => {\n",
              "      let quickchartButtonEl =\n",
              "        document.querySelector('#df-3e351ef7-0571-4237-a8a4-76202292c8ca button');\n",
              "      quickchartButtonEl.style.display =\n",
              "        google.colab.kernel.accessAllowed ? 'block' : 'none';\n",
              "    })();\n",
              "  </script>\n",
              "</div>\n",
              "    </div>\n",
              "  </div>\n"
            ]
          },
          "metadata": {},
          "execution_count": 46
        }
      ],
      "source": [
        "dados_fifa.head(3)"
      ]
    },
    {
      "cell_type": "markdown",
      "id": "a0802457",
      "metadata": {
        "id": "a0802457"
      },
      "source": [
        "Vamos olhar como estão os dados das colunas através do .info()\n",
        "\n",
        "Perceba que as colunas desejadas como preditoras não possuem dados vazios."
      ]
    },
    {
      "cell_type": "code",
      "execution_count": 49,
      "id": "ea53d6f2",
      "metadata": {
        "id": "ea53d6f2",
        "outputId": "677883d4-8b5b-46a3-a8cc-1887276086ec",
        "colab": {
          "base_uri": "https://localhost:8080/"
        }
      },
      "outputs": [
        {
          "output_type": "stream",
          "name": "stdout",
          "text": [
            "<class 'pandas.core.frame.DataFrame'>\n",
            "Int64Index: 18207 entries, 158023 to 246269\n",
            "Data columns (total 17 columns):\n",
            " #   Column                    Non-Null Count  Dtype  \n",
            "---  ------                    --------------  -----  \n",
            " 0   Name                      18207 non-null  object \n",
            " 1   Age                       18207 non-null  int64  \n",
            " 2   Nationality               18207 non-null  object \n",
            " 3   Overall                   18207 non-null  int64  \n",
            " 4   Potential                 18207 non-null  int64  \n",
            " 5   Club                      17966 non-null  object \n",
            " 6   Value                     17955 non-null  float64\n",
            " 7   Wage                      18207 non-null  float64\n",
            " 8   Preferred Foot            18207 non-null  object \n",
            " 9   International Reputation  18159 non-null  float64\n",
            " 10  Skill Moves               18159 non-null  float64\n",
            " 11  Position                  18207 non-null  object \n",
            " 12  Joined                    18207 non-null  int64  \n",
            " 13  Contract Valid Until      17918 non-null  object \n",
            " 14  Height                    18207 non-null  float64\n",
            " 15  Weight                    18207 non-null  float64\n",
            " 16  Release Clause            18207 non-null  float64\n",
            "dtypes: float64(7), int64(4), object(6)\n",
            "memory usage: 3.0+ MB\n"
          ]
        }
      ],
      "source": [
        "dados_fifa.info()"
      ]
    },
    {
      "cell_type": "markdown",
      "id": "a52a08f9",
      "metadata": {
        "id": "a52a08f9"
      },
      "source": [
        "Vamos converter as colunas Value e Wage que estão em strings para valores numéricos em Euros:"
      ]
    },
    {
      "cell_type": "code",
      "execution_count": 54,
      "id": "bc086cfe",
      "metadata": {
        "id": "bc086cfe",
        "outputId": "ff96f545-2a38-4a91-f0f6-5d4f20d3d190",
        "colab": {
          "base_uri": "https://localhost:8080/"
        }
      },
      "outputs": [
        {
          "output_type": "execute_result",
          "data": {
            "text/plain": [
              "ID\n",
              "158023    110500.0\n",
              "20801      77000.0\n",
              "190871    118500.0\n",
              "193080     72000.0\n",
              "192985    102000.0\n",
              "            ...   \n",
              "238813        60.0\n",
              "243165        60.0\n",
              "241638        60.0\n",
              "246268        60.0\n",
              "246269        60.0\n",
              "Name: Value, Length: 18207, dtype: float64"
            ]
          },
          "metadata": {},
          "execution_count": 54
        }
      ],
      "source": [
        "dados_fifa['Value']"
      ]
    },
    {
      "cell_type": "code",
      "execution_count": null,
      "id": "333855ff",
      "metadata": {
        "id": "333855ff"
      },
      "outputs": [],
      "source": [
        "# def convert_currency(valor):\n",
        "#     valor = valor.replace('€','')\n",
        "\n",
        "#     if 'K' in valor:\n",
        "#         valor = 1000*float(valor.replace('K',''))\n",
        "#     elif 'M' in valor:\n",
        "#         valor = 1000000*float(valor.replace('M',''))\n",
        "#     else:\n",
        "#         valor = float(valor)\n",
        "\n",
        "#     return valor"
      ]
    },
    {
      "cell_type": "code",
      "execution_count": null,
      "id": "fcf53b80",
      "metadata": {
        "id": "fcf53b80"
      },
      "outputs": [],
      "source": [
        "# dados_fifa['Value'] = dados_fifa['Value'].apply(convert_currency)\n",
        "# dados_fifa['Wage'] = dados_fifa['Wage'].apply(convert_currency)"
      ]
    },
    {
      "cell_type": "code",
      "execution_count": null,
      "id": "e80fe521",
      "metadata": {
        "id": "e80fe521"
      },
      "outputs": [],
      "source": [
        "dados_fifa['Value'][0]"
      ]
    },
    {
      "cell_type": "markdown",
      "id": "7030c93a",
      "metadata": {
        "id": "7030c93a"
      },
      "source": [
        "### Exemplo 2 - Segundo passo: separar os dados"
      ]
    },
    {
      "cell_type": "code",
      "source": [
        "dados_fifa['Age']"
      ],
      "metadata": {
        "id": "xT1pD4IEtLYh"
      },
      "id": "xT1pD4IEtLYh",
      "execution_count": null,
      "outputs": []
    },
    {
      "cell_type": "code",
      "execution_count": 55,
      "id": "064664be",
      "metadata": {
        "id": "064664be"
      },
      "outputs": [],
      "source": [
        "from sklearn.model_selection import train_test_split"
      ]
    },
    {
      "cell_type": "code",
      "execution_count": 56,
      "id": "44789ad6",
      "metadata": {
        "id": "44789ad6"
      },
      "outputs": [],
      "source": [
        "# Escolhendo as colunas preditivas e alvo\n",
        "x = dados_fifa[['Age','Value','Wage']] # Selecionando 3 colunas (perceba o uso de dois colchetes)\n",
        "y = dados_fifa['Overall']                # Valor alvo\n",
        "\n",
        "# Dividindo conjunto de treinamento e conjunto de teste\n",
        "x_train, x_test, y_train, y_test = train_test_split(x, y, test_size = 0.2, random_state = 42)"
      ]
    },
    {
      "cell_type": "code",
      "execution_count": 57,
      "id": "53dadfab",
      "metadata": {
        "id": "53dadfab",
        "outputId": "5ac9799d-ae15-4269-e673-5bfb58fffa19",
        "colab": {
          "base_uri": "https://localhost:8080/",
          "height": 300
        }
      },
      "outputs": [
        {
          "output_type": "execute_result",
          "data": {
            "text/plain": [
              "                Age          Value          Wage\n",
              "count  18207.000000   17955.000000  18207.000000\n",
              "mean      25.122206    2444.530214      9.731312\n",
              "std        4.669943    5626.715434     21.999290\n",
              "min       16.000000      10.000000      0.000000\n",
              "25%       21.000000     325.000000      1.000000\n",
              "50%       25.000000     700.000000      3.000000\n",
              "75%       28.000000    2100.000000      9.000000\n",
              "max       45.000000  118500.000000    565.000000"
            ],
            "text/html": [
              "\n",
              "  <div id=\"df-cacdeebe-8fab-469e-af2d-2d2bc670acd1\" class=\"colab-df-container\">\n",
              "    <div>\n",
              "<style scoped>\n",
              "    .dataframe tbody tr th:only-of-type {\n",
              "        vertical-align: middle;\n",
              "    }\n",
              "\n",
              "    .dataframe tbody tr th {\n",
              "        vertical-align: top;\n",
              "    }\n",
              "\n",
              "    .dataframe thead th {\n",
              "        text-align: right;\n",
              "    }\n",
              "</style>\n",
              "<table border=\"1\" class=\"dataframe\">\n",
              "  <thead>\n",
              "    <tr style=\"text-align: right;\">\n",
              "      <th></th>\n",
              "      <th>Age</th>\n",
              "      <th>Value</th>\n",
              "      <th>Wage</th>\n",
              "    </tr>\n",
              "  </thead>\n",
              "  <tbody>\n",
              "    <tr>\n",
              "      <th>count</th>\n",
              "      <td>18207.000000</td>\n",
              "      <td>17955.000000</td>\n",
              "      <td>18207.000000</td>\n",
              "    </tr>\n",
              "    <tr>\n",
              "      <th>mean</th>\n",
              "      <td>25.122206</td>\n",
              "      <td>2444.530214</td>\n",
              "      <td>9.731312</td>\n",
              "    </tr>\n",
              "    <tr>\n",
              "      <th>std</th>\n",
              "      <td>4.669943</td>\n",
              "      <td>5626.715434</td>\n",
              "      <td>21.999290</td>\n",
              "    </tr>\n",
              "    <tr>\n",
              "      <th>min</th>\n",
              "      <td>16.000000</td>\n",
              "      <td>10.000000</td>\n",
              "      <td>0.000000</td>\n",
              "    </tr>\n",
              "    <tr>\n",
              "      <th>25%</th>\n",
              "      <td>21.000000</td>\n",
              "      <td>325.000000</td>\n",
              "      <td>1.000000</td>\n",
              "    </tr>\n",
              "    <tr>\n",
              "      <th>50%</th>\n",
              "      <td>25.000000</td>\n",
              "      <td>700.000000</td>\n",
              "      <td>3.000000</td>\n",
              "    </tr>\n",
              "    <tr>\n",
              "      <th>75%</th>\n",
              "      <td>28.000000</td>\n",
              "      <td>2100.000000</td>\n",
              "      <td>9.000000</td>\n",
              "    </tr>\n",
              "    <tr>\n",
              "      <th>max</th>\n",
              "      <td>45.000000</td>\n",
              "      <td>118500.000000</td>\n",
              "      <td>565.000000</td>\n",
              "    </tr>\n",
              "  </tbody>\n",
              "</table>\n",
              "</div>\n",
              "    <div class=\"colab-df-buttons\">\n",
              "\n",
              "  <div class=\"colab-df-container\">\n",
              "    <button class=\"colab-df-convert\" onclick=\"convertToInteractive('df-cacdeebe-8fab-469e-af2d-2d2bc670acd1')\"\n",
              "            title=\"Convert this dataframe to an interactive table.\"\n",
              "            style=\"display:none;\">\n",
              "\n",
              "  <svg xmlns=\"http://www.w3.org/2000/svg\" height=\"24px\" viewBox=\"0 -960 960 960\">\n",
              "    <path d=\"M120-120v-720h720v720H120Zm60-500h600v-160H180v160Zm220 220h160v-160H400v160Zm0 220h160v-160H400v160ZM180-400h160v-160H180v160Zm440 0h160v-160H620v160ZM180-180h160v-160H180v160Zm440 0h160v-160H620v160Z\"/>\n",
              "  </svg>\n",
              "    </button>\n",
              "\n",
              "  <style>\n",
              "    .colab-df-container {\n",
              "      display:flex;\n",
              "      gap: 12px;\n",
              "    }\n",
              "\n",
              "    .colab-df-convert {\n",
              "      background-color: #E8F0FE;\n",
              "      border: none;\n",
              "      border-radius: 50%;\n",
              "      cursor: pointer;\n",
              "      display: none;\n",
              "      fill: #1967D2;\n",
              "      height: 32px;\n",
              "      padding: 0 0 0 0;\n",
              "      width: 32px;\n",
              "    }\n",
              "\n",
              "    .colab-df-convert:hover {\n",
              "      background-color: #E2EBFA;\n",
              "      box-shadow: 0px 1px 2px rgba(60, 64, 67, 0.3), 0px 1px 3px 1px rgba(60, 64, 67, 0.15);\n",
              "      fill: #174EA6;\n",
              "    }\n",
              "\n",
              "    .colab-df-buttons div {\n",
              "      margin-bottom: 4px;\n",
              "    }\n",
              "\n",
              "    [theme=dark] .colab-df-convert {\n",
              "      background-color: #3B4455;\n",
              "      fill: #D2E3FC;\n",
              "    }\n",
              "\n",
              "    [theme=dark] .colab-df-convert:hover {\n",
              "      background-color: #434B5C;\n",
              "      box-shadow: 0px 1px 3px 1px rgba(0, 0, 0, 0.15);\n",
              "      filter: drop-shadow(0px 1px 2px rgba(0, 0, 0, 0.3));\n",
              "      fill: #FFFFFF;\n",
              "    }\n",
              "  </style>\n",
              "\n",
              "    <script>\n",
              "      const buttonEl =\n",
              "        document.querySelector('#df-cacdeebe-8fab-469e-af2d-2d2bc670acd1 button.colab-df-convert');\n",
              "      buttonEl.style.display =\n",
              "        google.colab.kernel.accessAllowed ? 'block' : 'none';\n",
              "\n",
              "      async function convertToInteractive(key) {\n",
              "        const element = document.querySelector('#df-cacdeebe-8fab-469e-af2d-2d2bc670acd1');\n",
              "        const dataTable =\n",
              "          await google.colab.kernel.invokeFunction('convertToInteractive',\n",
              "                                                    [key], {});\n",
              "        if (!dataTable) return;\n",
              "\n",
              "        const docLinkHtml = 'Like what you see? Visit the ' +\n",
              "          '<a target=\"_blank\" href=https://colab.research.google.com/notebooks/data_table.ipynb>data table notebook</a>'\n",
              "          + ' to learn more about interactive tables.';\n",
              "        element.innerHTML = '';\n",
              "        dataTable['output_type'] = 'display_data';\n",
              "        await google.colab.output.renderOutput(dataTable, element);\n",
              "        const docLink = document.createElement('div');\n",
              "        docLink.innerHTML = docLinkHtml;\n",
              "        element.appendChild(docLink);\n",
              "      }\n",
              "    </script>\n",
              "  </div>\n",
              "\n",
              "\n",
              "<div id=\"df-a4e05fd7-3007-4907-a3f2-66205de6d1c6\">\n",
              "  <button class=\"colab-df-quickchart\" onclick=\"quickchart('df-a4e05fd7-3007-4907-a3f2-66205de6d1c6')\"\n",
              "            title=\"Suggest charts.\"\n",
              "            style=\"display:none;\">\n",
              "\n",
              "<svg xmlns=\"http://www.w3.org/2000/svg\" height=\"24px\"viewBox=\"0 0 24 24\"\n",
              "     width=\"24px\">\n",
              "    <g>\n",
              "        <path d=\"M19 3H5c-1.1 0-2 .9-2 2v14c0 1.1.9 2 2 2h14c1.1 0 2-.9 2-2V5c0-1.1-.9-2-2-2zM9 17H7v-7h2v7zm4 0h-2V7h2v10zm4 0h-2v-4h2v4z\"/>\n",
              "    </g>\n",
              "</svg>\n",
              "  </button>\n",
              "\n",
              "<style>\n",
              "  .colab-df-quickchart {\n",
              "      --bg-color: #E8F0FE;\n",
              "      --fill-color: #1967D2;\n",
              "      --hover-bg-color: #E2EBFA;\n",
              "      --hover-fill-color: #174EA6;\n",
              "      --disabled-fill-color: #AAA;\n",
              "      --disabled-bg-color: #DDD;\n",
              "  }\n",
              "\n",
              "  [theme=dark] .colab-df-quickchart {\n",
              "      --bg-color: #3B4455;\n",
              "      --fill-color: #D2E3FC;\n",
              "      --hover-bg-color: #434B5C;\n",
              "      --hover-fill-color: #FFFFFF;\n",
              "      --disabled-bg-color: #3B4455;\n",
              "      --disabled-fill-color: #666;\n",
              "  }\n",
              "\n",
              "  .colab-df-quickchart {\n",
              "    background-color: var(--bg-color);\n",
              "    border: none;\n",
              "    border-radius: 50%;\n",
              "    cursor: pointer;\n",
              "    display: none;\n",
              "    fill: var(--fill-color);\n",
              "    height: 32px;\n",
              "    padding: 0;\n",
              "    width: 32px;\n",
              "  }\n",
              "\n",
              "  .colab-df-quickchart:hover {\n",
              "    background-color: var(--hover-bg-color);\n",
              "    box-shadow: 0 1px 2px rgba(60, 64, 67, 0.3), 0 1px 3px 1px rgba(60, 64, 67, 0.15);\n",
              "    fill: var(--button-hover-fill-color);\n",
              "  }\n",
              "\n",
              "  .colab-df-quickchart-complete:disabled,\n",
              "  .colab-df-quickchart-complete:disabled:hover {\n",
              "    background-color: var(--disabled-bg-color);\n",
              "    fill: var(--disabled-fill-color);\n",
              "    box-shadow: none;\n",
              "  }\n",
              "\n",
              "  .colab-df-spinner {\n",
              "    border: 2px solid var(--fill-color);\n",
              "    border-color: transparent;\n",
              "    border-bottom-color: var(--fill-color);\n",
              "    animation:\n",
              "      spin 1s steps(1) infinite;\n",
              "  }\n",
              "\n",
              "  @keyframes spin {\n",
              "    0% {\n",
              "      border-color: transparent;\n",
              "      border-bottom-color: var(--fill-color);\n",
              "      border-left-color: var(--fill-color);\n",
              "    }\n",
              "    20% {\n",
              "      border-color: transparent;\n",
              "      border-left-color: var(--fill-color);\n",
              "      border-top-color: var(--fill-color);\n",
              "    }\n",
              "    30% {\n",
              "      border-color: transparent;\n",
              "      border-left-color: var(--fill-color);\n",
              "      border-top-color: var(--fill-color);\n",
              "      border-right-color: var(--fill-color);\n",
              "    }\n",
              "    40% {\n",
              "      border-color: transparent;\n",
              "      border-right-color: var(--fill-color);\n",
              "      border-top-color: var(--fill-color);\n",
              "    }\n",
              "    60% {\n",
              "      border-color: transparent;\n",
              "      border-right-color: var(--fill-color);\n",
              "    }\n",
              "    80% {\n",
              "      border-color: transparent;\n",
              "      border-right-color: var(--fill-color);\n",
              "      border-bottom-color: var(--fill-color);\n",
              "    }\n",
              "    90% {\n",
              "      border-color: transparent;\n",
              "      border-bottom-color: var(--fill-color);\n",
              "    }\n",
              "  }\n",
              "</style>\n",
              "\n",
              "  <script>\n",
              "    async function quickchart(key) {\n",
              "      const quickchartButtonEl =\n",
              "        document.querySelector('#' + key + ' button');\n",
              "      quickchartButtonEl.disabled = true;  // To prevent multiple clicks.\n",
              "      quickchartButtonEl.classList.add('colab-df-spinner');\n",
              "      try {\n",
              "        const charts = await google.colab.kernel.invokeFunction(\n",
              "            'suggestCharts', [key], {});\n",
              "      } catch (error) {\n",
              "        console.error('Error during call to suggestCharts:', error);\n",
              "      }\n",
              "      quickchartButtonEl.classList.remove('colab-df-spinner');\n",
              "      quickchartButtonEl.classList.add('colab-df-quickchart-complete');\n",
              "    }\n",
              "    (() => {\n",
              "      let quickchartButtonEl =\n",
              "        document.querySelector('#df-a4e05fd7-3007-4907-a3f2-66205de6d1c6 button');\n",
              "      quickchartButtonEl.style.display =\n",
              "        google.colab.kernel.accessAllowed ? 'block' : 'none';\n",
              "    })();\n",
              "  </script>\n",
              "</div>\n",
              "    </div>\n",
              "  </div>\n"
            ]
          },
          "metadata": {},
          "execution_count": 57
        }
      ],
      "source": [
        "x.describe()"
      ]
    },
    {
      "cell_type": "markdown",
      "id": "e2d56911",
      "metadata": {
        "id": "e2d56911"
      },
      "source": [
        "### Exemplo 2 - Terceiro passo: transformar os dados"
      ]
    },
    {
      "cell_type": "code",
      "execution_count": 59,
      "id": "49bc6607",
      "metadata": {
        "id": "49bc6607"
      },
      "outputs": [],
      "source": [
        "from sklearn.preprocessing import StandardScaler # Importando o Escalonador de Normalização"
      ]
    },
    {
      "cell_type": "code",
      "execution_count": 60,
      "id": "a6562159",
      "metadata": {
        "id": "a6562159"
      },
      "outputs": [],
      "source": [
        "# Passo 3 - Escalonamento\n",
        "scaler = StandardScaler() # Criando o objeto de escalonamento\n",
        "scaler.fit(x_train) # Passando os dados de treinamento para encontrar a escala\n",
        "\n",
        "x_train_escalonado = scaler.transform(x_train)\n",
        "x_test_escalonado = scaler.transform(x_test)"
      ]
    },
    {
      "cell_type": "markdown",
      "id": "328a1c43",
      "metadata": {
        "id": "328a1c43"
      },
      "source": [
        "### Exemplo 2 - Quarto passo: treinar o modelo\n",
        "\n",
        "Vamos Escalonar os dados antes de usá-los, realizando assim o passo intermediário de transformação."
      ]
    },
    {
      "cell_type": "code",
      "execution_count": 61,
      "id": "d8c0822e",
      "metadata": {
        "id": "d8c0822e"
      },
      "outputs": [],
      "source": [
        "from sklearn.linear_model import LinearRegression"
      ]
    },
    {
      "cell_type": "code",
      "execution_count": null,
      "id": "6167afdb",
      "metadata": {
        "id": "6167afdb"
      },
      "outputs": [],
      "source": [
        "lr = LinearRegression()  # Criamos o objeto do regressor (não mudamos nenhum hiperpârametro)\n",
        "\n",
        "lr.fit(x_train_escalonado,y_train) # Treinamos o regressor passando apenas o conjunto de dados de treinamento"
      ]
    },
    {
      "cell_type": "markdown",
      "id": "a3876ce5",
      "metadata": {
        "id": "a3876ce5"
      },
      "source": [
        "### Exemplo 2 - Quinto passo: testar e avaliar"
      ]
    },
    {
      "cell_type": "code",
      "execution_count": null,
      "id": "67fbc359",
      "metadata": {
        "id": "67fbc359"
      },
      "outputs": [],
      "source": [
        "from sklearn.metrics import r2_score"
      ]
    },
    {
      "cell_type": "code",
      "execution_count": null,
      "id": "4de2d7ee",
      "metadata": {
        "id": "4de2d7ee"
      },
      "outputs": [],
      "source": [
        "y_predicoes = lr.predict(x_test_escalonado)"
      ]
    },
    {
      "cell_type": "code",
      "execution_count": null,
      "id": "402f7ba9",
      "metadata": {
        "id": "402f7ba9"
      },
      "outputs": [],
      "source": [
        "R2 = r2_score(y_true = y_test,      # Gabarito\n",
        "              y_pred = y_predicoes) # Respostas do algoritmo ao teste realizado\n",
        "print('R2: ', R2)  # Quanto mais próximos de 1 melhor\n",
        "\n",
        "MAE = mean_absolute_error(y_true = y_test,      # Gabarito\n",
        "                          y_pred = y_predicoes) # Respostas do algoritmo ao teste realizado\n",
        "print('MAE: ', MAE)\n",
        "\n",
        "MSE = mean_squared_error(y_true = y_test,      # Gabarito\n",
        "                         y_pred = y_predicoes) # Respostas do algoritmo ao teste realizado\n",
        "print('MSE: ', MSE)\n",
        "print('raiz MSE: ', MSE**0.5)"
      ]
    },
    {
      "cell_type": "markdown",
      "id": "2fa21a98",
      "metadata": {
        "id": "2fa21a98"
      },
      "source": [
        "### Voltando para a análise exploratória\n",
        "\n",
        "Vamos aprender como transformar as colunas através de outras funções matemáticas\n",
        "\n",
        "Nem sempre a relação entre os dados é puramente linear. Por vezes temos relações polinômias, sinusoidais, entre outras.\n",
        "\n",
        "Como podemos adequar nossos dados com relações diferentes para modelos de Regressão Linear?\n",
        "\n",
        "Primeiro vamos tentar ver como nossos dados se relacionam plotando gráficos de dispersão entre as colunas descritivas e colunas alvo:"
      ]
    },
    {
      "cell_type": "code",
      "execution_count": null,
      "id": "0e63e860",
      "metadata": {
        "id": "0e63e860"
      },
      "outputs": [],
      "source": [
        "fig, ax = plt.subplots(1,3, figsize=(12, 4))\n",
        "\n",
        "# Plot de dispersão (scatter)\n",
        "sns.scatterplot(ax = ax[0], data = dados_fifa, x = 'Age',   y='Overall', color='b', alpha=0.5)\n",
        "sns.scatterplot(ax = ax[1], data = dados_fifa, x = 'Value', y='Overall', color='g', alpha=0.5)\n",
        "sns.scatterplot(ax = ax[2], data = dados_fifa, x = 'Wage',  y='Overall', color='r', alpha=0.5)\n",
        "\n",
        "# Aqui estamos explicitamente dando nome aos eixos do gráfico\n",
        "ax[0].set_xlabel('Age'), ax[0].set_ylabel('Overall')\n",
        "ax[1].set_xlabel('Value'), ax[1].set_ylabel('Overall')\n",
        "ax[2].set_xlabel('Wage'), ax[2].set_ylabel('Overall')\n",
        "\n",
        "# Colocando grid\n",
        "ax[0].grid(), ax[1].grid(), ax[2].grid()\n",
        "\n",
        "#ax[1].set_xscale('log')\n",
        "#ax[2].set_xscale('log')\n",
        "\n",
        "# Vamos aumentar a separação entre os gráficos\n",
        "plt.subplots_adjust(wspace = 0.3)\n",
        "\n",
        "# Aumentando o tamanho da fonte (letra)\n",
        "plt.rcParams.update({'font.size': 12})"
      ]
    },
    {
      "cell_type": "markdown",
      "id": "ca5ae827",
      "metadata": {
        "id": "ca5ae827"
      },
      "source": [
        "Nossos gráficos sugerem que o Overall depende mais linearmente do logaritmo de Wage e do logaritmo de Value.\n",
        "\n",
        "O Numpy tem várias funções matemáticas prontas (https://numpy.org/doc/stable/reference/routines.math.html), entre elas o log10, que tira o logaritmo na base 10 do valor passado. Vamos usar essa função para transformar nossos dados."
      ]
    },
    {
      "cell_type": "code",
      "execution_count": null,
      "id": "62390674",
      "metadata": {
        "id": "62390674"
      },
      "outputs": [],
      "source": [
        "import numpy as np # O numpy tem funções matemáticas variadas prontas dentro dele\n",
        "from sklearn.preprocessing import FunctionTransformer  # Módulo para transformar dados por funções"
      ]
    },
    {
      "cell_type": "code",
      "execution_count": null,
      "id": "f4643508",
      "metadata": {
        "id": "f4643508"
      },
      "outputs": [],
      "source": [
        "# Criando nosso transformador\n",
        "transformador = FunctionTransformer(np.log10)"
      ]
    },
    {
      "cell_type": "code",
      "execution_count": null,
      "id": "01d0f2ab",
      "metadata": {
        "id": "01d0f2ab"
      },
      "outputs": [],
      "source": [
        "x1 = dados_fifa['Age']\n",
        "x2 = transformador.transform(dados_fifa['Value'])\n",
        "x3 = transformador.transform(dados_fifa['Wage'])"
      ]
    },
    {
      "cell_type": "code",
      "execution_count": null,
      "id": "fc41d554",
      "metadata": {
        "id": "fc41d554"
      },
      "outputs": [],
      "source": [
        "dados_modelo_log = {'Age':x1,\n",
        "               'log_Value':x2,\n",
        "               'log_Wage':x3,\n",
        "               'Overall':dados_fifa['Overall']\n",
        "            }"
      ]
    },
    {
      "cell_type": "code",
      "execution_count": null,
      "id": "ebf108ce",
      "metadata": {
        "id": "ebf108ce"
      },
      "outputs": [],
      "source": [
        "dados_modelo_log = pd.DataFrame(data=dados_modelo_log)"
      ]
    },
    {
      "cell_type": "code",
      "execution_count": null,
      "id": "539ed562",
      "metadata": {
        "id": "539ed562"
      },
      "outputs": [],
      "source": [
        "dados_modelo_log.describe()"
      ]
    },
    {
      "cell_type": "code",
      "execution_count": null,
      "id": "f9a21070",
      "metadata": {
        "id": "f9a21070"
      },
      "outputs": [],
      "source": [
        "dados_modelo_log.info()"
      ]
    },
    {
      "cell_type": "markdown",
      "id": "1c6da85f",
      "metadata": {
        "id": "1c6da85f"
      },
      "source": [
        "O problema de usar a função logaritmica é que ela não é definida para o zero e valores negativos. Dessa forma ela gera valores -inf quando não consegue calcular. Vamos substituir todos os valores -inf por 0."
      ]
    },
    {
      "cell_type": "code",
      "execution_count": null,
      "id": "0739e0ee",
      "metadata": {
        "id": "0739e0ee"
      },
      "outputs": [],
      "source": [
        "dados_modelo_log.replace([np.inf, -np.inf], 0, inplace=True)"
      ]
    },
    {
      "cell_type": "code",
      "execution_count": null,
      "id": "37188cd2",
      "metadata": {
        "id": "37188cd2"
      },
      "outputs": [],
      "source": [
        "dados_modelo_log.describe()"
      ]
    },
    {
      "cell_type": "code",
      "execution_count": null,
      "id": "d0496141",
      "metadata": {
        "id": "d0496141"
      },
      "outputs": [],
      "source": [
        "fig, ax = plt.subplots(1,3, figsize=(12, 4))\n",
        "\n",
        "# Plot de dispersão (scatter)\n",
        "sns.scatterplot(ax = ax[0], data = dados_modelo_log, x = 'Age',   y='Overall', color='b', alpha=0.5)\n",
        "sns.scatterplot(ax = ax[1], data = dados_modelo_log, x = 'log_Value', y='Overall', color='g', alpha=0.5)\n",
        "sns.scatterplot(ax = ax[2], data = dados_modelo_log, x = 'log_Wage',  y='Overall', color='r', alpha=0.5)\n",
        "\n",
        "# Aqui estamos explicitamente dando nome aos eixos do gráfico\n",
        "ax[0].set_xlabel('Age'), ax[0].set_ylabel('Overall')\n",
        "ax[1].set_xlabel('Value'), ax[1].set_ylabel('Overall')\n",
        "ax[2].set_xlabel('Wage'), ax[2].set_ylabel('Overall')\n",
        "\n",
        "# Colocando grid\n",
        "ax[0].grid(), ax[1].grid(), ax[2].grid()\n",
        "\n",
        "# Vamos aumentar a separação entre os gráficos\n",
        "plt.subplots_adjust(wspace = 0.3)\n",
        "\n",
        "# Aumentando o tamanho da fonte (letra)\n",
        "plt.rcParams.update({'font.size': 12})"
      ]
    },
    {
      "cell_type": "code",
      "execution_count": null,
      "id": "d6ed81e5",
      "metadata": {
        "id": "d6ed81e5"
      },
      "outputs": [],
      "source": [
        "# Removendo os zeros"
      ]
    },
    {
      "cell_type": "code",
      "execution_count": null,
      "id": "ff59f813",
      "metadata": {
        "id": "ff59f813"
      },
      "outputs": [],
      "source": [
        "dados_modelo_log2  = dados_modelo_log[dados_modelo_log['log_Value']>0]\n",
        "dados_modelo_log3  = dados_modelo_log2[dados_modelo_log2['log_Wage']>0]"
      ]
    },
    {
      "cell_type": "markdown",
      "id": "1cef4fa6",
      "metadata": {
        "id": "1cef4fa6"
      },
      "source": [
        "Treinando um algoritmo de Regressão Linear para prever o overall:"
      ]
    },
    {
      "cell_type": "code",
      "execution_count": null,
      "id": "fcd9714b",
      "metadata": {
        "id": "fcd9714b"
      },
      "outputs": [],
      "source": [
        "# Passo 2 - Separando dados\n",
        "x = dados_modelo_log3.drop(columns=['Overall']) # Selecionando 3 colunas\n",
        "y = dados_modelo_log3['Overall']                # Valor alvo\n",
        "x_train, x_test, y_train, y_test = train_test_split(x, y, test_size = 0.2, random_state = 42)\n",
        "\n",
        "# Passo 3 - Escalonamento\n",
        "scaler = StandardScaler() # Criando o objeto de escalonamento\n",
        "scaler.fit(x_train) # Passando os dados de treinamento para encontrar a escala\n",
        "\n",
        "x_train_escalonado = scaler.transform(x_train)\n",
        "x_test_escalonado = scaler.transform(x_test)\n",
        "\n",
        "# Passo 4 - Treinar\n",
        "lr = LinearRegression()  # Criamos o objeto do regressor (não mudamos nenhum hiperpârametro)\n",
        "lr.fit(x_train_escalonado,y_train) # Treinamos o regressor passando apenas o conjunto de dados de treinamento\n",
        "\n",
        "# Passo 5 - Avaliar\n",
        "y_predicoes = lr.predict(x_test_escalonado)\n",
        "\n",
        "R2 = r2_score(y_true = y_test,      # Gabarito\n",
        "              y_pred = y_predicoes) # Respostas do algoritmo ao teste realizado\n",
        "print('R2: ', R2)  # Quanto mais próximos de 1 melhor\n",
        "\n",
        "MAE = mean_absolute_error(y_true = y_test,      # Gabarito\n",
        "                          y_pred = y_predicoes) # Respostas do algoritmo ao teste realizado\n",
        "print('MAE: ', MAE)\n",
        "\n",
        "MSE = mean_squared_error(y_true = y_test,      # Gabarito\n",
        "                         y_pred = y_predicoes) # Respostas do algoritmo ao teste realizado\n",
        "print('MSE: ', MSE)\n",
        "print('raiz MSE: ', MSE**0.5)"
      ]
    },
    {
      "cell_type": "markdown",
      "id": "a25caeab",
      "metadata": {
        "id": "a25caeab"
      },
      "source": [
        "------------------------------\n",
        "## Exercício - Fifa2019 (a)\n",
        "\n",
        "Por que existe um grupo de jogadores com salário igual a zero e valor igual a zero?\n",
        "\n",
        "Quem são eles?"
      ]
    },
    {
      "cell_type": "code",
      "execution_count": null,
      "id": "eb348a73",
      "metadata": {
        "id": "eb348a73"
      },
      "outputs": [],
      "source": [
        "## Coloque seu código aqui"
      ]
    },
    {
      "cell_type": "code",
      "execution_count": null,
      "id": "a65f9cb7",
      "metadata": {
        "id": "a65f9cb7"
      },
      "outputs": [],
      "source": [
        "## Coloque sua resposta aqui"
      ]
    },
    {
      "cell_type": "markdown",
      "id": "e79d0bfc",
      "metadata": {
        "id": "e79d0bfc"
      },
      "source": [
        "------------------------------\n",
        "## Exercício - Fifa2019 (b)\n",
        "\n",
        "Agora queremos repetir o exemplo 2 usando outras colunas de dados, inclusive colunas que não possuem todos os valores para cada jogador.\n",
        "\n",
        "Pense em colunas que você acredita serem importantes para o modelo. Selecione-as.\n",
        "\n",
        "Em seguida, escolha um modelo de Regressão. Pode ser uma Regressão Linear simples, uma Rede Neural Perceptron Multicamada ou uma Regressão Linear modificada para Funções Não Lineares.\n",
        "\n",
        "Qual foi o R² obtido?"
      ]
    },
    {
      "cell_type": "markdown",
      "id": "70b1ad9d",
      "metadata": {
        "id": "70b1ad9d"
      },
      "source": [
        "### Exercício - Primeiro passo: carregar os dados"
      ]
    },
    {
      "cell_type": "code",
      "execution_count": null,
      "id": "deb9f09f",
      "metadata": {
        "id": "deb9f09f"
      },
      "outputs": [],
      "source": [
        "import pandas as pd"
      ]
    },
    {
      "cell_type": "code",
      "execution_count": null,
      "id": "6f6e3188",
      "metadata": {
        "id": "6f6e3188"
      },
      "outputs": [],
      "source": [
        "# Carregando os dados\n",
        "dados_fifa = pd.read_csv('data_fifa2019.csv', index_col = 0)"
      ]
    },
    {
      "cell_type": "code",
      "execution_count": null,
      "id": "a03d54c7",
      "metadata": {
        "id": "a03d54c7"
      },
      "outputs": [],
      "source": [
        "dados_fifa.head(3)"
      ]
    },
    {
      "cell_type": "code",
      "execution_count": null,
      "id": "ff18bc71",
      "metadata": {
        "id": "ff18bc71"
      },
      "outputs": [],
      "source": [
        "# Arrumando as colunas com de Valor, Salário e Peso para serem colunas numéricas\n",
        "dados_fifa['Value'] = convert_currency(dados_fifa.Value)\n",
        "dados_fifa['Wage'] = convert_currency(dados_fifa.Wage)\n",
        "dados_fifa['Weight'] = dados_fifa.Weight.str.rstrip('lbs').astype('float')\n",
        "\n",
        "\n",
        "# Selecionando colunas com valores numéricos\n",
        "colunas_selecionadas = dados_fifa[['Age', 'Potential', 'Value', 'Wage', 'Special', 'International Reputation',\n",
        "                                   'Weight','HeadingAccuracy', 'ShortPassing', 'Volleys', 'Dribbling', 'Curve',\n",
        "                                   'FKAccuracy','LongPassing', 'BallControl', 'Acceleration', 'SprintSpeed',\n",
        "                                   'Agility', 'Reactions', 'Balance', 'ShotPower', 'Jumping', 'Stamina',\n",
        "                                   'Strength', 'LongShots', 'GKPositioning','Aggression', 'Interceptions',\n",
        "                                   'Positioning', 'Vision', 'Penalties','Composure','Marking', 'StandingTackle',\n",
        "                                   'SlidingTackle', 'GKDiving','GKHandling','GKKicking','GKReflexes', 'Overall']]"
      ]
    },
    {
      "cell_type": "code",
      "execution_count": null,
      "id": "f315f452",
      "metadata": {
        "id": "f315f452"
      },
      "outputs": [],
      "source": [
        "# Excluindo desse meu conjunto de colunas selecionadas as linhas que tem algum valor nulo\n",
        "df_fifa_selecionados = colunas_selecionadas.dropna()"
      ]
    },
    {
      "cell_type": "code",
      "execution_count": null,
      "id": "b7d2ac8a",
      "metadata": {
        "id": "b7d2ac8a"
      },
      "outputs": [],
      "source": [
        "df_fifa_selecionados.info()"
      ]
    },
    {
      "cell_type": "code",
      "execution_count": null,
      "id": "365e83d6",
      "metadata": {
        "id": "365e83d6"
      },
      "outputs": [],
      "source": [
        "df_fifa_selecionados.head()"
      ]
    },
    {
      "cell_type": "markdown",
      "id": "3f9c9bd8",
      "metadata": {
        "id": "3f9c9bd8"
      },
      "source": [
        "### Exercício - Segundo passo: separar os dados"
      ]
    },
    {
      "cell_type": "code",
      "execution_count": null,
      "id": "2b03004d",
      "metadata": {
        "id": "2b03004d"
      },
      "outputs": [],
      "source": [
        "## Coloque seu código aqui"
      ]
    },
    {
      "cell_type": "markdown",
      "id": "4011de58",
      "metadata": {
        "id": "4011de58"
      },
      "source": [
        "### Exercício - Terceiro passo: escalonar os dados"
      ]
    },
    {
      "cell_type": "code",
      "execution_count": null,
      "id": "dd42358d",
      "metadata": {
        "id": "dd42358d"
      },
      "outputs": [],
      "source": [
        "## Coloque seu código aqui"
      ]
    },
    {
      "cell_type": "markdown",
      "id": "5f61ede1",
      "metadata": {
        "id": "5f61ede1"
      },
      "source": [
        "### Exercício - Quarto passo: treinar o modelo"
      ]
    },
    {
      "cell_type": "code",
      "execution_count": null,
      "id": "1d479561",
      "metadata": {
        "id": "1d479561"
      },
      "outputs": [],
      "source": [
        "## Coloque seu código aqui"
      ]
    },
    {
      "cell_type": "markdown",
      "id": "468cd1ca",
      "metadata": {
        "id": "468cd1ca"
      },
      "source": [
        "### Exercício - Quinto passo: testar e avaliar"
      ]
    },
    {
      "cell_type": "code",
      "execution_count": null,
      "id": "5d2e7a5c",
      "metadata": {
        "id": "5d2e7a5c"
      },
      "outputs": [],
      "source": [
        "## Coloque seu código aqui"
      ]
    }
  ],
  "metadata": {
    "kernelspec": {
      "display_name": "Python 3",
      "language": "python",
      "name": "python3"
    },
    "language_info": {
      "codemirror_mode": {
        "name": "ipython",
        "version": 3
      },
      "file_extension": ".py",
      "mimetype": "text/x-python",
      "name": "python",
      "nbconvert_exporter": "python",
      "pygments_lexer": "ipython3",
      "version": "3.9.5"
    },
    "colab": {
      "provenance": []
    }
  },
  "nbformat": 4,
  "nbformat_minor": 5
}